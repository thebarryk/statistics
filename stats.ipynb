{
 "cells": [
  {
   "cell_type": "markdown",
   "metadata": {},
   "source": [
    "### Mean\n",
    "\n",
    "The mean, often referred to as the average, is a way to measure the center of a dataset.\n",
    "\n",
    "The average of a set is calculated using a two-step process:\n",
    "\n",
    "Add all of the observations in your dataset.\n",
    "Divide the total sum from step one by the number of points in your dataset.\n",
    "\n",
    "mean = (x(1) + x(2)  ..)/n\n",
    "\n",
    "The equation above is used to calculate mean. x1, x2, … xn are observations from a dataset of n observations.\n",
    "\n",
    "\n"
   ]
  },
  {
   "cell_type": "code",
   "execution_count": 1,
   "metadata": {},
   "outputs": [],
   "source": [
    "# import packages\n",
    "import numpy as np\n",
    "import pandas as pd\n",
    "from matplotlib import pyplot as plt\n",
    "from scipy import stats\n",
    "import seaborn as sns\n",
    "\n",
    "def say(s):\n",
    "    print(s+\": \"+\" \"*max(0,12-len(s)-1)+str(eval(s)))\n",
    "\n",
    "def tell(s):\n",
    "    print(s+\":\\n\"+str(eval(s)))"
   ]
  },
  {
   "cell_type": "markdown",
   "metadata": {},
   "source": [
    "1. use Python to find the average age of the first four authors in Le Monde’s top 100 books."
   ]
  },
  {
   "cell_type": "code",
   "execution_count": 2,
   "metadata": {},
   "outputs": [
    {
     "name": "stdout",
     "output_type": "stream",
     "text": [
      "The sum total is equal to: 163\n",
      "The mean value is equal to: 40.75\n"
     ]
    }
   ],
   "source": [
    "# Set total equal to the sum\n",
    "total = 0\n",
    "total = 29 + 49 + 42 + 43\n",
    "# Set mean_value equal to the mean\n",
    "mean_value = total/4\n",
    "\n",
    "\n",
    "\n",
    "# The following code prints the total and mean\n",
    "print(\"The sum total is equal to: \" + str(total))\n",
    "print(\"The mean value is equal to: \" + str(mean_value))\n"
   ]
  },
  {
   "cell_type": "markdown",
   "metadata": {},
   "source": [
    "2. Use NumPy to calculate the average value of the author_ages array. Save the result to average_age.\n",
    "\n",
    "Does the average age of the authors surprise you? If so, how? Is it older, or younger than you expected?"
   ]
  },
  {
   "cell_type": "code",
   "execution_count": 3,
   "metadata": {},
   "outputs": [],
   "source": [
    "# Read author data\n",
    "greatest_books = pd.read_csv(\"top-hundred-books.csv\")\n",
    "# greatest_books"
   ]
  },
  {
   "cell_type": "code",
   "execution_count": null,
   "metadata": {},
   "outputs": [],
   "source": []
  },
  {
   "cell_type": "code",
   "execution_count": 4,
   "metadata": {},
   "outputs": [
    {
     "name": "stdout",
     "output_type": "stream",
     "text": [
      "The average age of the 100 greatest authors, according to a survey by Le Monde, is: 42.12\n"
     ]
    }
   ],
   "source": [
    "# Set author ages to a NumPy array\n",
    "ages = np.array(greatest_books.Ages)\n",
    "\n",
    "# Use numpy to calculate the average age of the top 100 authors\n",
    "\n",
    "average_age = np.average(ages)\n",
    "\n",
    "print(\"The average age of the 100 greatest authors, according to a survey by Le Monde, is: \" + str(average_age))"
   ]
  },
  {
   "cell_type": "code",
   "execution_count": 5,
   "metadata": {},
   "outputs": [
    {
     "name": "stdout",
     "output_type": "stream",
     "text": [
      "41.0\n"
     ]
    }
   ],
   "source": [
    "# It is not necessary to convert the Series into an np.array\n",
    "median_age = np.median(greatest_books['Ages'])\n",
    "print(median_age)\n"
   ]
  },
  {
   "cell_type": "code",
   "execution_count": 6,
   "metadata": {},
   "outputs": [
    {
     "name": "stdout",
     "output_type": "stream",
     "text": [
      "[27, 27, 29, 32, 37, 38, 41, 42, 43, 49]\n",
      "The ages of the first ten authors is: [29 49 42 43 32 38 37 41 27 27]\n",
      "The mode of the first ten authors is: 27\n",
      "The number of authors who were 27 when their book was published is 2\n"
     ]
    }
   ],
   "source": [
    "# Mode is the common observation\n",
    "# Set first_ten_authors equal to their ages\n",
    "first_ten_authors = np.array([29, 49, 42, 43, 32, 38, 37, 41, 27, 27])\n",
    "print(sorted(first_ten_authors))\n",
    "\n",
    "# Save the mode value to mode_age\n",
    "mode_age = 27\n",
    "\n",
    "# Save the count of authors with the mode age\n",
    "mode_count = 2\n",
    "\n",
    "# Print the sorted array and median value\n",
    "print(\"The ages of the first ten authors is: \" + str(first_ten_authors))\n",
    "print(\"The mode of the first ten authors is: \" + str(mode_age))\n",
    "print(\"The number of authors who were \" + str(mode_age) \\\n",
    "      + \" when their book was published is \" + str(mode_count))"
   ]
  },
  {
   "cell_type": "code",
   "execution_count": 7,
   "metadata": {},
   "outputs": [
    {
     "name": "stdout",
     "output_type": "stream",
     "text": [
      "The mode age and its frequency of authors from Le Monde's 100 greatest books is: 38 and 7\n"
     ]
    }
   ],
   "source": [
    "# The mode is calculated with the SciPy modules (see above)\n",
    "#\n",
    "# stats.mode(nparray) return \\s a list [mode, frequency of mode]\n",
    "# If there;s more tahn 1 mode. it returns the smallest.\n",
    "\n",
    "# Use numpy to calculate the mode age of the top 100 authors\n",
    "\n",
    "author_ages = greatest_books['Ages']\n",
    "mode_age = stats.mode(author_ages)\n",
    "\n",
    "print(\"The mode age and its frequency of authors from Le Monde's 100 greatest books is: \" \\\n",
    "      + str(mode_age[0][0]) + \" and \" + str(mode_age[1][0]))"
   ]
  },
  {
   "cell_type": "code",
   "execution_count": 8,
   "metadata": {},
   "outputs": [
    {
     "data": {
      "image/png": "[encoded data removed]",
      "text/plain": [
       "<Figure size 576x432 with 1 Axes>"
      ]
     },
     "metadata": {
      "needs_background": "light"
     },
     "output_type": "display_data"
    }
   ],
   "source": [
    "fig = plt.figure(figsize=(8,6))\n",
    "ax = plt.axes()\n",
    "plt.hist(ages, edgecolor='black', bins=14, density=True, label=\"Density\", color=(0.3,0.9,0.4,0.6))\n",
    "plt.axvline(average_age, color='red', linewidth=4, label=\"Mean\")\n",
    "plt.axvline(median_age, color='grey', linestyle='dotted', linewidth=4, label=\"Median\")\n",
    "plt.axvline(mode_age[0][0], color='black', linestyle='dashed', linewidth=4, label=\"Mode\")\n",
    "plt.legend()\n",
    "plt.show()"
   ]
  },
  {
   "cell_type": "code",
   "execution_count": 9,
   "metadata": {},
   "outputs": [],
   "source": [
    "## Project"
   ]
  },
  {
   "cell_type": "markdown",
   "metadata": {},
   "source": [
    "Some csv are not provided directly in Codecademy. \n",
    "\n",
    "In Codecademy, run:\n",
    "\n",
    "import re\n",
    "with open('orders.csv') as f:\n",
    "    x = f.readlines()\n",
    "for l in x:\n",
    "  l = re.sub('^[^,]*,', '', l)  # drop extra index column\n",
    "  print(l.rstrip('\\n\\r'))\n",
    "  \n",
    "The result can be copied and pasted directly into file for use with read_csv."
   ]
  },
  {
   "cell_type": "code",
   "execution_count": 10,
   "metadata": {},
   "outputs": [
    {
     "name": "stdout",
     "output_type": "stream",
     "text": [
      "The mean price in Brooklyn is 3327.4\n",
      "The mean price in Manhattan is 3993.48\n",
      "The mean price in Queens is 2346.25\n",
      "The median price in Brooklyn is 3000.0\n",
      "The median price in Manhattan is 3800.0\n",
      "The median price in Queens is 2200.0\n",
      "The mode price in Brooklyn is 2500 and it appears 26 times out of 1013\n",
      "The mode price in Manhattan is 3500 and it appears 56 times out of 1476\n",
      "The mode price in Queens is 1750 and it appears 11 times out of 232\n"
     ]
    }
   ],
   "source": [
    "# Read in housing data\n",
    "brooklyn_one_bed = pd.read_csv('brooklyn-one-bed.csv')\n",
    "brooklyn_price = brooklyn_one_bed['rent']\n",
    "\n",
    "manhattan_one_bed = pd.read_csv('manhattan-one-bed.csv')\n",
    "manhattan_price = manhattan_one_bed['rent']\n",
    "\n",
    "queens_one_bed = pd.read_csv('queens-one-bed.csv')\n",
    "queens_price = queens_one_bed['rent']\n",
    "\n",
    "# Add mean calculations below \n",
    "brooklyn_mean = np.mean(brooklyn_price)\n",
    "manhattan_mean = np.mean(manhattan_price)\n",
    "queens_mean = np.mean(queens_price)\n",
    "\n",
    "# Add median calculations below\n",
    "brooklyn_median = np.median(brooklyn_price)\n",
    "manhattan_median = np.median(manhattan_price)\n",
    "queens_median = np.median(queens_price)\n",
    "\n",
    "# Add mode calculations below\n",
    "brooklyn_mode = stats.mode(brooklyn_price)\n",
    "manhattan_mode = stats.mode(manhattan_price)\n",
    "queens_mode = stats.mode(queens_price)\n",
    "\n",
    "# Don't look below here\n",
    "# Mean\n",
    "try:\n",
    "    print(\"The mean price in Brooklyn is \" + str(round(brooklyn_mean, 2)))\n",
    "except NameError:\n",
    "    print(\"The mean price in Brooklyn is not yet defined.\")\n",
    "try:\n",
    "    print(\"The mean price in Manhattan is \" + str(round(manhattan_mean, 2)))\n",
    "except NameError:\n",
    "    print(\"The mean in Manhattan is not yet defined.\")\n",
    "try:\n",
    "    print(\"The mean price in Queens is \" + str(round(queens_mean, 2)))\n",
    "except NameError:\n",
    "    print(\"The mean price in Queens is not yet defined.\")\n",
    "    \n",
    "    \n",
    "# Median\n",
    "try:\n",
    "    print(\"The median price in Brooklyn is \" + str(brooklyn_median))\n",
    "except NameError:\n",
    "    print(\"The median price in Brooklyn is not yet defined.\")\n",
    "try:\n",
    "    print(\"The median price in Manhattan is \" + str(manhattan_median))\n",
    "except NameError:\n",
    "    print(\"The median price in Manhattan is not yet defined.\")\n",
    "try:\n",
    "    print(\"The median price in Queens is \" + str(queens_median))\n",
    "except NameError:\n",
    "    print(\"The median price in Queens is not yet defined.\")\n",
    "    \n",
    "    \n",
    "#Mode\n",
    "try:\n",
    "    print(\"The mode price in Brooklyn is \" + str(brooklyn_mode[0][0]) + \" and it appears \" + str(brooklyn_mode[1][0]) + \" times out of \" + str(len(brooklyn_price)))\n",
    "except NameError:\n",
    "    print(\"The mode price in Brooklyn is not yet defined.\")\n",
    "try:\n",
    "    print(\"The mode price in Manhattan is \" + str(manhattan_mode[0][0]) + \" and it appears \" + str(manhattan_mode[1][0]) + \" times out of \" + str(len(manhattan_price)))\n",
    "except NameError:\n",
    "    print(\"The mode price in Manhattan is not yet defined.\")\n",
    "try:\n",
    "    print(\"The mode price in Queens is \" + str(queens_mode[0][0]) + \" and it appears \" + str(queens_mode[1][0]) + \" times out of \" + str(len(queens_price)))\n",
    "except NameError:\n",
    "    print(\"The mode price in Queens is not yet defined.\")\n",
    "\n",
    "\n",
    "\n",
    "\n",
    "\n",
    "\n"
   ]
  },
  {
   "cell_type": "code",
   "execution_count": 11,
   "metadata": {},
   "outputs": [
    {
     "data": {
      "image/png": "[encoded data removed]",
      "text/plain": [
       "<Figure size 576x432 with 1 Axes>"
      ]
     },
     "metadata": {
      "needs_background": "light"
     },
     "output_type": "display_data"
    },
    {
     "data": {
      "image/png": "[encoded data removed]",
      "text/plain": [
       "<Figure size 576x432 with 1 Axes>"
      ]
     },
     "metadata": {
      "needs_background": "light"
     },
     "output_type": "display_data"
    },
    {
     "data": {
      "image/png": "[encoded data removed]",
      "text/plain": [
       "<Figure size 576x432 with 1 Axes>"
      ]
     },
     "metadata": {
      "needs_background": "light"
     },
     "output_type": "display_data"
    }
   ],
   "source": [
    "# Draw some histograms\n",
    "\n",
    "fig = plt.figure(figsize=(8,6))\n",
    "ax = plt.axes()\n",
    "plt.hist(brooklyn_price, edgecolor='green', bins=50, density=True, \\\n",
    "         label=\"Brooklyn\", histtype='step', linewidth=3)\n",
    "plt.axvline(brooklyn_mean, color='red', linewidth=2, label=\"Mean\")\n",
    "plt.axvline(brooklyn_median, color='blue', linewidth=2, label=\"Median\")\n",
    "plt.axvline(brooklyn_mode[0][0], color='black', linewidth=2, label=\"Mode\")\n",
    "plt.legend()\n",
    "\n",
    "fig = plt.figure(figsize=(8,6))\n",
    "ax = plt.axes()\n",
    "plt.hist(manhattan_price, edgecolor='green', bins=50, \\\n",
    "         density=True, label=\"Manhattan\", histtype='step', linewidth=3)\n",
    "plt.axvline(manhattan_mean, color='red', linewidth=2, label=\"Mean\")\n",
    "plt.axvline(manhattan_median, color='blue', linewidth=2, label=\"Median\")\n",
    "plt.axvline(manhattan_mode[0][0], color='black', linewidth=2, label=\"Mode\")\n",
    "plt.legend()\n",
    "\n",
    "fig = plt.figure(figsize=(8,6))\n",
    "ax = plt.axes()\n",
    "plt.hist(queens_price, edgecolor='green', bins=50, density=True, \\\n",
    "         label=\"Queens\", histtype='step', linewidth=3)\n",
    "plt.axvline(queens_mean, color='red', linewidth=2, label=\"Mean\")\n",
    "plt.axvline(queens_median, color='blue', linewidth=2, label=\"Median\")\n",
    "plt.axvline(queens_mode[0][0], color='black', linewidth=2, label=\"Mode\")\n",
    "plt.legend()\n",
    "plt.show()"
   ]
  },
  {
   "cell_type": "code",
   "execution_count": 12,
   "metadata": {},
   "outputs": [],
   "source": [
    "### Variance\n",
    "\n"
   ]
  },
  {
   "cell_type": "code",
   "execution_count": 13,
   "metadata": {},
   "outputs": [
    {
     "name": "stdout",
     "output_type": "stream",
     "text": [
      "The mean of the data set is 85.8\n",
      "\n",
      "The first student is 2.2 percentage points away from the mean.\n",
      "The second student is -3.8 percentage points away from the mean.\n",
      "The third student is -0.8 percentage points away from the mean.\n",
      "The fourth student is -1.8 percentage points away from the mean.\n",
      "The fifth student is 4.2 percentage points away from the mean.\n"
     ]
    }
   ],
   "source": [
    "# Distances of each value from mean\n",
    "grades = [88, 82, 85, 84, 90]\n",
    "mean = np.mean(grades)\n",
    "\n",
    "difference_one = grades[0]-mean\n",
    "difference_two = grades[1]-mean\n",
    "difference_three = grades[2]-mean\n",
    "difference_four = grades[3]-mean\n",
    "difference_five = grades[4]-mean\n",
    "\n",
    "\n",
    "# IGNORE CODE BELOW HERE\n",
    "print(\"The mean of the data set is \" + str(mean) + \"\\n\")\n",
    "print(\"The first student is \" +str(round(difference_one, 2)) + \" percentage points away from the mean.\")\n",
    "print(\"The second student is \" +str(round(difference_two, 2)) + \" percentage points away from the mean.\")\n",
    "print(\"The third student is \" +str(round(difference_three, 2)) + \" percentage points away from the mean.\")\n",
    "print(\"The fourth student is \" +str(round(difference_four, 2)) + \" percentage points away from the mean.\")\n",
    "print(\"The fifth student is \" +str(round(difference_five, 2)) + \" percentage points away from the mean.\")"
   ]
  },
  {
   "cell_type": "code",
   "execution_count": 14,
   "metadata": {},
   "outputs": [
    {
     "name": "stdout",
     "output_type": "stream",
     "text": [
      "The sum of the differences is 0.000000\n",
      "The average difference is 0.000000\n"
     ]
    }
   ],
   "source": [
    "# Average distances\n",
    "\n",
    "#Part 1: Sum the differences\n",
    "difference_sum = difference_one + difference_two + difference_three + difference_four + difference_five\n",
    "\n",
    "#Part 2: Average the differences\n",
    "average_difference = difference_sum/5\n",
    "\n",
    "#IGNORE CODE BELOW HERE\n",
    "print(\"The sum of the differences is \" + str(format(difference_sum, \"f\")))\n",
    "print(\"The average difference is \" + str(format(average_difference, \"f\")))"
   ]
  },
  {
   "cell_type": "code",
   "execution_count": 15,
   "metadata": {},
   "outputs": [
    {
     "name": "stdout",
     "output_type": "stream",
     "text": [
      "The sum of the squared differences is 40.8\n",
      "The variance is 8.16\n"
     ]
    }
   ],
   "source": [
    "# Square the differences\n",
    "difference_sum = difference_one**2 + difference_two**2 + difference_three**2 \\\n",
    "+ difference_four**2 + difference_five**2\n",
    "\n",
    "variance = difference_sum / 5\n",
    "\n",
    "print(\"The sum of the squared differences is \" + str(difference_sum))\n",
    "print(\"The variance is \" + str(variance))"
   ]
  },
  {
   "cell_type": "code",
   "execution_count": 16,
   "metadata": {},
   "outputs": [
    {
     "data": {
      "image/png": "[encoded data removed]",
      "text/plain": [
       "<Figure size 432x288 with 1 Axes>"
      ]
     },
     "metadata": {
      "needs_background": "light"
     },
     "output_type": "display_data"
    },
    {
     "name": "stdout",
     "output_type": "stream",
     "text": [
      "The mean of the test scores in teacher one's class is 84.46766666666666\n",
      "The mean of the test scores in teacher two's class is 84.29799999999999\n",
      "The variance of the test scores in teacher one's class is 4.266517888888889\n",
      "The variance of the test scores in teacher two's class is 78.13198933333337\n"
     ]
    }
   ],
   "source": [
    "# Variance in numpy\n",
    "teacher_one_grades = [80.24, 81.15, 81.29, 82.12, 82.52, 82.54, 82.76, 83.37, 83.42, 83.45, 83.47, 83.79, 83.91, 83.98, 84.03, 84.69, 84.74, 84.89, 84.95, 84.95, 85.02, 85.18, 85.53, 86.29, 86.83, 87.29, 87.47, 87.62, 88.04, 88.5]\n",
    "teacher_two_grades = [65.82, 70.77, 71.46, 73.63, 74.62, 76.53, 76.86, 77.06, 78.46, 79.81, 80.64, 81.61, 81.84, 83.67, 84.44, 84.73, 84.74, 85.15, 86.55, 88.06, 88.53, 90.12, 91.27, 91.62, 92.86, 94.37, 95.64, 95.99, 97.69, 104.4]\n",
    "\n",
    "#Set these two variables equal to the variance of each dataset using NumPy\n",
    "teacher_one_variance = np.var(teacher_one_grades)\n",
    "teacher_two_variance = np.var(teacher_two_grades)\n",
    "\n",
    "\n",
    "\n",
    "#IGNORE THE CODE BELOW HERE\n",
    "plt.hist(teacher_one_grades, alpha = 0.75, label = \"Teacher 1 Scores\", bins = 7)\n",
    "plt.hist(teacher_two_grades, alpha = 0.5, label = \"Teacher 2 Scores\", bins = 30)\n",
    "plt.title(\"Student test grades in two different classes\")\n",
    "plt.xlabel(\"Grades\")\n",
    "plt.legend()\n",
    "plt.show()\n",
    "\n",
    "print(\"The mean of the test scores in teacher one's class is \" + str(np.mean(teacher_one_grades)))\n",
    "print(\"The mean of the test scores in teacher two's class is \" + str(np.mean(teacher_two_grades)))\n",
    "\n",
    "print(\"The variance of the test scores in teacher one's class is \" +str(teacher_one_variance))\n",
    "print(\"The variance of the test scores in teacher two's class is \" +str(teacher_two_variance))"
   ]
  },
  {
   "cell_type": "code",
   "execution_count": 17,
   "metadata": {},
   "outputs": [
    {
     "name": "stdout",
     "output_type": "stream",
     "text": [
      "The standard deviation of the NBA dataset is 3.6501704069810224\n",
      "The standard deviation of the OkCupid dataset is 3.924360330041063\n"
     ]
    }
   ],
   "source": [
    "# Standard Deviation\n",
    "nba_data = [82.0, 81.0, 86.0, 73.0, 78.0, 81.0, 79.0, 75.0, 75.0, 78.0, 77.0, 72.0, 83.0, 78.0, 79.0, 81.0, 78.0, 77.0, 76.0, 77.0, 70.0, 84.0, 79.0, 82.0, 73.0, 79.0, 77.0, 77.0, 78.0, 74.0, 76.0, 79.0, 86.0, 82.0, 71.0, 85.0, 80.0, 81.0, 82.0, 83.0, 83.0, 83.0, 80.0, 73.0, 77.0, 79.0, 80.0, 81.0, 74.0, 80.0, 81.0, 82.0, 76.0, 75.0, 81.0, 74.0, 82.0, 80.0, 77.0, 76.0, 78.0, 78.0, 83.0, 81.0, 78.0, 83.0, 74.0, 82.0, 82.0, 80.0, 81.0, 81.0, 75.0, 82.0, 83.0, 78.0, 74.0, 78.0, 74.0, 82.0, 74.0, 77.0, 75.0, 81.0, 82.0, 80.0, 78.0, 77.0, 78.0, 72.0, 79.0, 81.0, 71.0, 78.0, 82.0, 79.0, 82.0, 78.0, 79.0, 79.0, 86.0, 79.0, 82.0, 79.0, 84.0, 83.0, 79.0, 80.0, 72.0, 81.0, 83.0, 80.0, 73.0, 83.0, 76.0, 83.0, 73.0, 75.0, 80.0, 75.0, 80.0, 76.0, 81.0, 74.0, 80.0, 77.0, 71.0, 72.0, 83.0, 75.0, 77.0, 74.0, 77.0, 74.0, 81.0, 76.0, 79.0, 84.0, 78.0, 79.0, 74.0, 74.0, 71.0, 72.0, 70.0, 80.0, 72.0, 82.0, 82.0, 72.0, 81.0, 81.0, 73.0, 74.0, 82.0, 82.0, 81.0, 77.0, 77.0, 81.0, 84.0, 74.0, 78.0, 75.0, 76.0, 85.0, 72.0, 84.0, 77.0, 81.0, 83.0, 78.0, 81.0, 81.0, 73.0, 73.0, 72.0, 76.0, 83.0, 76.0, 80.0, 80.0, 78.0, 79.0, 76.0, 79.0, 74.0, 82.0, 81.0, 81.0, 78.0, 75.0, 77.0, 72.0, 84.0, 74.0, 83.0, 78.0, 73.0, 78.0, 80.0, 75.0, 80.0, 80.0, 79.0, 76.0, 76.0, 75.0, 73.0, 76.0, 76.0, 75.0, 75.0, 76.0, 70.0, 75.0, 74.0, 84.0, 71.0, 78.0, 77.0, 76.0, 79.0, 77.0, 84.0, 78.0, 77.0, 79.0, 80.0, 80.0, 81.0, 83.0, 76.0, 82.0, 80.0, 83.0, 80.0, 74.0, 78.0, 82.0, 76.0, 80.0, 77.0, 70.0, 80.0, 75.0, 77.0, 78.0, 82.0, 74.0, 77.0, 75.0, 77.0, 81.0, 75.0, 70.0, 77.0, 82.0, 81.0, 77.0, 81.0, 81.0, 72.0, 81.0, 73.0, 76.0, 79.0, 73.0, 79.0, 84.0, 78.0, 81.0, 79.0, 77.0, 75.0, 77.0, 81.0, 77.0, 73.0, 72.0, 83.0, 78.0, 75.0, 76.0, 85.0, 83.0, 80.0, 84.0, 78.0, 80.0, 72.0, 78.0, 79.0, 75.0, 72.0, 79.0, 80.0, 83.0, 82.0, 81.0, 71.0, 80.0, 80.0, 80.0, 80.0, 82.0, 71.0, 71.0, 73.0, 89.0, 74.0, 75.0, 71.0, 73.0, 73.0, 73.0, 83.0, 79.0, 79.0, 81.0, 75.0, 75.0, 80.0, 81.0, 78.0, 78.0, 81.0, 75.0, 75.0, 81.0, 82.0, 85.0, 77.0, 77.0, 81.0, 82.0, 78.0, 78.0, 78.0, 72.0, 76.0, 79.0, 75.0, 76.0, 72.0, 73.0, 76.0, 79.0, 83.0, 72.0, 73.0, 74.0, 81.0, 78.0, 81.0, 84.0, 76.0, 76.0, 72.0, 76.0, 76.0, 84.0, 77.0, 78.0, 80.0, 63.0, 84.0, 81.0, 91.0, 77.0, 81.0, 76.0, 80.0, 74.0, 77.0, 76.0, 77.0, 80.0, 82.0, 82.0, 78.0, 73.0, 80.0, 82.0, 74.0, 83.0, 78.0, 80.0, 81.0, 84.0, 77.0, 80.0, 80.0, 77.0, 83.0, 79.0, 80.0, 81.0, 84.0, 76.0, 82.0, 79.0, 79.0, 80.0, 78.0, 85.0, 82.0, 77.0, 82.0, 77.0, 73.0, 74.0, 77.0, 65.0, 82.0, 78.0, 78.0, 73.0, 82.0, 80.0, 78.0, 78.0, 74.0, 71.0, 77.0, 77.0, 78.0, 80.0, 75.0, 82.0, 90.0, 83.0, 82.0, 80.0, 80.0, 82.0, 79.0, 80.0, 71.0, 77.0, 82.0, 79.0, 73.0, 74.0, 77.0, 79.0, 74.0, 78.0, 75.0, 87.0, 81.0, 76.0, 81.0, 76.0, 79.0, 86.0, 73.0, 81.0, 77.0, 78.0, 74.0, 76.0, 77.0, 79.0, 76.0, 74.0, 84.0, 76.0, 79.0, 76.0, 77.0, 76.0, 76.0, 76.0, 72.0, 78.0, 78.0, 77.0, 79.0, 71.0, 81.0, 79.0, 76.0, 74.0, 79.0, 81.0, 74.0, 73.0, 72.0, 79.0, 77.0, 84.0, 75.0, 78.0, 76.0, 72.0, 76.0, 79.0, 79.0, 79.0, 83.0, 69.0, 75.0, 83.0, 77.0, 75.0, 75.0, 81.0, 75.0, 83.0, 74.0, 80.0, 82.0, 77.0, 83.0, 76.0, 75.0, 77.0, 74.0, 78.0, 82.0, 78.0, 78.0, 72.0, 76.0, 79.0, 73.0, 81.0, 78.0, 81.0, 82.0, 84.0, 81.0, 75.0, 79.0, 78.0, 81.0, 76.0, 75.0, 78.0, 79.0, 77.0, 78.0, 77.0, 82.0, 79.0, 84.0, 78.0, 72.0, 79.0, 80.0, 74.0, 83.0, 73.0, 77.0, 78.0, 73.0, 75.0, 86.0, 75.0, 74.0, 80.0, 75.0, 79.0, 77.0, 80.0, 79.0, 78.0, 80.0, 74.0, 76.0, 80.0, 74.0, 74.0, 79.0, 83.0, 82.0, 80.0, 74.0, 77.0, 79.0, 75.0, 79.0, 84.0, 72.0, 79.0, 79.0, 75.0, 73.0, 83.0, 79.0, 81.0, 80.0, 81.0, 73.0, 78.0, 75.0, 80.0, 82.0, 77.0, 77.0, 75.0, 79.0, 73.0, 73.0, 78.0, 70.0, 72.0, 79.0, 83.0, 83.0, 79.0, 72.0, 76.0, 82.0, 81.0, 79.0, 80.0, 69.0, 77.0, 75.0, 77.0, 77.0, 83.0, 72.0, 75.0, 79.0, 77.0, 81.0, 76.0, 77.0, 75.0, 79.0, 78.0, 75.0, 78.0, 80.0, 84.0, 78.0, 82.0, 73.0, 77.0, 75.0, 76.0, 77.0, 76.0, 77.0, 75.0, 77.0, 78.0, 78.0, 85.0, 80.0, 77.0, 80.0, 80.0, 75.0, 81.0, 81.0, 80.0, 78.0, 83.0, 81.0, 84.0, 84.0, 81.0, 85.0, 78.0, 76.0, 71.0, 72.0, 74.0, 78.0, 85.0, 77.0, 82.0, 82.0, 85.0, 80.0, 77.0, 75.0, 76.0, 78.0, 80.0, 75.0, 79.0, 79.0, 73.0, 75.0, 72.0, 79.0, 82.0, 80.0, 74.0, 75.0, 74.0, 83.0, 82.0, 76.0, 77.0, 82.0, 78.0, 77.0, 81.0, 75.0, 77.0, 74.0, 78.0, 74.0, 76.0, 82.0, 75.0, 83.0, 76.0, 79.0, 77.0, 76.0, 81.0, 76.0, 84.0, 71.0, 75.0, 74.0, 78.0, 78.0, 78.0, 77.0, 87.0, 74.0, 82.0, 79.0, 78.0, 75.0, 84.0, 74.0, 81.0, 82.0, 80.0, 79.0, 80.0, 73.0, 84.0, 76.0, 78.0, 78.0, 76.0, 83.0, 84.0, 74.0, 82.0, 78.0, 71.0, 84.0, 78.0, 72.0, 82.0, 77.0, 72.0, 75.0, 74.0, 80.0, 77.0, 81.0, 77.0, 73.0, 80.0, 75.0, 73.0, 77.0, 82.0, 77.0, 76.0, 76.0, 77.0, 74.0, 81.0, 75.0, 70.0, 81.0, 77.0, 75.0, 82.0, 80.0, 73.0, 74.0, 77.0, 80.0, 75.0, 81.0, 77.0, 73.0, 82.0, 77.0, 82.0, 82.0, 81.0, 78.0, 78.0, 78.0, 72.0, 77.0, 72.0, 83.0, 73.0, 81.0, 73.0, 79.0, 77.0, 79.0, 84.0, 73.0, 80.0, 83.0, 83.0, 73.0, 81.0, 81.0, 74.0, 76.0, 78.0, 78.0, 78.0, 81.0, 76.0, 77.0, 77.0, 76.0, 80.0, 84.0, 75.0, 72.0, 68.0, 70.0, 79.0, 77.0, 76.0, 82.0, 83.0, 76.0, 81.0, 82.0, 81.0, 82.0, 73.0, 73.0, 73.0, 79.0, 77.0, 78.0, 79.0, 81.0, 81.0, 75.0, 78.0, 80.0, 82.0, 76.0, 83.0, 82.0, 72.0, 81.0, 81.0, 72.0, 76.0, 84.0, 75.0, 77.0, 74.0, 75.0, 85.0, 75.0, 84.0, 77.0, 75.0, 83.0, 76.0, 83.0, 72.0, 78.0, 76.0, 80.0, 79.0, 78.0, 81.0, 76.0, 77.0, 77.0, 79.0, 73.0, 79.0, 84.0, 77.0, 82.0, 70.0, 80.0, 84.0, 75.0, 81.0, 82.0, 73.0, 82.0, 82.0, 81.0, 74.0, 75.0, 81.0, 75.0, 79.0, 75.0, 79.0, 79.0, 74.0, 83.0, 83.0, 80.0, 82.0, 76.0, 81.0, 79.0, 77.0, 81.0, 74.0, 80.0, 80.0, 78.0, 79.0, 78.0, 79.0, 75.0, 82.0, 79.0, 83.0, 76.0, 79.0, 78.0, 78.0, 81.0, 80.0, 78.0, 78.0, 80.0, 77.0, 83.0, 74.0, 77.0, 78.0, 81.0, 72.0, 79.0, 78.0, 83.0, 80.0, 77.0, 76.0, 73.0, 78.0, 82.0, 84.0, 80.0, 80.0, 74.0, 75.0, 78.0, 81.0, 76.0, 75.0, 81.0, 78.0, 73.0, 76.0, 78.0, 77.0, 81.0, 75.0, 74.0, 81.0, 80.0, 74.0, 71.0, 82.0, 75.0, 72.0, 79.0, 73.0, 77.0, 78.0, 76.0, 81.0, 80.0, 79.0, 74.0, 72.0, 80.0, 76.0, 77.0, 75.0, 79.0, 73.0, 82.0, 73.0]\n",
    "okcupid_data = [75.0, 70.0, 68.0, 71.0, 66.0, 67.0, 65.0, 65.0, 67.0, 65.0, 70.0, 72.0, 72.0, 66.0, 62.0, 65.0, 70.0, 64.0, 71.0, 72.0, 67.0, 67.0, 69.0, 71.0, 73.0, 70.0, 72.0, 67.0, 74.0, 68.0, 64.0, 72.0, 67.0, 60.0, 69.0, 69.0, 69.0, 69.0, 63.0, 74.0, 76.0, 72.0, 75.0, 71.0, 66.0, 69.0, 73.0, 70.0, 67.0, 66.0, 66.0, 65.0, 69.0, 69.0, 69.0, 70.0, 71.0, 72.0, 70.0, 71.0, 67.0, 75.0, 70.0, 67.0, 72.0, 68.0, 65.0, 66.0, 69.0, 76.0, 62.0, 67.0, 73.0, 61.0, 72.0, 67.0, 72.0, 65.0, 67.0, 71.0, 67.0, 69.0, 69.0, 64.0, 73.0, 68.0, 66.0, 61.0, 71.0, 64.0, 74.0, 74.0, 67.0, 69.0, 67.0, 78.0, 75.0, 70.0, 66.0, 72.0, 71.0, 68.0, 69.0, 70.0, 63.0, 65.0, 64.0, 72.0, 64.0, 66.0, 68.0, 71.0, 74.0, 66.0, 70.0, 72.0, 68.0, 67.0, 65.0, 66.0, 71.0, 75.0, 66.0, 70.0, 62.0, 68.0, 73.0, 68.0, 71.0, 66.0, 69.0, 68.0, 68.0, 68.0, 68.0, 67.0, 75.0, 73.0, 67.0, 73.0, 62.0, 73.0, 73.0, 74.0, 63.0, 67.0, 70.0, 66.0, 64.0, 67.0, 63.0, 68.0, 68.0, 75.0, 73.0, 61.0, 62.0, 68.0, 69.0, 63.0, 62.0, 66.0, 66.0, 66.0, 72.0, 74.0, 72.0, 63.0, 68.0, 66.0, 66.0, 70.0, 73.0, 63.0, 69.0, 66.0, 68.0, 72.0, 68.0, 71.0, 69.0, 66.0, 68.0, 70.0, 74.0, 63.0, 66.0, 60.0, 67.0, 79.0, 61.0, 69.0, 69.0, 67.0, 71.0, 63.0, 67.0, 63.0, 64.0, 62.0, 65.0, 67.0, 66.0, 63.0, 63.0, 69.0, 71.0, 69.0, 67.0, 66.0, 62.0, 72.0, 69.0, 69.0, 59.0, 74.0, 70.0, 65.0, 70.0, 66.0, 70.0, 64.0, 69.0, 63.0, 62.0, 68.0, 71.0, 71.0, 69.0, 70.0, 72.0, 66.0, 65.0, 65.0, 68.0, 68.0, 62.0, 72.0, 63.0, 73.0, 67.0, 65.0, 69.0, 80.0, 61.0, 63.0, 73.0, 63.0, 71.0, 62.0, 68.0, 72.0, 65.0, 67.0, 67.0, 68.0, 67.0, 67.0, 62.0, 63.0, 64.0, 72.0, 62.0, 66.0, 67.0, 62.0, 69.0, 69.0, 64.0, 62.0, 70.0, 64.0, 63.0, 67.0, 68.0, 67.0, 65.0, 67.0, 64.0, 71.0, 80.0, 60.0, 71.0, 69.0, 67.0, 64.0, 62.0, 63.0, 61.0, 69.0, 76.0, 70.0, 72.0, 63.0, 69.0, 72.0, 70.0, 73.0, 62.0, 62.0, 72.0, 66.0, 65.0, 70.0, 71.0, 71.0, 64.0, 63.0, 75.0, 70.0, 73.0, 68.0, 69.0, 64.0, 68.0, 68.0, 74.0, 61.0, 66.0, 62.0, 67.0, 72.0, 67.0, 64.0, 68.0, 63.0, 69.0, 68.0, 65.0, 66.0, 62.0, 72.0, 70.0, 69.0, 64.0, 63.0, 60.0, 65.0, 67.0, 72.0, 71.0, 73.0, 68.0, 62.0, 69.0, 71.0, 66.0, 72.0, 68.0, 73.0, 67.0, 75.0, 74.0, 74.0, 68.0, 64.0, 75.0, 63.0, 65.0, 72.0, 68.0, 69.0, 73.0, 70.0, 69.0, 73.0, 69.0, 71.0, 73.0, 63.0, 67.0, 64.0, 71.0, 72.0, 74.0, 72.0, 71.0, 64.0, 66.0, 74.0, 68.0, 70.0, 68.0, 76.0, 72.0, 70.0, 67.0, 64.0, 68.0, 66.0, 69.0, 72.0, 61.0, 74.0, 64.0, 66.0, 73.0, 76.0, 71.0, 69.0, 71.0, 71.0, 91.0, 74.0, 62.0, 67.0, 62.0, 71.0, 70.0, 72.0, 72.0, 64.0, 72.0, 68.0, 68.0, 71.0, 66.0, 67.0, 68.0, 61.0, 73.0, 71.0, 71.0, 64.0, 72.0, 67.0, 65.0, 74.0, 68.0, 61.0, 71.0, 67.0, 65.0, 79.0, 61.0, 66.0, 76.0, 69.0, 70.0, 65.0, 72.0, 71.0, 71.0, 62.0, 70.0, 72.0, 70.0, 69.0, 71.0, 70.0, 65.0, 64.0, 68.0, 68.0, 67.0, 64.0, 72.0, 61.0, 64.0, 72.0, 64.0, 70.0, 63.0, 72.0, 66.0, 65.0, 64.0, 65.0, 64.0, 64.0, 63.0, 63.0, 66.0, 70.0, 70.0, 67.0, 70.0, 68.0, 73.0, 64.0, 64.0, 71.0, 71.0, 62.0, 67.0, 67.0, 70.0, 66.0, 72.0, 70.0, 72.0, 66.0, 63.0, 70.0, 71.0, 68.0, 64.0, 70.0, 68.0, 69.0, 74.0, 72.0, 75.0, 65.0, 73.0, 69.0, 62.0, 64.0, 68.0, 70.0, 67.0, 72.0, 69.0, 68.0, 71.0, 72.0, 68.0, 72.0, 75.0, 67.0, 68.0, 67.0, 73.0, 72.0, 76.0, 68.0, 72.0, 67.0, 66.0, 71.0, 69.0, 64.0, 75.0, 69.0, 67.0, 70.0, 71.0, 74.0, 69.0, 68.0, 60.0, 68.0, 70.0, 70.0, 60.0, 67.0, 83.0, 70.0, 59.0, 71.0, 77.0, 69.0, 76.0, 71.0, 68.0, 70.0, 70.0, 62.0, 70.0, 66.0, 72.0, 73.0, 68.0, 72.0, 66.0, 70.0, 68.0, 76.0, 67.0, 68.0, 74.0, 67.0, 60.0, 70.0, 63.0, 68.0, 71.0, 73.0, 72.0, 68.0, 77.0, 73.0, 68.0, 66.0, 65.0, 69.0, 71.0, 61.0, 68.0, 63.0, 63.0, 72.0, 66.0, 64.0, 63.0, 68.0, 69.0, 67.0, 63.0, 74.0, 68.0, 67.0, 67.0, 63.0, 64.0, 67.0, 72.0, 72.0, 65.0, 68.0, 69.0, 69.0, 74.0, 73.0, 72.0, 63.0, 68.0, 68.0, 75.0, 73.0, 68.0, 67.0, 73.0, 64.0, 71.0, 64.0, 63.0, 71.0, 64.0, 74.0, 69.0, 73.0, 71.0, 73.0, 74.0, 68.0, 64.0, 65.0, 74.0, 64.0, 70.0, 75.0, 61.0, 70.0, 70.0, 63.0, 71.0, 62.0, 70.0, 69.0, 68.0, 71.0, 61.0, 69.0, 68.0, 71.0, 71.0, 72.0, 69.0, 66.0, 70.0, 70.0, 73.0, 73.0, 69.0, 67.0, 69.0, 68.0, 67.0, 70.0, 70.0, 62.0, 64.0, 69.0, 68.0, 68.0, 70.0, 68.0, 67.0, 63.0, 66.0, 70.0, 72.0, 70.0, 75.0, 71.0, 63.0, 71.0, 72.0, 76.0, 68.0, 70.0, 73.0, 70.0, 68.0, 67.0, 69.0, 72.0, 74.0, 64.0, 63.0, 67.0, 67.0, 72.0, 74.0, 72.0, 65.0, 62.0, 69.0, 73.0, 70.0, 67.0, 69.0, 72.0, 74.0, 67.0, 72.0, 70.0, 64.0, 74.0, 73.0, 65.0, 70.0, 64.0, 62.0, 64.0, 67.0, 74.0, 67.0, 68.0, 64.0, 73.0, 66.0, 72.0, 69.0, 62.0, 69.0, 75.0, 68.0, 64.0, 70.0, 69.0, 76.0, 73.0, 60.0, 70.0, 64.0, 64.0, 71.0, 68.0, 70.0, 71.0, 69.0, 68.0, 64.0, 72.0, 73.0, 69.0, 69.0, 67.0, 65.0, 69.0, 69.0, 72.0, 68.0, 74.0, 75.0, 68.0, 73.0, 60.0, 73.0, 69.0, 70.0, 68.0, 71.0, 72.0, 71.0, 74.0, 68.0, 68.0, 70.0, 60.0, 70.0, 74.0, 68.0, 72.0, 71.0, 69.0, 69.0, 64.0, 65.0, 76.0, 74.0, 70.0, 70.0, 73.0, 63.0, 71.0, 66.0, 74.0, 69.0, 67.0, 64.0, 73.0, 69.0, 68.0, 72.0, 68.0, 68.0, 68.0, 64.0, 66.0, 64.0, 72.0, 70.0, 65.0, 67.0, 73.0, 76.0, 68.0, 70.0, 71.0, 68.0, 70.0, 72.0, 74.0, 67.0, 70.0, 71.0, 72.0, 68.0, 71.0, 72.0, 70.0, 65.0, 72.0, 68.0, 72.0, 63.0, 69.0, 75.0, 66.0, 72.0, 70.0, 74.0, 72.0, 68.0, 69.0, 65.0, 71.0, 64.0, 72.0, 70.0, 70.0, 69.0, 67.0, 64.0, 68.0, 73.0, 66.0, 61.0, 76.0, 75.0, 72.0, 70.0, 66.0, 69.0, 63.0, 66.0, 68.0, 73.0, 73.0, 64.0, 68.0, 68.0, 67.0, 67.0, 70.0, 63.0, 72.0, 72.0, 67.0, 66.0, 63.0, 73.0, 65.0, 76.0, 66.0, 74.0, 65.0, 71.0, 68.0, 70.0, 62.0, 65.0, 67.0, 64.0, 62.0, 66.0, 70.0, 66.0, 67.0, 72.0, 67.0, 73.0, 65.0, 72.0, 66.0, 67.0, 58.0, 62.0, 69.0, 72.0, 67.0, 70.0, 64.0, 70.0, 66.0, 70.0, 64.0, 70.0, 66.0, 69.0, 73.0, 65.0, 66.0, 72.0, 66.0, 61.0, 67.0, 74.0, 64.0, 74.0, 67.0, 68.0, 70.0, 65.0, 71.0, 64.0, 67.0, 64.0, 66.0, 71.0, 67.0, 73.0, 66.0, 74.0, 67.0, 66.0, 71.0, 69.0, 71.0, 68.0, 61.0, 75.0, 66.0, 74.0, 69.0, 62.0, 65.0, 60.0, 74.0, 68.0, 64.0, 73.0, 64.0, 67.0, 73.0, 66.0, 60.0, 70.0, 69.0, 67.0, 72.0, 71.0, 65.0, 72.0, 65.0, 71.0, 66.0, 69.0, 66.0, 74.0, 73.0, 64.0, 64.0, 70.0, 66.0, 74.0, 66.0, 66.0, 68.0, 61.0, 68.0, 72.0, 72.0, 67.0, 59.0, 68.0, 65.0]\n",
    "\n",
    "nba_variance = np.var(nba_data)\n",
    "okcupid_variance = np.var(okcupid_data)\n",
    "\n",
    "nba_standard_deviation = nba_variance**.5\n",
    "okcupid_standard_deviation = okcupid_variance**.5\n",
    "\n",
    "#IGNORE CODE BELOW HERE\n",
    "print(\"The standard deviation of the NBA dataset is \" +str(nba_standard_deviation))\n",
    "print(\"The standard deviation of the OkCupid dataset is \" + str(okcupid_standard_deviation))\n"
   ]
  },
  {
   "cell_type": "code",
   "execution_count": 18,
   "metadata": {},
   "outputs": [
    {
     "name": "stdout",
     "output_type": "stream",
     "text": [
      "The standard deviation of the NBA dataset is 3.6501704069810224\n",
      "The standard deviation of the OkCupid dataset is 3.924360330041063\n"
     ]
    }
   ],
   "source": [
    "#Change these variables to be the standard deviation of each dataset. Use NumPy's function!\n",
    "nba_standard_deviation = np.std(nba_data)\n",
    "okcupid_standard_deviation = np.std(okcupid_data)\n",
    "\n",
    "#IGNORE CODE BELOW HERE\n",
    "print(\"The standard deviation of the NBA dataset is \" +str(nba_standard_deviation))\n",
    "print(\"The standard deviation of the OkCupid dataset is \" + str(okcupid_standard_deviation))\n"
   ]
  },
  {
   "cell_type": "code",
   "execution_count": 19,
   "metadata": {},
   "outputs": [
    {
     "name": "stdout",
     "output_type": "stream",
     "text": [
      "nba_mean:\n",
      "77.984\n",
      "okcupid_mean:\n",
      "68.414\n",
      "Your basketball player is 0.5523029818400713 standard deviations away from the mean of NBA player heights\n",
      "\n",
      "Your basketball player is 2.9523282842579257 standard deviations away from the mean of OkCupid profile heights\n",
      "\n"
     ]
    }
   ],
   "source": [
    "# Lebron James is 80 inches high. How many std is he from mean?\n",
    "# from mean of NBA players\n",
    "nba_mean = np.mean(nba_data)\n",
    "tell('nba_mean')\n",
    "nba_difference = 80 - nba_mean\n",
    "# form mean of okcupid\n",
    "okcupid_mean = np.mean(okcupid_data)\n",
    "tell('okcupid_mean')\n",
    "\n",
    "nba_difference = 80 - nba_mean\n",
    "okcupid_difference = 80 - okcupid_mean\n",
    "\n",
    "num_nba_deviations = nba_difference/nba_standard_deviation\n",
    "num_okcupid_deviations = okcupid_difference/okcupid_standard_deviation\n",
    "\n",
    "#IGNORE CODE BELOW HERE\n",
    "print(\"Your basketball player is \" + str(num_nba_deviations) \\\n",
    "      + \" standard deviations away from the mean of NBA player heights\\n\")\n",
    "print(\"Your basketball player is \" + str(num_okcupid_deviations) \\\n",
    "      + \" standard deviations away from the mean of OkCupid profile heights\\n\")"
   ]
  },
  {
   "cell_type": "code",
   "execution_count": 20,
   "metadata": {},
   "outputs": [
    {
     "data": {
      "image/png": "[encoded data removed]",
      "text/plain": [
       "<Figure size 432x288 with 2 Axes>"
      ]
     },
     "metadata": {
      "needs_background": "light"
     },
     "output_type": "display_data"
    }
   ],
   "source": [
    "# Visualizations of stddev\n",
    "#Change this variable to your height (in inches)!\n",
    "your_height = 6*12.+2.\n",
    "\n",
    "nba_standard_deviation = np.std(nba_data)\n",
    "okcupid_standard_deviation = np.std(okcupid_data)\n",
    "\n",
    "plt.subplot(211)\n",
    "plt.title(\"NBA Player Heights\")\n",
    "plt.xlabel(\"Height (inches)\")\n",
    "\n",
    "plt.hist(nba_data)\n",
    "\n",
    "plt.axvline(nba_mean, color='#FD4E40', linestyle='solid', linewidth=2, label = \"Mean\")\n",
    "\n",
    "plt.axvline(nba_mean + nba_standard_deviation, color='#FFB908', linestyle='solid', linewidth=2, label = \"Standard Deviations\")\n",
    "plt.axvline(nba_mean - nba_standard_deviation, color='#FFB908', linestyle='solid', linewidth=2)\n",
    "\n",
    "plt.axvline(nba_mean + nba_standard_deviation * 2, color='#FFB908', linestyle='solid', linewidth=2)\n",
    "plt.axvline(nba_mean - nba_standard_deviation * 2, color='#FFB908', linestyle='solid', linewidth=2)\n",
    "\n",
    "plt.axvline(nba_mean + nba_standard_deviation * 3, color='#FFB908', linestyle='solid', linewidth=2)\n",
    "plt.axvline(nba_mean - nba_standard_deviation * 3, color='#FFB908', linestyle='solid', linewidth=2)\n",
    "\n",
    "plt.axvline(your_height, color='#62EDBF', linestyle='solid', linewidth=2, label = \"You\")\n",
    "\n",
    "plt.xlim(55, 90)\n",
    "plt.legend()\n",
    "\n",
    "\n",
    "plt.subplot(212)\n",
    "plt.title(\"OkCupid Profile Heights\")\n",
    "plt.xlabel(\"Height (inches)\")\n",
    "\n",
    "plt.hist(okcupid_data)\n",
    "\n",
    "plt.axvline(okcupid_mean, color='#FD4E40', linestyle='solid', linewidth=2, label = \"Mean\")\n",
    "\n",
    "plt.axvline(okcupid_mean + okcupid_standard_deviation, color='#FFB908', linestyle='solid', linewidth=2, label = \"Standard Deviations\")\n",
    "plt.axvline(okcupid_mean - okcupid_standard_deviation, color='#FFB908', linestyle='solid', linewidth=2)\n",
    "\n",
    "plt.axvline(okcupid_mean + okcupid_standard_deviation * 2, color='#FFB908', linestyle='solid', linewidth=2)\n",
    "plt.axvline(okcupid_mean - okcupid_standard_deviation * 2, color='#FFB908', linestyle='solid', linewidth=2)\n",
    "\n",
    "plt.axvline(okcupid_mean + okcupid_standard_deviation * 3, color='#FFB908', linestyle='solid', linewidth=2)\n",
    "plt.axvline(okcupid_mean - okcupid_standard_deviation * 3, color='#FFB908', linestyle='solid', linewidth=2)\n",
    "\n",
    "plt.axvline(your_height, color='#62EDBF', linestyle='solid', linewidth=2, label = \"You\")\n",
    "\n",
    "plt.xlim(55, 90)\n",
    "plt.legend()\n",
    "\n",
    "plt.tight_layout()\n",
    "plt.show()"
   ]
  },
  {
   "cell_type": "markdown",
   "metadata": {},
   "source": [
    "## Variance in Weather\n",
    "You’re planning a trip to London and want to get a sense of the best time of the year to visit. Luckily, you got your hands on a dataset from 2015 that contains over 39,000 data points about weather conditions in London. Surely, with this much information, you can discover something useful about when to make your trip!\n",
    "\n",
    "In this project, the data is stored in a Pandas DataFrame. If you’ve never used a DataFrame before, we’ll walk you through how to filter and manipulate this data. If you want to learn more about Pandas, check out our Data Science Path."
   ]
  },
  {
   "cell_type": "code",
   "execution_count": 21,
   "metadata": {},
   "outputs": [],
   "source": [
    "london_data = pd.read_csv('london_data.tsv', sep='\\t')"
   ]
  },
  {
   "cell_type": "code",
   "execution_count": 22,
   "metadata": {},
   "outputs": [
    {
     "data": {
      "text/html": [
       "<div>\n",
       "<style scoped>\n",
       "    .dataframe tbody tr th:only-of-type {\n",
       "        vertical-align: middle;\n",
       "    }\n",
       "\n",
       "    .dataframe tbody tr th {\n",
       "        vertical-align: top;\n",
       "    }\n",
       "\n",
       "    .dataframe thead th {\n",
       "        text-align: right;\n",
       "    }\n",
       "</style>\n",
       "<table border=\"1\" class=\"dataframe\">\n",
       "  <thead>\n",
       "    <tr style=\"text-align: right;\">\n",
       "      <th></th>\n",
       "      <th>idx</th>\n",
       "      <th>Time</th>\n",
       "      <th>TemperatureC</th>\n",
       "      <th>DewpointC</th>\n",
       "      <th>PressurehPa</th>\n",
       "      <th>WindDirection</th>\n",
       "      <th>WindDirectionDegrees</th>\n",
       "      <th>WindSpeedKMH</th>\n",
       "      <th>WindSpeedGustKMH</th>\n",
       "      <th>Humidity</th>\n",
       "      <th>HourlyPrecipMM</th>\n",
       "      <th>Conditions</th>\n",
       "      <th>Clouds</th>\n",
       "      <th>dailyrainMM</th>\n",
       "      <th>SoftwareType</th>\n",
       "      <th>DateUTC</th>\n",
       "      <th>station</th>\n",
       "      <th>hour</th>\n",
       "      <th>month</th>\n",
       "    </tr>\n",
       "  </thead>\n",
       "  <tbody>\n",
       "    <tr>\n",
       "      <th>0</th>\n",
       "      <td>0</td>\n",
       "      <td>2015-01-01 00:00:00</td>\n",
       "      <td>4.6</td>\n",
       "      <td>2.9</td>\n",
       "      <td>1031.7</td>\n",
       "      <td>West</td>\n",
       "      <td>273</td>\n",
       "      <td>0.0</td>\n",
       "      <td>1.6</td>\n",
       "      <td>89</td>\n",
       "      <td>0.0</td>\n",
       "      <td>NaN</td>\n",
       "      <td>NaN</td>\n",
       "      <td>0.0</td>\n",
       "      <td>WeatherCatV1.24B11</td>\n",
       "      <td>2015-01-01 00:00:00</td>\n",
       "      <td>ILONDONL28</td>\n",
       "      <td>0</td>\n",
       "      <td>1</td>\n",
       "    </tr>\n",
       "    <tr>\n",
       "      <th>1</th>\n",
       "      <td>1</td>\n",
       "      <td>2015-01-01 00:12:00</td>\n",
       "      <td>4.5</td>\n",
       "      <td>2.8</td>\n",
       "      <td>1031.4</td>\n",
       "      <td>WNW</td>\n",
       "      <td>291</td>\n",
       "      <td>0.0</td>\n",
       "      <td>1.6</td>\n",
       "      <td>89</td>\n",
       "      <td>0.0</td>\n",
       "      <td>NaN</td>\n",
       "      <td>NaN</td>\n",
       "      <td>0.0</td>\n",
       "      <td>WeatherCatV1.24B11</td>\n",
       "      <td>2015-01-01 00:12:00</td>\n",
       "      <td>ILONDONL28</td>\n",
       "      <td>0</td>\n",
       "      <td>1</td>\n",
       "    </tr>\n",
       "    <tr>\n",
       "      <th>2</th>\n",
       "      <td>2</td>\n",
       "      <td>2015-01-01 00:27:00</td>\n",
       "      <td>4.5</td>\n",
       "      <td>2.8</td>\n",
       "      <td>1031.0</td>\n",
       "      <td>SW</td>\n",
       "      <td>229</td>\n",
       "      <td>0.0</td>\n",
       "      <td>1.6</td>\n",
       "      <td>89</td>\n",
       "      <td>0.0</td>\n",
       "      <td>NaN</td>\n",
       "      <td>NaN</td>\n",
       "      <td>0.0</td>\n",
       "      <td>WeatherCatV1.24B11</td>\n",
       "      <td>2015-01-01 00:27:00</td>\n",
       "      <td>ILONDONL28</td>\n",
       "      <td>0</td>\n",
       "      <td>1</td>\n",
       "    </tr>\n",
       "    <tr>\n",
       "      <th>3</th>\n",
       "      <td>3</td>\n",
       "      <td>2015-01-01 00:42:00</td>\n",
       "      <td>4.8</td>\n",
       "      <td>3.2</td>\n",
       "      <td>1031.7</td>\n",
       "      <td>West</td>\n",
       "      <td>281</td>\n",
       "      <td>0.0</td>\n",
       "      <td>4.8</td>\n",
       "      <td>89</td>\n",
       "      <td>0.0</td>\n",
       "      <td>NaN</td>\n",
       "      <td>NaN</td>\n",
       "      <td>0.0</td>\n",
       "      <td>WeatherCatV1.24B11</td>\n",
       "      <td>2015-01-01 00:42:00</td>\n",
       "      <td>ILONDONL28</td>\n",
       "      <td>0</td>\n",
       "      <td>1</td>\n",
       "    </tr>\n",
       "    <tr>\n",
       "      <th>4</th>\n",
       "      <td>4</td>\n",
       "      <td>2015-01-01 00:57:00</td>\n",
       "      <td>5.2</td>\n",
       "      <td>3.5</td>\n",
       "      <td>1031.4</td>\n",
       "      <td>NW</td>\n",
       "      <td>309</td>\n",
       "      <td>0.0</td>\n",
       "      <td>1.6</td>\n",
       "      <td>89</td>\n",
       "      <td>0.0</td>\n",
       "      <td>NaN</td>\n",
       "      <td>NaN</td>\n",
       "      <td>0.0</td>\n",
       "      <td>WeatherCatV1.24B11</td>\n",
       "      <td>2015-01-01 00:57:00</td>\n",
       "      <td>ILONDONL28</td>\n",
       "      <td>0</td>\n",
       "      <td>1</td>\n",
       "    </tr>\n",
       "    <tr>\n",
       "      <th>...</th>\n",
       "      <td>...</td>\n",
       "      <td>...</td>\n",
       "      <td>...</td>\n",
       "      <td>...</td>\n",
       "      <td>...</td>\n",
       "      <td>...</td>\n",
       "      <td>...</td>\n",
       "      <td>...</td>\n",
       "      <td>...</td>\n",
       "      <td>...</td>\n",
       "      <td>...</td>\n",
       "      <td>...</td>\n",
       "      <td>...</td>\n",
       "      <td>...</td>\n",
       "      <td>...</td>\n",
       "      <td>...</td>\n",
       "      <td>...</td>\n",
       "      <td>...</td>\n",
       "      <td>...</td>\n",
       "    </tr>\n",
       "    <tr>\n",
       "      <th>39101</th>\n",
       "      <td>39101</td>\n",
       "      <td>2015-12-31 22:53:00</td>\n",
       "      <td>6.2</td>\n",
       "      <td>3.7</td>\n",
       "      <td>1018.5</td>\n",
       "      <td>East</td>\n",
       "      <td>98</td>\n",
       "      <td>0.0</td>\n",
       "      <td>0.0</td>\n",
       "      <td>84</td>\n",
       "      <td>0.0</td>\n",
       "      <td>NaN</td>\n",
       "      <td>NaN</td>\n",
       "      <td>4.3</td>\n",
       "      <td>WeatherCatV1.24B11</td>\n",
       "      <td>2015-12-31 22:53:00</td>\n",
       "      <td>ILONDONL28</td>\n",
       "      <td>22</td>\n",
       "      <td>12</td>\n",
       "    </tr>\n",
       "    <tr>\n",
       "      <th>39102</th>\n",
       "      <td>39102</td>\n",
       "      <td>2015-12-31 23:08:00</td>\n",
       "      <td>5.9</td>\n",
       "      <td>3.6</td>\n",
       "      <td>1018.8</td>\n",
       "      <td>SE</td>\n",
       "      <td>141</td>\n",
       "      <td>0.0</td>\n",
       "      <td>0.0</td>\n",
       "      <td>85</td>\n",
       "      <td>0.0</td>\n",
       "      <td>NaN</td>\n",
       "      <td>NaN</td>\n",
       "      <td>4.3</td>\n",
       "      <td>WeatherCatV1.24B11</td>\n",
       "      <td>2015-12-31 23:08:00</td>\n",
       "      <td>ILONDONL28</td>\n",
       "      <td>23</td>\n",
       "      <td>12</td>\n",
       "    </tr>\n",
       "    <tr>\n",
       "      <th>39103</th>\n",
       "      <td>39103</td>\n",
       "      <td>2015-12-31 23:23:00</td>\n",
       "      <td>5.7</td>\n",
       "      <td>3.3</td>\n",
       "      <td>1019.2</td>\n",
       "      <td>ENE</td>\n",
       "      <td>63</td>\n",
       "      <td>0.0</td>\n",
       "      <td>0.0</td>\n",
       "      <td>85</td>\n",
       "      <td>0.0</td>\n",
       "      <td>NaN</td>\n",
       "      <td>NaN</td>\n",
       "      <td>4.3</td>\n",
       "      <td>WeatherCatV1.24B11</td>\n",
       "      <td>2015-12-31 23:23:00</td>\n",
       "      <td>ILONDONL28</td>\n",
       "      <td>23</td>\n",
       "      <td>12</td>\n",
       "    </tr>\n",
       "    <tr>\n",
       "      <th>39104</th>\n",
       "      <td>39104</td>\n",
       "      <td>2015-12-31 23:38:00</td>\n",
       "      <td>5.3</td>\n",
       "      <td>3.2</td>\n",
       "      <td>1019.2</td>\n",
       "      <td>ESE</td>\n",
       "      <td>113</td>\n",
       "      <td>0.0</td>\n",
       "      <td>0.0</td>\n",
       "      <td>86</td>\n",
       "      <td>0.0</td>\n",
       "      <td>NaN</td>\n",
       "      <td>NaN</td>\n",
       "      <td>4.3</td>\n",
       "      <td>WeatherCatV1.24B11</td>\n",
       "      <td>2015-12-31 23:38:00</td>\n",
       "      <td>ILONDONL28</td>\n",
       "      <td>23</td>\n",
       "      <td>12</td>\n",
       "    </tr>\n",
       "    <tr>\n",
       "      <th>39105</th>\n",
       "      <td>39105</td>\n",
       "      <td>2015-12-31 23:53:00</td>\n",
       "      <td>5.1</td>\n",
       "      <td>3.1</td>\n",
       "      <td>1019.5</td>\n",
       "      <td>North</td>\n",
       "      <td>349</td>\n",
       "      <td>0.0</td>\n",
       "      <td>1.6</td>\n",
       "      <td>87</td>\n",
       "      <td>0.0</td>\n",
       "      <td>NaN</td>\n",
       "      <td>NaN</td>\n",
       "      <td>4.3</td>\n",
       "      <td>WeatherCatV1.24B11</td>\n",
       "      <td>2015-12-31 23:53:00</td>\n",
       "      <td>ILONDONL28</td>\n",
       "      <td>23</td>\n",
       "      <td>12</td>\n",
       "    </tr>\n",
       "  </tbody>\n",
       "</table>\n",
       "<p>39106 rows × 19 columns</p>\n",
       "</div>"
      ],
      "text/plain": [
       "         idx                 Time  TemperatureC  DewpointC  PressurehPa  \\\n",
       "0          0  2015-01-01 00:00:00           4.6        2.9       1031.7   \n",
       "1          1  2015-01-01 00:12:00           4.5        2.8       1031.4   \n",
       "2          2  2015-01-01 00:27:00           4.5        2.8       1031.0   \n",
       "3          3  2015-01-01 00:42:00           4.8        3.2       1031.7   \n",
       "4          4  2015-01-01 00:57:00           5.2        3.5       1031.4   \n",
       "...      ...                  ...           ...        ...          ...   \n",
       "39101  39101  2015-12-31 22:53:00           6.2        3.7       1018.5   \n",
       "39102  39102  2015-12-31 23:08:00           5.9        3.6       1018.8   \n",
       "39103  39103  2015-12-31 23:23:00           5.7        3.3       1019.2   \n",
       "39104  39104  2015-12-31 23:38:00           5.3        3.2       1019.2   \n",
       "39105  39105  2015-12-31 23:53:00           5.1        3.1       1019.5   \n",
       "\n",
       "      WindDirection  WindDirectionDegrees  WindSpeedKMH  WindSpeedGustKMH  \\\n",
       "0              West                   273           0.0               1.6   \n",
       "1               WNW                   291           0.0               1.6   \n",
       "2                SW                   229           0.0               1.6   \n",
       "3              West                   281           0.0               4.8   \n",
       "4                NW                   309           0.0               1.6   \n",
       "...             ...                   ...           ...               ...   \n",
       "39101          East                    98           0.0               0.0   \n",
       "39102            SE                   141           0.0               0.0   \n",
       "39103           ENE                    63           0.0               0.0   \n",
       "39104           ESE                   113           0.0               0.0   \n",
       "39105         North                   349           0.0               1.6   \n",
       "\n",
       "       Humidity  HourlyPrecipMM  Conditions  Clouds  dailyrainMM  \\\n",
       "0            89             0.0         NaN     NaN          0.0   \n",
       "1            89             0.0         NaN     NaN          0.0   \n",
       "2            89             0.0         NaN     NaN          0.0   \n",
       "3            89             0.0         NaN     NaN          0.0   \n",
       "4            89             0.0         NaN     NaN          0.0   \n",
       "...         ...             ...         ...     ...          ...   \n",
       "39101        84             0.0         NaN     NaN          4.3   \n",
       "39102        85             0.0         NaN     NaN          4.3   \n",
       "39103        85             0.0         NaN     NaN          4.3   \n",
       "39104        86             0.0         NaN     NaN          4.3   \n",
       "39105        87             0.0         NaN     NaN          4.3   \n",
       "\n",
       "             SoftwareType              DateUTC     station  hour  month  \n",
       "0      WeatherCatV1.24B11  2015-01-01 00:00:00  ILONDONL28     0      1  \n",
       "1      WeatherCatV1.24B11  2015-01-01 00:12:00  ILONDONL28     0      1  \n",
       "2      WeatherCatV1.24B11  2015-01-01 00:27:00  ILONDONL28     0      1  \n",
       "3      WeatherCatV1.24B11  2015-01-01 00:42:00  ILONDONL28     0      1  \n",
       "4      WeatherCatV1.24B11  2015-01-01 00:57:00  ILONDONL28     0      1  \n",
       "...                   ...                  ...         ...   ...    ...  \n",
       "39101  WeatherCatV1.24B11  2015-12-31 22:53:00  ILONDONL28    22     12  \n",
       "39102  WeatherCatV1.24B11  2015-12-31 23:08:00  ILONDONL28    23     12  \n",
       "39103  WeatherCatV1.24B11  2015-12-31 23:23:00  ILONDONL28    23     12  \n",
       "39104  WeatherCatV1.24B11  2015-12-31 23:38:00  ILONDONL28    23     12  \n",
       "39105  WeatherCatV1.24B11  2015-12-31 23:53:00  ILONDONL28    23     12  \n",
       "\n",
       "[39106 rows x 19 columns]"
      ]
     },
     "execution_count": 22,
     "metadata": {},
     "output_type": "execute_result"
    }
   ],
   "source": [
    "london_data"
   ]
  },
  {
   "cell_type": "markdown",
   "metadata": {},
   "source": [
    "1. The data was collected every 15 minutes, or so\n",
    "2. Planning for a trip look at:\n",
    "- Temperature\n",
    "- Humidity\n",
    "- Windspeed\n",
    "- Rain\n",
    "- Clouds\n",
    "- Date"
   ]
  },
  {
   "cell_type": "code",
   "execution_count": 23,
   "metadata": {},
   "outputs": [
    {
     "name": "stdout",
     "output_type": "stream",
     "text": [
      "len(london_data): 39106\n",
      "average_temp: 12.081969518743934\n",
      "temperature_var: 29.715642528199353\n",
      "temperature_standard_deviation: 5.4512056031853495\n"
     ]
    }
   ],
   "source": [
    "say('len(london_data)')\n",
    "temp = london_data['TemperatureC']\n",
    "average_temp = np.mean(temp)\n",
    "temperature_var = np.var(temp)\n",
    "temperature_standard_deviation = np.std(temp)\n",
    "say('average_temp')\n",
    "say('temperature_var')\n",
    "say('temperature_standard_deviation')"
   ]
  },
  {
   "cell_type": "code",
   "execution_count": 24,
   "metadata": {},
   "outputs": [
    {
     "name": "stdout",
     "output_type": "stream",
     "text": [
      "june:        [17.047289251018462, 4.597909204651791]\n",
      "july:        [18.775608907446074, 4.136377318662126]\n"
     ]
    }
   ],
   "source": [
    "monthly_temp_stats = {}\n",
    "for m in range(1,13):\n",
    "    temp_for_month = london_data.loc[london_data['month'] == m]['TemperatureC'] \n",
    "    monthly_temp_stats[m] = [np.mean(temp_for_month), np.std(temp_for_month)]\n",
    "\n",
    "june = [monthly_temp_stats[6][0], monthly_temp_stats[6][1]]\n",
    "july = [monthly_temp_stats[7][0], monthly_temp_stats[7][1]]\n",
    "say('june')\n",
    "say('july')\n",
    "    "
   ]
  },
  {
   "cell_type": "code",
   "execution_count": 25,
   "metadata": {},
   "outputs": [
    {
     "name": "stdout",
     "output_type": "stream",
     "text": [
      "Month: 1 Avg Temp: 5.663950927964759 StdDev: 3.5630186427365724\n",
      "Month: 2 Avg Temp: 5.0894923677671216 StdDev: 2.6533914088938397\n",
      "Month: 3 Avg Temp: 7.935419026047527 StdDev: 2.7389280396346902\n",
      "Month: 4 Avg Temp: 10.553368744758165 StdDev: 4.081741047920952\n",
      "Month: 5 Avg Temp: 13.597456461961515 StdDev: 3.521941235413068\n",
      "Month: 6 Avg Temp: 17.047289251018462 StdDev: 4.597909204651791\n",
      "Month: 7 Avg Temp: 18.775608907446074 StdDev: 4.136377318662126\n",
      "Month: 8 Avg Temp: 18.002258355916922 StdDev: 3.468858883252718\n",
      "Month: 9 Avg Temp: 13.847472456254035 StdDev: 3.017009206358238\n",
      "Month: 10 Avg Temp: 11.982796352583556 StdDev: 3.110285235678797\n",
      "Month: 11 Avg Temp: 10.765084279325785 StdDev: 3.7264534709363044\n",
      "Month: 12 Avg Temp: 11.261051212937984 StdDev: 2.35355136256788\n"
     ]
    }
   ],
   "source": [
    "for m in range(1,13):\n",
    "    print('Month: {} Avg Temp: {} StdDev: {}'.format(m, monthly_temp_stats[m][0], monthly_temp_stats[m][1]))\n",
    "#     print('Month: {} Avg Temp: {} StdDev: {}'.format(m, monthly_temp_stats[m]))\n"
   ]
  },
  {
   "cell_type": "markdown",
   "metadata": {},
   "source": [
    "### HISTOGRAMS\n",
    "Introduction\n",
    "Statistics is often pitched as a way to find certainty through data. As you’ll learn in this lesson, the power of statistics is more often used to communicate that certainty doesn’t really exist. Instead, it provides tools to communicate how uncertain we are about a problem.\n",
    "\n",
    "There’s no better tool to visualize the uncertainty and chaos in data than a histogram. A histogram displays the distribution of your underlying data.\n",
    "\n",
    "Histograms reveal, through numbers, interpretable trends in your data. They don’t provide a yes or no answer, but are often used as a starting point for discussion and informing an answer to your data.\n",
    "\n",
    "Whether you’re brand new to statistics or know it well, this lesson will teach you how to use histograms to visualize your data and inform decision-making."
   ]
  },
  {
   "cell_type": "code",
   "execution_count": 26,
   "metadata": {},
   "outputs": [
    {
     "data": {
      "image/png": "[encoded data removed]",
      "text/plain": [
       "<Figure size 432x288 with 1 Axes>"
      ]
     },
     "metadata": {
      "needs_background": "light"
     },
     "output_type": "display_data"
    },
    {
     "name": "stdout",
     "output_type": "stream",
     "text": [
      "bowl_mean:   797.7618673740275\n",
      "bowl_std:    98.22808580163593\n",
      "'600 cal bowl is ' + str(stds(600,burrito_calories)) + ' stds': 600 cal bowl is -2.0132924892112056 stds\n",
      "'1000 cal bowl is ' + str(stds(1000,burrito_calories)) + ' stds': 1000 cal bowl is 2.0588626050840175 stds\n"
     ]
    }
   ],
   "source": [
    "import numpy as np\n",
    "import pandas as pd\n",
    "\n",
    "# Import matplotlib pyplot\n",
    "from matplotlib import pyplot as plt\n",
    "\n",
    "# Read in transactions data\n",
    "mu, sigma = 800, 100 # mean and standard deviation\n",
    "burrito_calories = np.random.normal(mu, sigma, 320)\n",
    "\n",
    "# Save transaction times to a separate numpy array\n",
    "plt.hist(burrito_calories, range=(250, 1250), bins=100,  edgecolor='black')\n",
    "plt.title(\"Calories in a Burrito Bowl\", fontsize = 24)\n",
    "plt.xlabel(\"Calories\", fontsize=18)\n",
    "plt.ylabel(\"Count\", fontsize=18)\n",
    "\n",
    "plt.show()\n",
    "\n",
    "def stds(x, lst):\n",
    "    m = np.mean(lst)\n",
    "    s = np.std(lst)\n",
    "    return((x-m)/s)\n",
    "\n",
    "bowl_mean = np.mean(burrito_calories)\n",
    "bowl_std = np.std(burrito_calories)\n",
    "say('bowl_mean')\n",
    "say('bowl_std')\n",
    "say(\"'600 cal bowl is ' + str(stds(600,burrito_calories)) + ' stds'\")\n",
    "say(\"'1000 cal bowl is ' + str(stds(1000,burrito_calories)) + ' stds'\")"
   ]
  },
  {
   "cell_type": "markdown",
   "metadata": {},
   "source": [
    "1. Owner should say about 800 cal in a burrito bowl.(mean is 796)\n",
    "2. Both the 600 and 1000 cal bowl are more than 2 stds from the mean. They are likely to appear only ~5% of the time.\n",
    "3. To produce a bowl vloser to 600 cal all the time the owner could measure the ingredients more accurately and kkep them consistent.\n",
    "\n",
    "Grocery Store\n",
    "analyze grocery store data to understand how a histogram may be a better tool for communicating trends in your data. You will use this data to determine the best times for a manager to staff their store.\n",
    "\n",
    "Let’s start by looking at our data and calculating the average time that a person will enter the grocery store."
   ]
  },
  {
   "cell_type": "code",
   "execution_count": 27,
   "metadata": {},
   "outputs": [
    {
     "name": "stdout",
     "output_type": "stream",
     "text": [
      "     Transaction Time        Cost\n",
      "0            7.939419   98.422021\n",
      "1            4.314811   87.329861\n",
      "2            6.394080  112.334882\n",
      "3            7.031504   87.570689\n",
      "4            5.840730   97.321191\n",
      "..                ...         ...\n",
      "995         18.728278   34.802198\n",
      "996         18.183858   36.349422\n",
      "997         16.803236   59.230032\n",
      "998         19.680992   23.748946\n",
      "999         23.369355   57.442948\n",
      "\n",
      "[1000 rows x 2 columns]\n",
      "np.mean(times): 14.943439668312365\n"
     ]
    }
   ],
   "source": [
    "# Read in transactions data\n",
    "transactions = pd.read_csv(\"transactions.csv\")\n",
    "# The first column ws an index without a name. Typical of database output\n",
    "# or print of dataframe\n",
    "transactions = transactions.drop([\"Unnamed: 0\"], axis = 1)\n",
    "\n",
    "# Save transaction times to a separate numpy array\n",
    "times = transactions[\"Transaction Time\"].values\n",
    "cost = transactions[\"Cost\"].values\n",
    "\n",
    "# Print transactions below\n",
    "print(transactions)\n",
    "\n",
    "# Print the average times below\n",
    "say('np.mean(times)')"
   ]
  },
  {
   "cell_type": "code",
   "execution_count": 28,
   "metadata": {},
   "outputs": [
    {
     "name": "stdout",
     "output_type": "stream",
     "text": [
      "Earliest Time: 0.02661518360957871\n",
      "Latest Time: 23.675374635328755\n",
      "Time Range: 23.648759451719176\n"
     ]
    }
   ],
   "source": [
    "# Find the minimum time, maximum time, and range\n",
    "min_time = np.min(times) # <-- Replace with min calc\n",
    "max_time = np.max(times) # <-- Replace with max calc\n",
    "range_time = max_time-min_time # <-- Replace max - min\n",
    "\n",
    "# Printing the values\n",
    "print(\"Earliest Time: \" + str(min_time))\n",
    "print(\"Latest Time: \" + str(max_time))\n",
    "print(\"Time Range: \" + str(range_time))"
   ]
  },
  {
   "cell_type": "code",
   "execution_count": 29,
   "metadata": {},
   "outputs": [
    {
     "name": "stdout",
     "output_type": "stream",
     "text": [
      "Bins: 3\n",
      "Bin Width: 3.0\n"
     ]
    }
   ],
   "source": [
    "# Array of days old bread\n",
    "days_old_bread = np.array([0, 8, 7, 8, 0, 2, 3, 5, 6, 2])\n",
    "\n",
    "# Set the minimum and maximums of the array below\n",
    "min_days_old = np.min(days_old_bread)\n",
    "max_days_old = np.max(days_old_bread)\n",
    "\n",
    "# Set the number of bins to 3\n",
    "bins = 3\n",
    "\n",
    "# Calculate the bin range\n",
    "try:\n",
    "    bin_range = (max_days_old - min_days_old + 1) / bins\n",
    "    print(\"Bins: \" + str(bins))\n",
    "    print(\"Bin Width: \" + str(bin_range))\n",
    "# Printing the values\n",
    "except:\n",
    "    print(\"You have not set the min, max, or bins values yet.\")"
   ]
  },
  {
   "cell_type": "code",
   "execution_count": 30,
   "metadata": {},
   "outputs": [
    {
     "name": "stdout",
     "output_type": "stream",
     "text": [
      "Between 0 and 2 days: 4\n",
      "Between 3 and 5 days: 2\n",
      "Between 6 and 8 days: 4\n"
     ]
    }
   ],
   "source": [
    "# Array of days old bread\n",
    "days_old_bread = np.array([0, 8, 7, 8, 0, 2, 3, 5, 6, 2])\n",
    "\n",
    "# Count the values in each bin \n",
    "days_old_012 = 4\n",
    "days_old_345 = 2\n",
    "days_old_678 = 4\n",
    "\n",
    "# Printing the values\n",
    "print(\"Between 0 and 2 days: \" + str(days_old_012))\n",
    "print(\"Between 3 and 5 days: \" + str(days_old_345))\n",
    "print(\"Between 6 and 8 days: \" + str(days_old_678))"
   ]
  },
  {
   "cell_type": "code",
   "execution_count": null,
   "metadata": {},
   "outputs": [],
   "source": []
  },
  {
   "cell_type": "code",
   "execution_count": 31,
   "metadata": {},
   "outputs": [
    {
     "name": "stdout",
     "output_type": "stream",
     "text": [
      "(array([101, 231, 213, 455]), array([ 0.,  6., 12., 18., 24.]))\n",
      "busiest_bin: 455\n"
     ]
    }
   ],
   "source": [
    "# Use numpy.histogram() below\n",
    "# determine the busiest six hours of the day. Save the result to times_hist\n",
    "times_hist = np.histogram(times, range=(0,24), bins=4)\n",
    "\n",
    "print(times_hist)\n",
    "\n",
    "# Busiest\n",
    "busiest_bin = np.max(times_hist[0])\n",
    "say('busiest_bin')\n"
   ]
  },
  {
   "cell_type": "code",
   "execution_count": 32,
   "metadata": {},
   "outputs": [
    {
     "name": "stdout",
     "output_type": "stream",
     "text": [
      "[18.]\n",
      "[18.] [24.]\n"
     ]
    }
   ],
   "source": [
    "[v,e] = times_hist\n",
    "print(e[np.where(v==busiest_bin)])\n",
    "w = [[e[i], e[i+1]] for i in np.where(v==busiest_bin)]\n",
    "for i,j in w:\n",
    "    print(i, j)"
   ]
  },
  {
   "cell_type": "code",
   "execution_count": 33,
   "metadata": {},
   "outputs": [
    {
     "name": "stderr",
     "output_type": "stream",
     "text": [
      "<ipython-input-33-5fd5bae57a4e>:3: MatplotlibDeprecationWarning: Adding an axes using the same arguments as a previous axes currently reuses the earlier instance.  In a future version, a new instance will always be created and returned.  Meanwhile, this warning can be suppressed, and the future behavior ensured, by passing a unique label to each axes instance.\n",
      "  ax=plt.axes()\n"
     ]
    },
    {
     "data": {
      "image/png": "[encoded data removed]",
      "text/plain": [
       "<Figure size 432x288 with 1 Axes>"
      ]
     },
     "metadata": {
      "needs_background": "light"
     },
     "output_type": "display_data"
    }
   ],
   "source": [
    "# Plot\n",
    "plt.hist(times, range=(0,24), bins=24, edgecolor='black')\n",
    "ax=plt.axes()\n",
    "ax.set_xticks(list(range(0,24)))\n",
    "plt.show()"
   ]
  },
  {
   "cell_type": "markdown",
   "metadata": {},
   "source": [
    "the store manager wants a histogram of transaction costs. Try plotting a histogram for the cost variable."
   ]
  },
  {
   "cell_type": "code",
   "execution_count": 34,
   "metadata": {},
   "outputs": [
    {
     "data": {
      "image/png": "[encoded data removed]",
      "text/plain": [
       "<Figure size 432x288 with 1 Axes>"
      ]
     },
     "metadata": {
      "needs_background": "light"
     },
     "output_type": "display_data"
    }
   ],
   "source": [
    "plt.hist(cost, range=(0,165), bins=17, edgecolor='black')\n",
    "plt.show()"
   ]
  },
  {
   "cell_type": "markdown",
   "metadata": {},
   "source": [
    "### Traveling to Acadia\n",
    "Imagine you work at a travel agency and want to inform your customers of the best time to visit one of your favorite vacation locations, Acadia, Maine. In this project, you will use flower bloom data, and flight information to recommend the best time of year for someone to make a trip to Maine."
   ]
  },
  {
   "cell_type": "code",
   "execution_count": 35,
   "metadata": {},
   "outputs": [],
   "source": [
    "# load in data\n",
    "in_bloom = np.loadtxt(open(\"in-bloom.csv\"), delimiter=\",\")\n",
    "flights = np.loadtxt(open(\"flights.csv\"), delimiter=\",\")"
   ]
  },
  {
   "cell_type": "code",
   "execution_count": 36,
   "metadata": {},
   "outputs": [
    {
     "data": {
      "image/png": "[encoded data removed]",
      "text/plain": [
       "<Figure size 1080x432 with 2 Axes>"
      ]
     },
     "metadata": {
      "needs_background": "light"
     },
     "output_type": "display_data"
    }
   ],
   "source": [
    "# Plot the histograms separately\n",
    "\n",
    "\n",
    "plt.figure(1, figsize=(15,6))\n",
    "plt.subplot(2,1,1)\n",
    "plt.hist(flights, range=(0,365), bins=365, alpha=0.7, density=True, label='Flights')\n",
    "plt.legend()\n",
    "plt.title('Density of Flights in Acadia')\n",
    "plt.xlabel('Days of Year')\n",
    "plt.ylabel('Density')\n",
    "\n",
    "plt.subplot(2,1,2)\n",
    "plt.hist(in_bloom, range=(0,365), bins=365, alpha=0.7, density=True, label='Blooms', color='green')\n",
    "plt.legend()\n",
    "plt.title('Density of Flower Blooms in Acadia')\n",
    "plt.xlabel('Days of Year')\n",
    "plt.ylabel('Density')\n",
    "\n",
    "plt.tight_layout()\n",
    "plt.show()\n",
    "\n",
    "# Comparing the two plots it would be good to travel in JULY becase there are a peak in flowers blooming\n",
    "# and it would be less crowded. Book flights early because there are not many available. March-April would \n",
    "# be a good compromise and still before black fly season. August is good, flights, flowers and no mosquitos."
   ]
  },
  {
   "cell_type": "code",
   "execution_count": 37,
   "metadata": {},
   "outputs": [
    {
     "data": {
      "image/png": "[encoded data removed]",
      "text/plain": [
       "<Figure size 1080x432 with 1 Axes>"
      ]
     },
     "metadata": {
      "needs_background": "light"
     },
     "output_type": "display_data"
    }
   ],
   "source": [
    "\n",
    "# Plot the histograms\n",
    "plt.figure(figsize=(15,6))\n",
    "ax1=plt.axes()\n",
    "plt.hist(in_bloom, range=(0,365), bins=365, alpha=0.5, density=True, edgecolor='black',label='Blooms')\n",
    "plt.hist(flights, range=(0,365), bins=365, alpha=0.5, density=True, edgecolor='black', label='Flights')\n",
    "plt.legend()\n",
    "monthticks = list(range(12))\n",
    "\n",
    "plt.show()"
   ]
  },
  {
   "cell_type": "markdown",
   "metadata": {},
   "source": [
    "In this lesson, you will learn how to interpret a distribution using the following five features of a dataset:\n",
    "\n",
    "Center\n",
    "Spread\n",
    "Skew\n",
    "Modality\n",
    "Outliers"
   ]
  },
  {
   "cell_type": "code",
   "execution_count": 38,
   "metadata": {},
   "outputs": [
    {
     "data": {
      "image/png": "[encoded data removed]",
      "text/plain": [
       "<Figure size 432x288 with 1 Axes>"
      ]
     },
     "metadata": {
      "needs_background": "light"
     },
     "output_type": "display_data"
    }
   ],
   "source": [
    "cp_data = pd.read_csv(\"cp.csv\") \n",
    "\n",
    "plt.hist(cp_data[' Average Covered Charges '], bins=20, edgecolor='black')\n",
    "\n",
    "plt.title(\"Distribution of Chest Pain Treatment Cost by Hospital\", fontsize = 16)\n",
    "plt.xlabel(\"Cost ($)\", fontsize = 16)\n",
    "plt.ylabel(\"Count\", fontsize = 16)\n",
    "\n",
    "plt.show()"
   ]
  },
  {
   "cell_type": "markdown",
   "metadata": {},
   "source": [
    "### Questions to answer\n",
    "\n",
    "This histogram displays the distribution of chest pain cost for over 2,000 hospitals across the United States. The average and median costs are $??????????16948.320991031364 and $??????????, respectively. Given that the data is ??????????modal, with one local maximum and a ??????????-skew, the fact that the average is ?????????? than the median, matches our expectation.\n",
    "\n",
    "The range of costs is very large, $??????????, with the smallest cost equal to $?????????? and the largest cost equal to $??????????. There is one hospital, ??????????, that charges far more than the rest at $??????????."
   ]
  },
  {
   "cell_type": "code",
   "execution_count": 39,
   "metadata": {},
   "outputs": [
    {
     "name": "stdout",
     "output_type": "stream",
     "text": [
      "mean:  16948.320991031364\n",
      "median:  14659.6\n",
      "81083.0\n",
      "min:   2,459\n",
      "max:   81,083\n",
      "zrange: 78,624\n"
     ]
    }
   ],
   "source": [
    "print('mean: ', cp_data[' Average Covered Charges '].mean())\n",
    "print('median: ', cp_data[' Average Covered Charges '].median())\n",
    "mn = cp_data[' Average Covered Charges '].min()\n",
    "mx = cp_data[' Average Covered Charges '].max()\n",
    "print(mx)\n",
    "zrange = mx - mn\n",
    "# mxhospital = cp_data[' Average Covered Charges '].where(mx)\n",
    "\n",
    "\n",
    "print('min:   {0:,.0f}'.format(mn))\n",
    "print('max:   {0:,.0f}'.format(mx))\n",
    "print('zrange: {0:,.0f}'.format(zrange)) \n"
   ]
  },
  {
   "cell_type": "code",
   "execution_count": 62,
   "metadata": {},
   "outputs": [
    {
     "name": "stdout",
     "output_type": "stream",
     "text": [
      "[1272    BAYONNE HOSPITAL CENTER\n",
      "Name: Provider Name, dtype: object]\n"
     ]
    }
   ],
   "source": [
    "h = cp_data['Provider Name']\n",
    "chrg = cp_data[' Average Covered Charges ']\n",
    "loc = np.where(chrg==81083.0)\n",
    "hlist = [ h[loc[i]] for i in range(len(loc))]\n",
    "print(hlist)\n",
    "\n",
    "# mxhospital = cp_data[ np.where(cp_data[' Average Covered Charges ']==mx) ]['Provider Name']"
   ]
  },
  {
   "cell_type": "markdown",
   "metadata": {},
   "source": [
    "### Describe Exam Grade Distributions\n",
    "You are teaching a middle school computer science class, and have taken it upon yourself to understand how your class performed on each exam over the past year.\n",
    "\n",
    "You can see the distribution for each of four exams in the web browser to the right. In summary.txt, we have written a template for describing each of the four distributions. Replace each blank with a word that best describes the histogram of interest."
   ]
  },
  {
   "cell_type": "code",
   "execution_count": 71,
   "metadata": {},
   "outputs": [
    {
     "data": {
      "image/png": "[encoded data removed]",
      "text/plain": [
       "<Figure size 432x288 with 1 Axes>"
      ]
     },
     "metadata": {
      "needs_background": "light"
     },
     "output_type": "display_data"
    }
   ],
   "source": [
    "from song_data import songs\n",
    "q1 = np.quantile(songs, .25)\n",
    "q2 = np.quantile(songs, .50)\n",
    "q3 = np.quantile(songs, .75)\n",
    "\n",
    "plt.hist(songs, bins = 200)\n",
    "plt.axvline(x=364, label=\"Chicago\", c = 'r')\n",
    "plt.xlabel(\"Song Length (Seconds)\")\n",
    "plt.ylabel(\"Count\")\n",
    "plt.axvline(x=q1, label=\"Q1\", c = '#6400e4')\n",
    "plt.axvline(x=q2, label=\"Q2\", c = '#fd4d3f')\n",
    "plt.axvline(x=q3, label=\"Q3\", c = '#4fe0b0')\n",
    "plt.legend()\n",
    "plt.show()"
   ]
  },
  {
   "cell_type": "markdown",
   "metadata": {},
   "source": [
    "### Quantiles"
   ]
  },
  {
   "cell_type": "code",
   "execution_count": 73,
   "metadata": {},
   "outputs": [
    {
     "data": {
      "image/png": "[encoded data removed]",
      "text/plain": [
       "<Figure size 432x288 with 3 Axes>"
      ]
     },
     "metadata": {
      "needs_background": "light"
     },
     "output_type": "display_data"
    }
   ],
   "source": [
    "q1 = np.quantile(songs, 0.25)\n",
    "q2 = np.quantile(songs, 0.5)\n",
    "q3 = np.quantile(songs, 0.75)\n",
    "\n",
    "plt.subplot(3,1,1)\n",
    "plt.hist(songs, bins = 200)\n",
    "plt.axvline(x=q1, c = 'r')\n",
    "plt.axvline(x=q2, c = 'r')\n",
    "plt.axvline(x=q3, c = 'r')\n",
    "plt.xlabel(\"Song Length (Seconds)\")\n",
    "plt.ylabel(\"Count\")\n",
    "plt.title(\"4-Quantiles\")\n",
    "\n",
    "plt.subplot(3,1,2)\n",
    "plt.hist(songs, bins = 200)\n",
    "plt.axvline(x=np.quantile(songs, 0.2), c = 'r')\n",
    "plt.axvline(x=np.quantile(songs, 0.4), c = 'r')\n",
    "plt.axvline(x=np.quantile(songs, 0.6), c = 'r')\n",
    "plt.axvline(x=np.quantile(songs, 0.8), c = 'r')\n",
    "plt.xlabel(\"Song Length (Seconds)\")\n",
    "plt.ylabel(\"Count\")\n",
    "plt.title(\"5-Quantiles\")\n",
    "\n",
    "plt.subplot(3,1,3)\n",
    "plt.hist(songs, bins = 200)\n",
    "for i in range(1, 10):\n",
    "  plt.axvline(x=np.quantile(songs, i/10), c = 'r')\n",
    "plt.xlabel(\"Song Length (Seconds)\")\n",
    "plt.ylabel(\"Count\")\n",
    "plt.title(\"10-Quantiles\")\n",
    "\n",
    "plt.tight_layout()\n",
    "plt.show()"
   ]
  },
  {
   "cell_type": "code",
   "execution_count": 77,
   "metadata": {},
   "outputs": [
    {
     "name": "stdout",
     "output_type": "stream",
     "text": [
      "twenty_third_percentile: 171.7812924\n",
      "quartiles:   [175.93424 222.82404 275.47383]\n",
      "deciles:     [135.151876 165.375546 185.99138  204.815222 222.82404  240.22159\n",
      " 262.47791  290.95138  348.493912]\n"
     ]
    }
   ],
   "source": [
    "twenty_third_percentile = np.quantile(songs, .23)\n",
    "say('twenty_third_percentile')\n",
    "# Define quartiles, deciles, and tenth here:\n",
    "quartiles = np.quantile(songs, [.25, .5, .75])\n",
    "say('quartiles')\n",
    "fences = [ x/10. for x in range(1,10)]\n",
    "deciles = np.quantile(songs, fences)\n",
    "say('deciles')\n"
   ]
  },
  {
   "cell_type": "code",
   "execution_count": null,
   "metadata": {},
   "outputs": [],
   "source": [
    "### Interquartile Range"
   ]
  },
  {
   "cell_type": "code",
   "execution_count": 79,
   "metadata": {},
   "outputs": [
    {
     "data": {
      "image/png": "[encoded data removed]",
      "text/plain": [
       "<Figure size 432x288 with 1 Axes>"
      ]
     },
     "metadata": {
      "needs_background": "light"
     },
     "output_type": "display_data"
    },
    {
     "name": "stdout",
     "output_type": "stream",
     "text": [
      "99.53959000000003\n"
     ]
    }
   ],
   "source": [
    "maximum = max(songs)\n",
    "minimum = min(songs)\n",
    "#Create the variable song_range here:\n",
    "\n",
    "\n",
    "# Ignore the code below here\n",
    "plt.hist(songs, bins = 200)\n",
    "plt.xlabel(\"Song Length (Seconds)\")\n",
    "plt.ylabel(\"Count\")\n",
    "plt.show()\n",
    "\n",
    "q = np.quantile(songs, [.25, .5, .75])\n",
    "iqr = q[2]-q[0]\n",
    "print(iqr)"
   ]
  },
  {
   "cell_type": "markdown",
   "metadata": {},
   "source": [
    "### Life Expectancy By Country\n",
    "Over the course of the past few centuries, technological and medical advancements have helped increase the life expectancy of humans. However, as of now, the average life expectancy of humans varies depending on what country you live in.\n",
    "\n",
    "In this project, we will investigate a dataset containing information about the average life expectancy in 158 different countries. We will specifically look at how a country’s economic success might impact the life expectancy in that area."
   ]
  },
  {
   "cell_type": "code",
   "execution_count": 81,
   "metadata": {},
   "outputs": [
    {
     "data": {
      "text/html": [
       "<div>\n",
       "<style scoped>\n",
       "    .dataframe tbody tr th:only-of-type {\n",
       "        vertical-align: middle;\n",
       "    }\n",
       "\n",
       "    .dataframe tbody tr th {\n",
       "        vertical-align: top;\n",
       "    }\n",
       "\n",
       "    .dataframe thead th {\n",
       "        text-align: right;\n",
       "    }\n",
       "</style>\n",
       "<table border=\"1\" class=\"dataframe\">\n",
       "  <thead>\n",
       "    <tr style=\"text-align: right;\">\n",
       "      <th></th>\n",
       "      <th>Country</th>\n",
       "      <th>Life Expectancy</th>\n",
       "      <th>GDP</th>\n",
       "    </tr>\n",
       "  </thead>\n",
       "  <tbody>\n",
       "    <tr>\n",
       "      <th>0</th>\n",
       "      <td>Afghanistan</td>\n",
       "      <td>58.19375</td>\n",
       "      <td>340.015425</td>\n",
       "    </tr>\n",
       "    <tr>\n",
       "      <th>1</th>\n",
       "      <td>Albania</td>\n",
       "      <td>75.15625</td>\n",
       "      <td>2119.726679</td>\n",
       "    </tr>\n",
       "    <tr>\n",
       "      <th>2</th>\n",
       "      <td>Algeria</td>\n",
       "      <td>73.61875</td>\n",
       "      <td>2847.853392</td>\n",
       "    </tr>\n",
       "    <tr>\n",
       "      <th>3</th>\n",
       "      <td>Angola</td>\n",
       "      <td>49.01875</td>\n",
       "      <td>1975.143045</td>\n",
       "    </tr>\n",
       "    <tr>\n",
       "      <th>4</th>\n",
       "      <td>Antigua and Barbuda</td>\n",
       "      <td>75.05625</td>\n",
       "      <td>9759.305728</td>\n",
       "    </tr>\n",
       "    <tr>\n",
       "      <th>...</th>\n",
       "      <td>...</td>\n",
       "      <td>...</td>\n",
       "      <td>...</td>\n",
       "    </tr>\n",
       "    <tr>\n",
       "      <th>153</th>\n",
       "      <td>Uruguay</td>\n",
       "      <td>76.07500</td>\n",
       "      <td>7192.584875</td>\n",
       "    </tr>\n",
       "    <tr>\n",
       "      <th>154</th>\n",
       "      <td>Uzbekistan</td>\n",
       "      <td>68.03125</td>\n",
       "      <td>651.092359</td>\n",
       "    </tr>\n",
       "    <tr>\n",
       "      <th>155</th>\n",
       "      <td>Vanuatu</td>\n",
       "      <td>71.38750</td>\n",
       "      <td>2000.245518</td>\n",
       "    </tr>\n",
       "    <tr>\n",
       "      <th>156</th>\n",
       "      <td>Zambia</td>\n",
       "      <td>53.90625</td>\n",
       "      <td>811.811841</td>\n",
       "    </tr>\n",
       "    <tr>\n",
       "      <th>157</th>\n",
       "      <td>Zimbabwe</td>\n",
       "      <td>50.48750</td>\n",
       "      <td>410.980194</td>\n",
       "    </tr>\n",
       "  </tbody>\n",
       "</table>\n",
       "<p>158 rows × 3 columns</p>\n",
       "</div>"
      ],
      "text/plain": [
       "                 Country  Life Expectancy          GDP\n",
       "0            Afghanistan         58.19375   340.015425\n",
       "1                Albania         75.15625  2119.726679\n",
       "2                Algeria         73.61875  2847.853392\n",
       "3                 Angola         49.01875  1975.143045\n",
       "4    Antigua and Barbuda         75.05625  9759.305728\n",
       "..                   ...              ...          ...\n",
       "153              Uruguay         76.07500  7192.584875\n",
       "154           Uzbekistan         68.03125   651.092359\n",
       "155              Vanuatu         71.38750  2000.245518\n",
       "156               Zambia         53.90625   811.811841\n",
       "157             Zimbabwe         50.48750   410.980194\n",
       "\n",
       "[158 rows x 3 columns]"
      ]
     },
     "execution_count": 81,
     "metadata": {},
     "output_type": "execute_result"
    }
   ],
   "source": [
    "data = pd.read_csv('country_data.csv')\n",
    "data"
   ]
  },
  {
   "cell_type": "code",
   "execution_count": 83,
   "metadata": {},
   "outputs": [
    {
     "data": {
      "text/plain": [
       "0      58.19375\n",
       "1      75.15625\n",
       "2      73.61875\n",
       "3      49.01875\n",
       "4      75.05625\n",
       "         ...   \n",
       "153    76.07500\n",
       "154    68.03125\n",
       "155    71.38750\n",
       "156    53.90625\n",
       "157    50.48750\n",
       "Name: Life Expectancy, Length: 158, dtype: float64"
      ]
     },
     "execution_count": 83,
     "metadata": {},
     "output_type": "execute_result"
    }
   ],
   "source": [
    "life_expectancy = data['Life Expectancy']\n",
    "life_expectancy"
   ]
  },
  {
   "cell_type": "code",
   "execution_count": 87,
   "metadata": {},
   "outputs": [
    {
     "name": "stdout",
     "output_type": "stream",
     "text": [
      "[62.325     72.525     75.4421875]\n"
     ]
    },
    {
     "data": {
      "image/png": "[encoded data removed]",
      "text/plain": [
       "<Figure size 432x288 with 1 Axes>"
      ]
     },
     "metadata": {
      "needs_background": "light"
     },
     "output_type": "display_data"
    }
   ],
   "source": [
    "life_expectancy = data['Life Expectancy']\n",
    "\n",
    "life_expectancy_quartiles = np.quantile(life_expectancy, [.25,.5,.75])\n",
    "print(life_expectancy_quartiles)\n",
    "plt.hist(life_expectancy, bins=40)\n",
    "plt.show()"
   ]
  },
  {
   "cell_type": "code",
   "execution_count": 89,
   "metadata": {},
   "outputs": [
    {
     "name": "stdout",
     "output_type": "stream",
     "text": [
      "median_gdp:  2938.0781152500003\n"
     ]
    }
   ],
   "source": [
    "gdp = data.GDP\n",
    "median_gdp = np.quantile(gdp, .5)\n",
    "say('median_gdp')"
   ]
  },
  {
   "cell_type": "code",
   "execution_count": 93,
   "metadata": {},
   "outputs": [
    {
     "data": {
      "text/html": [
       "<div>\n",
       "<style scoped>\n",
       "    .dataframe tbody tr th:only-of-type {\n",
       "        vertical-align: middle;\n",
       "    }\n",
       "\n",
       "    .dataframe tbody tr th {\n",
       "        vertical-align: top;\n",
       "    }\n",
       "\n",
       "    .dataframe thead th {\n",
       "        text-align: right;\n",
       "    }\n",
       "</style>\n",
       "<table border=\"1\" class=\"dataframe\">\n",
       "  <thead>\n",
       "    <tr style=\"text-align: right;\">\n",
       "      <th></th>\n",
       "      <th>Country</th>\n",
       "      <th>Life Expectancy</th>\n",
       "      <th>GDP</th>\n",
       "    </tr>\n",
       "  </thead>\n",
       "  <tbody>\n",
       "    <tr>\n",
       "      <th>0</th>\n",
       "      <td>Afghanistan</td>\n",
       "      <td>58.19375</td>\n",
       "      <td>340.015425</td>\n",
       "    </tr>\n",
       "    <tr>\n",
       "      <th>1</th>\n",
       "      <td>Albania</td>\n",
       "      <td>75.15625</td>\n",
       "      <td>2119.726679</td>\n",
       "    </tr>\n",
       "    <tr>\n",
       "      <th>2</th>\n",
       "      <td>Algeria</td>\n",
       "      <td>73.61875</td>\n",
       "      <td>2847.853392</td>\n",
       "    </tr>\n",
       "    <tr>\n",
       "      <th>3</th>\n",
       "      <td>Angola</td>\n",
       "      <td>49.01875</td>\n",
       "      <td>1975.143045</td>\n",
       "    </tr>\n",
       "    <tr>\n",
       "      <th>6</th>\n",
       "      <td>Armenia</td>\n",
       "      <td>73.40000</td>\n",
       "      <td>1999.986318</td>\n",
       "    </tr>\n",
       "    <tr>\n",
       "      <th>...</th>\n",
       "      <td>...</td>\n",
       "      <td>...</td>\n",
       "      <td>...</td>\n",
       "    </tr>\n",
       "    <tr>\n",
       "      <th>151</th>\n",
       "      <td>Ukraine</td>\n",
       "      <td>69.93750</td>\n",
       "      <td>1577.293329</td>\n",
       "    </tr>\n",
       "    <tr>\n",
       "      <th>154</th>\n",
       "      <td>Uzbekistan</td>\n",
       "      <td>68.03125</td>\n",
       "      <td>651.092359</td>\n",
       "    </tr>\n",
       "    <tr>\n",
       "      <th>155</th>\n",
       "      <td>Vanuatu</td>\n",
       "      <td>71.38750</td>\n",
       "      <td>2000.245518</td>\n",
       "    </tr>\n",
       "    <tr>\n",
       "      <th>156</th>\n",
       "      <td>Zambia</td>\n",
       "      <td>53.90625</td>\n",
       "      <td>811.811841</td>\n",
       "    </tr>\n",
       "    <tr>\n",
       "      <th>157</th>\n",
       "      <td>Zimbabwe</td>\n",
       "      <td>50.48750</td>\n",
       "      <td>410.980194</td>\n",
       "    </tr>\n",
       "  </tbody>\n",
       "</table>\n",
       "<p>79 rows × 3 columns</p>\n",
       "</div>"
      ],
      "text/plain": [
       "         Country  Life Expectancy          GDP\n",
       "0    Afghanistan         58.19375   340.015425\n",
       "1        Albania         75.15625  2119.726679\n",
       "2        Algeria         73.61875  2847.853392\n",
       "3         Angola         49.01875  1975.143045\n",
       "6        Armenia         73.40000  1999.986318\n",
       "..           ...              ...          ...\n",
       "151      Ukraine         69.93750  1577.293329\n",
       "154   Uzbekistan         68.03125   651.092359\n",
       "155      Vanuatu         71.38750  2000.245518\n",
       "156       Zambia         53.90625   811.811841\n",
       "157     Zimbabwe         50.48750   410.980194\n",
       "\n",
       "[79 rows x 3 columns]"
      ]
     },
     "execution_count": 93,
     "metadata": {},
     "output_type": "execute_result"
    }
   ],
   "source": [
    "low_gdp = data[data['GDP'] <= median_gdp]\n",
    "low_gdp"
   ]
  },
  {
   "cell_type": "code",
   "execution_count": 94,
   "metadata": {},
   "outputs": [
    {
     "data": {
      "text/plain": [
       "(array([21., 13., 11.,  5.,  4.,  3., 10.,  7.,  3.,  2.]),\n",
       " array([ 137.81532132,  416.88814335,  695.96096538,  975.03378741,\n",
       "        1254.10660944, 1533.17943147, 1812.2522535 , 2091.32507553,\n",
       "        2370.39789756, 2649.47071959, 2928.54354163]),\n",
       " <a list of 10 Patch objects>)"
      ]
     },
     "execution_count": 94,
     "metadata": {},
     "output_type": "execute_result"
    },
    {
     "data": {
      "image/png": "[encoded data removed]",
      "text/plain": [
       "<Figure size 432x288 with 1 Axes>"
      ]
     },
     "metadata": {
      "needs_background": "light"
     },
     "output_type": "display_data"
    }
   ],
   "source": [
    "plt.hist(low_gdp.GDP)"
   ]
  },
  {
   "cell_type": "markdown",
   "metadata": {},
   "source": [
    "### Median"
   ]
  },
  {
   "cell_type": "code",
   "execution_count": 96,
   "metadata": {},
   "outputs": [],
   "source": [
    "dataset = [-2.10120552e+00,  1.27134211e+00,  3.80903904e+00,  4.58984202e+00,\n",
    "        1.98347133e+00, -5.08963076e-01, -2.47442472e+00,  2.88745476e+00,\n",
    "        2.44353100e+00, -4.51201024e+00, -1.07474370e-01, -9.29801783e-01,\n",
    "        4.38977988e+00,  1.61608147e+00, -2.03367771e+00,  6.06332818e+00,\n",
    "        1.93811643e+00, -4.79783624e-03, -9.98475596e-01, -5.24460044e-02,\n",
    "        1.85119398e-01,  2.00839107e+00, -1.26004334e-01,  5.13597771e-01,\n",
    "        2.31426241e-01,  3.98996080e+00,  9.82645847e-01, -4.75199333e+00,\n",
    "        2.72407110e+00, -1.03862383e-01, -2.24134777e+00,  3.22356094e+00,\n",
    "       -2.19633403e+00,  2.31669001e-01,  3.96379970e+00,  3.52403262e-01,\n",
    "        3.67995018e-01, -1.42015657e+00,  2.17887023e-01,  7.40756273e-01,\n",
    "        1.42807626e+00, -4.01338534e+00, -1.03024026e+00,  4.61114781e+00,\n",
    "       -1.39667994e+00, -1.27614834e+00,  3.36206708e+00, -1.43931080e+00,\n",
    "       -1.25112172e-02,  6.43978652e-01,  1.15154074e+00, -6.36571278e-01,\n",
    "       -2.55207367e-01,  1.03158141e+00, -7.42869335e-01,  4.42094991e+00,\n",
    "        1.13534589e+00,  2.28931606e+00,  3.78426722e+00,  1.26065869e+00,\n",
    "        2.61729114e+00,  2.97586388e+00, -8.04041792e-01,  1.97091942e+00,\n",
    "        1.45704795e+00,  2.02754672e+00,  1.06865591e+00,  1.55703430e+00,\n",
    "        2.21083302e+00,  1.41584377e+00,  4.46309509e+00,  1.71144988e+00,\n",
    "       -8.11417883e-01,  3.45627592e+00,  2.31330954e+00,  5.01008244e-01,\n",
    "        7.60296126e-01,  1.60649734e+00,  4.25672386e+00,  2.58653510e+00,\n",
    "        2.07830952e+00, -1.15414938e+00,  1.57287082e+00,  4.49991421e-02,\n",
    "        3.32486471e+00,  1.96343396e+00,  9.94471595e-01,  8.13155810e-01,\n",
    "        4.38402349e+00,  3.53147021e-01,  6.05678611e+00,  2.76276029e+00,\n",
    "        6.73932119e-01, -2.97142769e+00,  3.22375887e+00, -1.22387867e+00,\n",
    "        9.65912647e-01,  3.71370207e+00,  5.31421915e+00,  4.37829246e-01,\n",
    "       -2.00759633e-01,  1.58481531e+00, -1.35762131e+00,  1.65298330e+00,\n",
    "        2.90712967e+00, -8.40103960e-01,  2.20500676e+00,  8.46844381e-01,\n",
    "       -1.79179997e+00,  8.39376838e-01, -3.54849585e+00, -1.30150684e+00,\n",
    "        1.22105832e+00,  3.07806069e+00, -2.02344130e+00,  6.76985134e-01,\n",
    "        4.09935790e+00,  6.31635973e+00,  1.97545078e+00,  3.82248458e+00,\n",
    "        3.90463801e+00, -2.58253299e-01, -1.17090928e+00,  2.30758536e+00,\n",
    "       -1.12083174e+00,  5.13841266e-01,  6.30310120e-01,  3.33778379e+00,\n",
    "        1.64755955e+00,  5.30418333e+00,  7.56009190e-01,  1.62262739e+00,\n",
    "        4.24772817e+00, -1.38692495e-01,  7.83441228e-02, -1.80106023e+00,\n",
    "       -4.38941908e-01,  1.55014871e+00,  1.11132924e-01,  1.67072049e+00,\n",
    "       -2.86873301e-01,  1.86680016e-01,  2.81173698e+00,  1.28340647e+00,\n",
    "       -1.20123953e-01, -2.62790318e+00,  6.11783550e-01,  2.34198423e+00,\n",
    "        9.18865683e-01,  3.61238579e+00,  2.14311584e+00,  1.30842962e+00,\n",
    "        2.74517863e+00,  3.55742712e+00,  1.92106175e+00, -8.28697469e-01,\n",
    "       -1.60333516e+00, -2.61736063e+00,  2.23216969e+00,  5.23274998e+00,\n",
    "        3.09480540e+00,  1.77553719e+00,  1.48842239e+00,  7.15669405e-01,\n",
    "        2.80132331e+00,  2.78314295e-01,  1.62666573e+00, -4.15847696e+00,\n",
    "        2.02617155e+00,  2.61485742e+00,  3.81102084e+00,  2.04872615e+00,\n",
    "        2.03300841e+00,  1.45467805e+00, -2.71469099e+00,  2.12188337e+00,\n",
    "       -7.45303402e-01,  8.85871791e-01,  2.67251352e+00,  2.96159630e+00,\n",
    "        1.51027534e-01,  1.77347541e+00,  4.89317928e+00,  2.94575439e+00,\n",
    "       -1.06305000e-01,  2.01487986e+00, -2.91140522e-01, -1.46738763e+00,\n",
    "        3.03911676e+00, -8.28198550e-01,  3.94908186e+00,  3.06446669e+00,\n",
    "       -6.10999724e-01,  2.73805107e+00, -2.83046034e+00,  5.29684081e+00,\n",
    "       -2.89807506e-01,  3.46250355e-01,  1.93648377e-01,  3.12496526e+00,\n",
    "        2.38623024e+00,  2.00301795e+00,  1.82058439e+00,  9.97963819e-01,\n",
    "        5.51851166e+00,  5.28635044e+00,  6.25829663e-01,  4.20943387e+00,\n",
    "        4.49129777e+00,  1.51514088e+00, -1.82421924e+00, -2.67674176e+00,\n",
    "        8.47146610e-01,  1.43092706e+00,  1.38946845e+00,  1.36065151e+00,\n",
    "       -1.36015181e+00, -7.98105951e-01, -1.21746780e+00,  1.61809324e+00,\n",
    "        3.14391639e-01,  3.07014475e+00,  2.29457679e-01, -1.39414339e+00,\n",
    "        1.02424345e+00,  4.32590213e+00,  7.06827823e-01, -4.14266250e+00,\n",
    "        4.32349734e+00,  3.08239061e+00,  2.73528330e+00, -1.74151435e+00,\n",
    "        3.42732478e+00,  2.65048841e-01, -2.90144904e+00, -7.76960801e-03,\n",
    "        3.25027943e+00,  5.22646661e-01, -1.68678061e+00,  1.08918591e+00,\n",
    "        5.16626030e+00, -3.58485907e-01, -5.80082693e-01,  2.39063502e+00,\n",
    "        2.24921183e+00,  5.40664877e+00,  4.58827787e+00, -3.09610279e-01,\n",
    "       -1.18890735e+00,  1.42843554e+00,  9.50622946e-01,  1.46752625e+00,\n",
    "        2.24955301e+00, -6.26461430e-01,  2.78551949e+00,  4.35367223e-01,\n",
    "        2.89876200e+00,  1.61552047e+00,  9.25578997e-01,  3.27705056e+00,\n",
    "        2.61813712e+00,  4.03299289e+00, -3.79008485e-02, -1.20898852e-01,\n",
    "        3.07782603e+00,  1.68442317e+00,  5.21609841e-01, -9.03973317e-01,\n",
    "        3.90301307e+00, -7.66959571e-01,  8.89172770e-02,  1.26052849e+00,\n",
    "        4.50874518e-01,  2.66757113e+00,  1.42514288e+00, -1.48870212e+00,\n",
    "       -1.47729308e+00,  6.50589401e-01, -6.16871880e-01,  1.10782151e+00,\n",
    "        1.93850749e+00,  3.69915856e+00, -7.87561343e-01, -3.40433826e+00,\n",
    "       -2.27494620e+00,  3.13648075e+00,  6.27883665e+00, -4.17136889e-01,\n",
    "       -7.57605234e-01, -6.15145579e-01,  2.00949391e+00,  1.13658532e+00,\n",
    "        1.44723286e+00,  2.28413859e+00,  7.44930243e-01, -6.20106275e-01,\n",
    "       -4.61538392e+00,  8.41576953e-01,  1.47192426e+00,  3.73209437e+00,\n",
    "       -2.93953447e-01,  1.08387189e+00, -1.65516393e-01,  3.17691176e+00,\n",
    "       -3.50711211e+00,  4.18487796e+00,  1.32300634e+00,  1.28011871e+00,\n",
    "       -7.14833005e-01,  2.63795880e+00, -1.65362899e+00,  1.56602314e-01,\n",
    "        4.03410646e+00,  5.68544577e+00,  2.28210860e+00,  1.54304431e+00,\n",
    "       -2.33331749e-01,  9.64336523e-01,  2.30738575e+00,  3.67911485e+00,\n",
    "        2.42305390e+00,  2.83494051e+00,  6.88977577e-01,  9.73568013e-01,\n",
    "       -4.41148879e-01, -4.99065474e+00,  3.90927110e+00, -1.99084956e+00,\n",
    "        1.12440632e+00,  3.12196167e+00,  2.55076329e+00,  7.87050361e-01,\n",
    "       -1.13075564e+00,  4.49489636e-02, -5.55707674e-01,  6.25252944e-01,\n",
    "       -5.17920910e-02,  4.96341057e+00,  3.34777242e+00,  8.28005274e-01,\n",
    "        9.34053842e-01,  6.72556722e+00,  1.33703262e+00,  4.36561562e+00,\n",
    "        2.72404554e-01, -7.19444656e-01,  7.63658047e-02, -1.55117378e+00,\n",
    "        3.56261756e+00,  3.04394423e+00, -1.04602818e+00, -1.03981661e+00,\n",
    "       -1.57176261e-01,  2.59649686e+00,  2.43004284e+00,  1.92016834e+00,\n",
    "        2.38856092e+00,  3.98576687e+00,  2.64166895e+00, -7.46898869e-02,\n",
    "       -8.43776739e-01,  1.30588675e+00, -1.09591440e+00,  2.27513217e+00,\n",
    "        2.83967937e+00,  5.75331735e-01, -5.14385562e-03,  4.84199457e+00,\n",
    "        7.35629409e-01,  6.70582271e-01,  5.97849937e-01,  2.99912061e-01,\n",
    "        2.02013314e+00, -3.55371280e-01, -4.65550299e+00,  2.59432255e+00,\n",
    "        1.76674081e+00, -3.02694500e+00,  3.33961229e-01,  2.27995045e+00,\n",
    "       -2.29769600e-01,  8.58346098e-01,  2.34817042e-01,  9.31584404e-01,\n",
    "       -1.38808326e+00,  4.77767585e-01,  1.59702954e+00,  2.64076405e+00,\n",
    "        1.68770697e+00,  5.28302280e-01, -3.45040923e-01,  2.06174513e+00,\n",
    "        2.58744479e+00,  1.47870598e+00,  4.33451367e+00, -4.91906578e-01,\n",
    "       -2.61743262e+00, -2.36521226e-01,  5.62511505e+00, -1.74455368e-01,\n",
    "        5.04940315e-01, -1.71718845e-01, -1.33094347e+00,  2.76709672e+00,\n",
    "       -1.62496529e-01, -3.16510579e+00,  2.38095658e+00, -2.93461182e-01,\n",
    "       -2.12296365e-01,  9.13508303e-01,  6.34825507e-01, -7.45155383e-01,\n",
    "        2.02496828e+00, -1.53539310e+00, -1.70741849e+00, -1.42934027e+00,\n",
    "       -2.66105418e+00,  2.13110105e+00,  2.26198621e+00,  2.14266078e+00,\n",
    "        4.19695857e+00,  3.50047549e-01,  1.59706782e+00,  1.30289617e+00,\n",
    "        2.03939934e+00,  4.62883266e+00,  2.94635491e+00, -1.93229692e+00,\n",
    "       -5.71740586e-02, -2.59738588e-01, -1.44873830e+00,  1.31861535e+00,\n",
    "        5.42850025e-01,  1.58466622e+00,  1.85809742e+00,  1.26579122e+00,\n",
    "        1.42629839e+00, -9.01590985e-01,  2.85207930e+00, -1.62665302e+00,\n",
    "        1.58884620e-01,  5.84491927e-01, -1.22166498e+00,  1.76111749e+00,\n",
    "        3.86500987e+00, -3.96690013e-01, -2.71689874e+00,  9.93026771e-01,\n",
    "        1.75629582e+00,  2.41829398e+00, -7.07958847e-01, -2.12707747e+00,\n",
    "       -6.80113301e-01,  4.44437265e-01,  1.34523364e+00,  1.67707017e+00,\n",
    "       -4.72429119e-01, -4.75911785e-01, -3.58320969e+00, -1.40089941e+00,\n",
    "       -1.65891047e+00,  1.29695715e+00, -1.26759055e+00,  7.45836369e-01,\n",
    "       -9.43306089e-01, -9.52376623e-01,  1.73913520e+00,  3.30788786e+00,\n",
    "       -2.43528553e+00,  5.82334551e-01, -2.84904589e-01,  2.40710030e+00,\n",
    "        5.99460549e-01,  1.04530118e+00,  1.59739822e-01,  7.17642095e-01,\n",
    "        2.10052228e+00,  1.21400237e-01,  2.07822458e+00,  1.18786959e+00,\n",
    "       -1.78809626e+00,  1.85386806e-01,  9.07730982e-01,  3.53559483e+00,\n",
    "        9.08718864e-01, -6.65785848e-01,  2.01257342e+00,  3.93540690e+00,\n",
    "        3.68509629e+00,  1.38604981e+00,  1.04390210e+00,  2.87373796e+00,\n",
    "        4.45240058e-01,  1.83056399e+00,  6.41501609e-01,  6.44734434e-01,\n",
    "       -1.00742299e+00,  2.13708387e+00,  2.25096528e+00, -3.10486373e+00,\n",
    "        7.91742226e-02,  5.74710264e-02,  2.50360479e+00,  1.73475806e+00,\n",
    "       -1.58572266e+00,  3.35605121e+00,  6.84098715e-01,  2.98121304e+00,\n",
    "        5.75789316e+00,  3.58178070e+00, -1.00012682e+00, -1.89890521e+00,\n",
    "        4.98374390e+00, -1.64450195e+00, -6.17039962e+00,  1.65804617e+00,\n",
    "       -7.07445614e-01,  1.81080604e+00,  2.11834459e+00,  2.82815304e+00,\n",
    "        1.13392351e+00,  2.14898523e+00,  9.04948998e-01, -4.94364604e+00,\n",
    "       -1.21773544e+00,  1.90490527e+00,  1.37011661e+00,  2.68934046e+00,\n",
    "        1.65802205e+00,  2.81378878e+00,  2.55172754e+00,  5.46072467e+00,\n",
    "       -3.56088670e+00,  2.32436594e+00,  2.62428766e+00, -6.39324603e-01,\n",
    "        2.26958729e+00,  3.77218598e-01, -3.05117098e+00,  1.66301523e+00,\n",
    "        2.45707867e+00, -2.05698743e+00, -3.16593668e+00,  3.19501679e+00,\n",
    "       -6.11771460e-01, -7.40770608e-01, -1.63231307e+00,  3.34725438e+00,\n",
    "        3.48598934e+00, -2.16800583e+00,  1.74780739e+00, -2.86909529e+00,\n",
    "        3.37008203e+00,  1.26931194e+00, -2.14569826e+00,  1.41619399e+00,\n",
    "       -2.72553810e-01,  2.01116782e+00, -6.83921139e-01, -1.98961651e+00,\n",
    "       -1.21519711e-01,  2.08181563e+00,  1.64801399e+00, -1.69988369e+00,\n",
    "        2.12890347e+00,  2.53606215e+00,  3.58285065e+00, -3.87329297e+00,\n",
    "        4.48567269e+00,  2.83042650e+00,  2.39993084e+00,  1.72169075e+00,\n",
    "        4.32184956e+00,  1.97918146e+00,  4.17484338e-01, -1.57416505e+00,\n",
    "        2.70139205e+00,  3.35495187e+00, -2.16406444e-01,  1.48411508e+00,\n",
    "        2.23432084e+00, -2.90350871e+00,  4.65834905e+00,  3.41214520e+00,\n",
    "       -1.90571040e+00,  3.08637838e+00, -8.73078438e-01,  3.33535448e+00,\n",
    "        1.01820014e+00,  9.23310729e-01, -1.28645812e+00,  6.49200908e-01,\n",
    "        1.09872139e+00,  2.03642119e+00, -1.01564130e+00,  3.51612390e+00,\n",
    "       -1.94135550e+00,  2.79418015e+00,  2.55054902e+00,  4.75532553e-01,\n",
    "       -9.60857137e-01, -6.89359185e-01,  1.99932419e+00,  1.75442739e+00,\n",
    "        3.15873656e+00,  3.65246418e+00,  3.26194727e+00,  5.83494325e+00,\n",
    "        1.42084927e+00,  7.35324947e-01,  4.60453124e+00,  1.63255100e+00,\n",
    "        1.92336443e+00,  2.18450552e+00,  2.84606789e+00,  2.58300284e+00,\n",
    "        3.22128754e+00, -3.99203907e-02,  2.29241476e-01, -3.02198218e+00,\n",
    "        4.55529201e+00,  1.52043286e-01,  2.66624887e-01, -5.28129064e-01,\n",
    "        4.49256215e-01,  1.85556828e+00,  3.57199460e+00,  2.68836353e+00,\n",
    "        3.15650692e+00,  2.73155588e+00, -4.84404978e-01,  4.88941086e+00,\n",
    "        1.74388252e+00,  2.02715070e+00,  3.86509757e+00, -5.62753220e-01,\n",
    "        2.99460683e+00,  2.94167215e+00,  3.78721150e+00, -6.34527110e-01,\n",
    "        1.60775321e+00, -9.97242079e-01,  1.76285376e+00,  2.43456625e+00,\n",
    "       -1.66214960e+00, -9.40562708e-01, -1.51288836e+00,  4.28055684e+00,\n",
    "        1.03773171e+00,  6.39625727e+00,  4.21216399e-01,  8.96192082e-01,\n",
    "        3.53593662e+00, -4.61599995e-01, -1.26068399e+00,  1.36637367e+00,\n",
    "        1.08741679e+00,  1.51790743e+00,  1.86548204e+00, -2.95665822e+00,\n",
    "        1.09600221e+00, -3.96291829e+00,  1.14503869e+00,  3.12519577e+00,\n",
    "        2.38544496e-01,  8.68835602e-01, -5.72155208e-01, -2.70429306e+00,\n",
    "        1.16194385e+00,  2.71392121e+00, -3.44610526e+00,  2.75310124e+00,\n",
    "        3.70252457e+00,  1.94115344e+00,  2.60263742e+00, -2.94365645e+00,\n",
    "       -8.28998113e-02,  1.99742758e+00, -1.47000537e-01,  3.64540982e+00,\n",
    "       -1.27581523e+00,  2.28945618e+00, -3.13276710e+00,  1.27961321e+00,\n",
    "        2.80638268e+00,  2.67980029e+00,  1.77254121e+00,  6.47848832e+00,\n",
    "       -1.24448435e+00,  2.06480012e+00,  9.45592687e-01, -1.96434271e+00,\n",
    "        3.68141649e+00,  2.30357671e+00, -1.13131689e+00,  9.11178351e-01,\n",
    "       -4.02516501e-01,  3.36849634e+00,  5.22820993e+00, -3.41819239e-01,\n",
    "        2.15718849e+00,  1.95394799e+00,  1.57130842e-01,  1.81249456e+00,\n",
    "       -2.73296325e+00,  3.32725114e+00,  3.30597872e+00,  3.83415850e+00,\n",
    "       -1.70916528e+00,  3.41751692e+00,  1.53831434e-01,  1.01389936e+00,\n",
    "        4.38437179e-01,  8.62726798e-01, -1.73302408e+00,  4.10504508e+00,\n",
    "        1.61099139e+00,  1.28505678e+00,  1.03836681e+00,  1.87016066e+00,\n",
    "        2.79352733e+00,  3.56394190e+00, -3.63263947e+00,  9.83095635e-01,\n",
    "       -1.35067588e+00,  3.90946311e+00, -2.87807698e-01,  1.79605555e+00,\n",
    "        1.35171483e+00, -2.51028359e+00, -1.08463145e+00, -2.35692686e+00,\n",
    "        1.03412355e+00,  1.85696827e+00,  3.57669075e+00, -3.35036873e+00,\n",
    "        4.49779603e+00,  4.26554505e+00,  3.69945924e+00,  2.06463148e+00,\n",
    "       -1.37343353e+00, -3.26416555e+00,  5.91987597e-01,  2.21939579e+00,\n",
    "        9.27235340e-01, -8.74076722e-01,  1.99215839e+00,  5.64468518e-01,\n",
    "       -7.09592865e-01, -4.30179586e+00,  2.99983134e-01, -2.74033470e+00,\n",
    "       -1.75765075e+00,  3.15157633e+00, -2.11654823e+00,  3.38128368e+00,\n",
    "       -1.42173728e-01,  3.70196795e+00,  7.46665770e-01,  6.27470604e+00,\n",
    "        1.71457922e-01, -1.75704499e+00,  2.82114626e+00,  1.01933046e+00,\n",
    "       -2.63841893e-01, -7.00985354e-01, -4.37237234e+00,  2.38937144e+00,\n",
    "        1.62091583e-02, -2.23336569e+00,  2.90689760e+00, -1.66585996e-01,\n",
    "        4.92973862e+00,  3.53881470e-01,  2.00376156e+00,  7.77338533e-01,\n",
    "        2.28235411e+00, -9.03959338e-02,  2.51572832e+00, -3.60671086e+00,\n",
    "        2.99813443e+00, -5.30416994e+00, -1.29186765e-01,  1.61367394e+00,\n",
    "        4.11279397e+00, -1.66566272e+00, -5.47440542e-01, -5.10432611e-01,\n",
    "        4.78041170e+00,  1.67069455e+00,  8.12905494e-01,  1.95597221e+00,\n",
    "       -9.82053814e-01,  4.24818363e+00,  3.45928909e-01,  1.04093012e+00,\n",
    "       -8.05552536e-02,  1.17764269e+00,  1.48007420e+00, -7.99622253e-01,\n",
    "        6.05444355e+00, -4.09523257e+00,  5.53642679e+00,  2.61855528e+00,\n",
    "        2.93306299e+00,  3.10541459e-01,  2.22913099e+00,  3.23830351e+00,\n",
    "        1.21094081e+00,  2.57052576e+00,  1.80924289e+00, -6.94954165e-01,\n",
    "       -1.29631524e+00,  1.74039946e+00,  3.11417849e-01,  7.93618573e-02,\n",
    "        2.98009406e+00, -1.44909200e+00, -1.32142467e+00, -3.05446065e-01,\n",
    "        1.32220222e+00,  1.13439604e+00, -4.39849835e-01,  1.50007341e+00,\n",
    "        4.30450665e+00,  3.06057443e+00,  4.34418085e-01, -4.48749772e+00,\n",
    "       -5.77718522e-01,  1.88679056e+00,  5.26456484e+00,  4.18445669e+00,\n",
    "       -1.30477049e+00, -1.50977582e+00,  2.51382135e+00,  1.25474108e+00,\n",
    "        8.89465897e-01,  1.72392568e+00,  2.73520105e+00,  3.97012242e+00,\n",
    "        3.11662495e+00,  2.23699054e+00, -4.31026263e-01,  1.43611037e+00,\n",
    "        4.52739321e-01,  1.88995209e+00, -2.27187382e+00,  1.10849814e+00,\n",
    "        5.39839245e+00,  2.04356461e+00, -3.23887076e+00,  2.96114617e+00,\n",
    "        9.23460455e-01,  1.19709390e+00, -1.90677013e+00, -3.27728658e+00,\n",
    "       -2.49153275e+00,  2.55158134e-01,  1.06207388e+00,  3.98299757e+00,\n",
    "        2.55120797e+00,  4.80145054e+00,  2.99450965e+00,  4.66400433e+00,\n",
    "        1.78938339e+00,  2.45464245e+00,  2.46781046e+00, -1.62071124e-01,\n",
    "       -6.96154013e-01,  3.02258243e-01,  3.96839961e+00, -2.96243965e+00,\n",
    "        2.99219872e+00,  3.38585126e+00,  2.47616283e-01,  3.64785214e+00,\n",
    "       -2.06677519e+00,  1.29924217e+00,  4.41035576e+00,  1.52249115e+00,\n",
    "        3.38814197e-01, -3.17025625e-01,  2.46596558e+00,  1.82207555e-01,\n",
    "        5.01119162e+00,  1.08728855e+00, -2.24083961e+00, -1.85168234e+00,\n",
    "       -1.19438648e+00,  5.39628233e+00,  5.67237464e+00,  1.31815631e+00,\n",
    "        3.39474997e+00,  4.39354107e-01, -9.94079541e-01, -3.73330377e-01,\n",
    "       -2.01920633e+00, -2.43476326e+00,  9.89713745e-01,  4.56165273e+00,\n",
    "        3.18690301e+00,  3.33376490e+00,  3.83759816e-01, -2.38300102e-01,\n",
    "        3.17121367e+00,  1.32161615e+00, -2.45269357e+00, -2.75235299e+00,\n",
    "        2.41542432e+00,  1.93593667e+00,  7.72688333e-01,  4.39081531e-01,\n",
    "        1.70564400e+00, -6.75721676e-01,  3.40629336e-01, -1.04571975e+00,\n",
    "        2.40014348e+00, -2.62017098e-01,  2.51686284e+00,  2.49224882e+00,\n",
    "        8.48374083e-01,  2.75196609e+00,  2.58410867e+00,  3.55283492e+00,\n",
    "       -1.90326205e+00,  3.56182094e-01, -1.07989391e+00,  6.10666613e-02,\n",
    "        5.38435648e+00, -2.39604718e+00, -1.82766091e+00,  1.87163986e+00,\n",
    "        1.80032663e+00, -1.57363859e+00, -1.71788754e+00, -3.21099294e+00,\n",
    "       -7.29869257e-01,  2.16381089e+00,  5.73527468e+00, -1.64033420e+00,\n",
    "       -6.78560932e-01,  3.93507431e+00,  8.40627962e-01, -5.62905275e-01,\n",
    "        5.50925907e-01, -7.46003133e-01,  1.59563202e+00,  4.33154897e+00,\n",
    "        1.29376555e-01,  8.16113262e-01,  4.98419701e+00,  5.07989137e-01,\n",
    "       -1.78416466e+00,  9.36127256e-01,  1.63878237e+00,  9.82269319e-01,\n",
    "        1.48424449e+00,  1.41696180e+00,  1.25442837e-01,  2.25892069e+00,\n",
    "       -3.39225105e-01, -1.82969580e+00,  2.87131834e-01, -1.23210066e-01,\n",
    "        1.74772404e+00,  3.58591119e-01,  1.68626345e+00,  1.08231608e+00,\n",
    "        2.85178326e+00, -5.62749469e-02,  3.20276969e+00, -1.71823822e+00,\n",
    "        1.60568636e+00,  3.51438771e+00,  4.23795556e+00,  1.95060566e+00,\n",
    "        1.77626192e+00,  5.39676751e+00,  3.05042017e+00,  9.24637928e-01,\n",
    "       -2.70466943e+00,  1.76873406e+00,  2.40014037e+00,  5.23621084e-02,\n",
    "       -3.27400786e+00,  3.11339993e+00,  1.76861581e+00, -2.59802228e+00,\n",
    "        1.95863460e+00,  2.08386725e+00,  1.45294003e+00,  1.18062566e-01,\n",
    "       -4.02759788e+00, -9.48937470e-01,  3.41916940e+00,  2.17479222e+00,\n",
    "        3.20247366e+00,  2.36794350e+00, -9.85547919e-01, -2.34077138e-01]\n"
   ]
  },
  {
   "cell_type": "code",
   "execution_count": 97,
   "metadata": {},
   "outputs": [],
   "source": [
    "[q1, median, q3] = np.quantile(dataset,[.25,.5,.75])\n",
    "iqr = q3 - q1\n",
    "lbox = q1\n",
    "rbox = q3\n",
    "lwhisker = round(lbox-1.5*iqr)\n",
    "rwhisker = round(rbox+1.5*iqr)"
   ]
  },
  {
   "cell_type": "markdown",
   "metadata": {},
   "source": [
    "### Boxplot with matplotlib"
   ]
  },
  {
   "cell_type": "code",
   "execution_count": 106,
   "metadata": {
    "collapsed": true
   },
   "outputs": [
    {
     "data": {
      "text/plain": [
       "[165.61587,\n",
       " 273.52771,\n",
       " 426.89261,\n",
       " 385.33179,\n",
       " 187.53261,\n",
       " 201.56036,\n",
       " 38.3473,\n",
       " 256.80933999999996,\n",
       " 266.4224,\n",
       " 43.362809999999996,\n",
       " 363.85913999999997,\n",
       " 658.02404,\n",
       " 367.43791,\n",
       " 266.73587000000003,\n",
       " 246.96117999999998,\n",
       " 180.00933999999998,\n",
       " 197.19791,\n",
       " 255.73832000000002,\n",
       " 129.88036,\n",
       " 323.21261,\n",
       " 173.81832,\n",
       " 223.52934,\n",
       " 92.70812,\n",
       " 92.86485,\n",
       " 383.58159,\n",
       " 343.27465,\n",
       " 197.90322,\n",
       " 29.413420000000002,\n",
       " 154.30485,\n",
       " 651.59791,\n",
       " 114.31138,\n",
       " 164.12689,\n",
       " 217.10322000000002,\n",
       " 50.1024,\n",
       " 262.24281,\n",
       " 235.10159,\n",
       " 267.67627999999996,\n",
       " 247.562,\n",
       " 1598.1971,\n",
       " 120.86811999999999,\n",
       " 289.30567,\n",
       " 237.97506,\n",
       " 106.60526000000002,\n",
       " 265.61261,\n",
       " 340.50567,\n",
       " 79.93424,\n",
       " 207.56853,\n",
       " 235.65016,\n",
       " 157.3873,\n",
       " 356.36199999999997,\n",
       " 297.45587,\n",
       " 190.30159,\n",
       " 209.44933999999998,\n",
       " 204.77342,\n",
       " 145.31873000000002,\n",
       " 133.3024,\n",
       " 236.2771,\n",
       " 264.93342,\n",
       " 271.46404,\n",
       " 305.50158999999996,\n",
       " 173.5571,\n",
       " 407.06567,\n",
       " 91.74159,\n",
       " 120.86811999999999,\n",
       " 275.04281000000003,\n",
       " 214.5171,\n",
       " 177.44933999999998,\n",
       " 335.56853,\n",
       " 198.81751,\n",
       " 248.5024,\n",
       " 205.63546000000002,\n",
       " 243.48689,\n",
       " 506.27873,\n",
       " 245.49832,\n",
       " 326.922,\n",
       " 277.62892999999997,\n",
       " 262.08608,\n",
       " 152.68526,\n",
       " 160.7571,\n",
       " 269.19138,\n",
       " 283.19302000000005,\n",
       " 194.0371,\n",
       " 175.80363,\n",
       " 659.46077,\n",
       " 200.04526,\n",
       " 285.28281,\n",
       " 319.97342000000003,\n",
       " 185.36444,\n",
       " 105.45586999999999,\n",
       " 175.01995,\n",
       " 195.00363000000002,\n",
       " 132.23138,\n",
       " 86.67383000000001,\n",
       " 260.04852999999997,\n",
       " 513.5668900000001,\n",
       " 288.49587,\n",
       " 324.93669,\n",
       " 386.66404,\n",
       " 149.65506000000002,\n",
       " 291.10812000000004,\n",
       " 380.08117999999996,\n",
       " 208.95302,\n",
       " 199.8624,\n",
       " 209.60608,\n",
       " 184.39791,\n",
       " 298.10893,\n",
       " 249.62567,\n",
       " 292.25751,\n",
       " 184.21506000000002,\n",
       " 213.39382999999998,\n",
       " 228.70158999999998,\n",
       " 256.62649,\n",
       " 242.75546,\n",
       " 312.2673,\n",
       " 242.62485,\n",
       " 280.5024,\n",
       " 448.54812000000004,\n",
       " 155.40200000000002,\n",
       " 303.04607999999996,\n",
       " 320.522,\n",
       " 163.91791,\n",
       " 360.95955,\n",
       " 268.25097999999997,\n",
       " 199.07873,\n",
       " 222.74567000000002,\n",
       " 95.86893,\n",
       " 225.14892999999998,\n",
       " 350.22322,\n",
       " 509.33505999999994,\n",
       " 239.56852999999998,\n",
       " 232.202,\n",
       " 312.842,\n",
       " 172.22485,\n",
       " 211.64362999999997,\n",
       " 272.69178999999997,\n",
       " 138.39628000000002,\n",
       " 176.74403999999998,\n",
       " 278.04689,\n",
       " 89.67791,\n",
       " 229.51137999999997,\n",
       " 201.56036,\n",
       " 221.96200000000002,\n",
       " 171.4673,\n",
       " 44.59057,\n",
       " 150.49098,\n",
       " 71.05261,\n",
       " 325.17179,\n",
       " 196.80608,\n",
       " 123.61098,\n",
       " 190.95465,\n",
       " 211.01668999999998,\n",
       " 236.48608,\n",
       " 207.09832,\n",
       " 232.12363,\n",
       " 172.09423999999999,\n",
       " 148.29668999999998,\n",
       " 215.43138,\n",
       " 112.90077,\n",
       " 196.362,\n",
       " 203.59791,\n",
       " 252.47302000000002,\n",
       " 274.1024,\n",
       " 105.35138,\n",
       " 215.87546,\n",
       " 151.58812,\n",
       " 266.05669,\n",
       " 232.14975,\n",
       " 230.3473,\n",
       " 152.92036000000002,\n",
       " 17.73669,\n",
       " 225.48852999999997,\n",
       " 121.73016000000001,\n",
       " 213.7073,\n",
       " 289.12281,\n",
       " 265.29913999999997,\n",
       " 164.33587,\n",
       " 302.36689,\n",
       " 146.46812,\n",
       " 645.38077,\n",
       " 188.21178999999998,\n",
       " 213.78567,\n",
       " 265.24689,\n",
       " 209.05751,\n",
       " 219.40200000000002,\n",
       " 264.07138,\n",
       " 278.56934,\n",
       " 327.88853,\n",
       " 197.38076999999998,\n",
       " 249.93913999999998,\n",
       " 270.28853,\n",
       " 160.62649,\n",
       " 150.09913999999998]"
      ]
     },
     "execution_count": 106,
     "metadata": {},
     "output_type": "execute_result"
    }
   ],
   "source": [
    "from music_data import two_thousand, two_thousand_one, two_thousand_two\n",
    "# two_thousand"
   ]
  },
  {
   "cell_type": "code",
   "execution_count": 113,
   "metadata": {
    "collapsed": true
   },
   "outputs": [
    {
     "ename": "ValueError",
     "evalue": "Dimensions of labels and X must be compatible",
     "output_type": "error",
     "traceback": [
      "\u001b[0;31m---------------------------------------------------------------------------\u001b[0m",
      "\u001b[0;31mValueError\u001b[0m                                Traceback (most recent call last)",
      "\u001b[0;32m<ipython-input-113-b695fdabcc81>\u001b[0m in \u001b[0;36m<module>\u001b[0;34m\u001b[0m\n\u001b[1;32m      1\u001b[0m \u001b[0;31m# Using Seaborn\u001b[0m\u001b[0;34m\u001b[0m\u001b[0;34m\u001b[0m\u001b[0;34m\u001b[0m\u001b[0m\n\u001b[1;32m      2\u001b[0m \u001b[0mplt\u001b[0m\u001b[0;34m.\u001b[0m\u001b[0mfigure\u001b[0m\u001b[0;34m(\u001b[0m\u001b[0mfigsize\u001b[0m\u001b[0;34m=\u001b[0m\u001b[0;34m(\u001b[0m\u001b[0;36m6\u001b[0m\u001b[0;34m,\u001b[0m\u001b[0;36m6\u001b[0m\u001b[0;34m)\u001b[0m\u001b[0;34m)\u001b[0m\u001b[0;34m\u001b[0m\u001b[0;34m\u001b[0m\u001b[0m\n\u001b[0;32m----> 3\u001b[0;31m sns.boxplot(data=[two_thousand, two_thousand_one, two_thousand_two], \\\n\u001b[0m\u001b[1;32m      4\u001b[0m            labels=['2000 Songs', '2001 Songs', '2002 Songs'])\n\u001b[1;32m      5\u001b[0m \u001b[0mplt\u001b[0m\u001b[0;34m.\u001b[0m\u001b[0mtitle\u001b[0m\u001b[0;34m(\u001b[0m\u001b[0;34m'Songs released in 2000-2002'\u001b[0m\u001b[0;34m)\u001b[0m\u001b[0;34m\u001b[0m\u001b[0;34m\u001b[0m\u001b[0m\n",
      "\u001b[0;32m~/anaconda3/lib/python3.8/site-packages/seaborn/categorical.py\u001b[0m in \u001b[0;36mboxplot\u001b[0;34m(x, y, hue, data, order, hue_order, orient, color, palette, saturation, width, dodge, fliersize, linewidth, whis, ax, **kwargs)\u001b[0m\n\u001b[1;32m   2239\u001b[0m     \u001b[0mkwargs\u001b[0m\u001b[0;34m.\u001b[0m\u001b[0mupdate\u001b[0m\u001b[0;34m(\u001b[0m\u001b[0mdict\u001b[0m\u001b[0;34m(\u001b[0m\u001b[0mwhis\u001b[0m\u001b[0;34m=\u001b[0m\u001b[0mwhis\u001b[0m\u001b[0;34m)\u001b[0m\u001b[0;34m)\u001b[0m\u001b[0;34m\u001b[0m\u001b[0;34m\u001b[0m\u001b[0m\n\u001b[1;32m   2240\u001b[0m \u001b[0;34m\u001b[0m\u001b[0m\n\u001b[0;32m-> 2241\u001b[0;31m     \u001b[0mplotter\u001b[0m\u001b[0;34m.\u001b[0m\u001b[0mplot\u001b[0m\u001b[0;34m(\u001b[0m\u001b[0max\u001b[0m\u001b[0;34m,\u001b[0m \u001b[0mkwargs\u001b[0m\u001b[0;34m)\u001b[0m\u001b[0;34m\u001b[0m\u001b[0;34m\u001b[0m\u001b[0m\n\u001b[0m\u001b[1;32m   2242\u001b[0m     \u001b[0;32mreturn\u001b[0m \u001b[0max\u001b[0m\u001b[0;34m\u001b[0m\u001b[0;34m\u001b[0m\u001b[0m\n\u001b[1;32m   2243\u001b[0m \u001b[0;34m\u001b[0m\u001b[0m\n",
      "\u001b[0;32m~/anaconda3/lib/python3.8/site-packages/seaborn/categorical.py\u001b[0m in \u001b[0;36mplot\u001b[0;34m(self, ax, boxplot_kws)\u001b[0m\n\u001b[1;32m    537\u001b[0m     \u001b[0;32mdef\u001b[0m \u001b[0mplot\u001b[0m\u001b[0;34m(\u001b[0m\u001b[0mself\u001b[0m\u001b[0;34m,\u001b[0m \u001b[0max\u001b[0m\u001b[0;34m,\u001b[0m \u001b[0mboxplot_kws\u001b[0m\u001b[0;34m)\u001b[0m\u001b[0;34m:\u001b[0m\u001b[0;34m\u001b[0m\u001b[0;34m\u001b[0m\u001b[0m\n\u001b[1;32m    538\u001b[0m         \u001b[0;34m\"\"\"Make the plot.\"\"\"\u001b[0m\u001b[0;34m\u001b[0m\u001b[0;34m\u001b[0m\u001b[0m\n\u001b[0;32m--> 539\u001b[0;31m         \u001b[0mself\u001b[0m\u001b[0;34m.\u001b[0m\u001b[0mdraw_boxplot\u001b[0m\u001b[0;34m(\u001b[0m\u001b[0max\u001b[0m\u001b[0;34m,\u001b[0m \u001b[0mboxplot_kws\u001b[0m\u001b[0;34m)\u001b[0m\u001b[0;34m\u001b[0m\u001b[0;34m\u001b[0m\u001b[0m\n\u001b[0m\u001b[1;32m    540\u001b[0m         \u001b[0mself\u001b[0m\u001b[0;34m.\u001b[0m\u001b[0mannotate_axes\u001b[0m\u001b[0;34m(\u001b[0m\u001b[0max\u001b[0m\u001b[0;34m)\u001b[0m\u001b[0;34m\u001b[0m\u001b[0;34m\u001b[0m\u001b[0m\n\u001b[1;32m    541\u001b[0m         \u001b[0;32mif\u001b[0m \u001b[0mself\u001b[0m\u001b[0;34m.\u001b[0m\u001b[0morient\u001b[0m \u001b[0;34m==\u001b[0m \u001b[0;34m\"h\"\u001b[0m\u001b[0;34m:\u001b[0m\u001b[0;34m\u001b[0m\u001b[0;34m\u001b[0m\u001b[0m\n",
      "\u001b[0;32m~/anaconda3/lib/python3.8/site-packages/seaborn/categorical.py\u001b[0m in \u001b[0;36mdraw_boxplot\u001b[0;34m(self, ax, kws)\u001b[0m\n\u001b[1;32m    469\u001b[0m                     \u001b[0;32mcontinue\u001b[0m\u001b[0;34m\u001b[0m\u001b[0;34m\u001b[0m\u001b[0m\n\u001b[1;32m    470\u001b[0m \u001b[0;34m\u001b[0m\u001b[0m\n\u001b[0;32m--> 471\u001b[0;31m                 artist_dict = ax.boxplot(box_data,\n\u001b[0m\u001b[1;32m    472\u001b[0m                                          \u001b[0mvert\u001b[0m\u001b[0;34m=\u001b[0m\u001b[0mvert\u001b[0m\u001b[0;34m,\u001b[0m\u001b[0;34m\u001b[0m\u001b[0;34m\u001b[0m\u001b[0m\n\u001b[1;32m    473\u001b[0m                                          \u001b[0mpatch_artist\u001b[0m\u001b[0;34m=\u001b[0m\u001b[0;32mTrue\u001b[0m\u001b[0;34m,\u001b[0m\u001b[0;34m\u001b[0m\u001b[0;34m\u001b[0m\u001b[0m\n",
      "\u001b[0;32m~/anaconda3/lib/python3.8/site-packages/matplotlib/cbook/deprecation.py\u001b[0m in \u001b[0;36mwrapper\u001b[0;34m(*args, **kwargs)\u001b[0m\n\u001b[1;32m    294\u001b[0m                 f\"for the old name will be dropped %(removal)s.\")\n\u001b[1;32m    295\u001b[0m             \u001b[0mkwargs\u001b[0m\u001b[0;34m[\u001b[0m\u001b[0mnew\u001b[0m\u001b[0;34m]\u001b[0m \u001b[0;34m=\u001b[0m \u001b[0mkwargs\u001b[0m\u001b[0;34m.\u001b[0m\u001b[0mpop\u001b[0m\u001b[0;34m(\u001b[0m\u001b[0mold\u001b[0m\u001b[0;34m)\u001b[0m\u001b[0;34m\u001b[0m\u001b[0;34m\u001b[0m\u001b[0m\n\u001b[0;32m--> 296\u001b[0;31m         \u001b[0;32mreturn\u001b[0m \u001b[0mfunc\u001b[0m\u001b[0;34m(\u001b[0m\u001b[0;34m*\u001b[0m\u001b[0margs\u001b[0m\u001b[0;34m,\u001b[0m \u001b[0;34m**\u001b[0m\u001b[0mkwargs\u001b[0m\u001b[0;34m)\u001b[0m\u001b[0;34m\u001b[0m\u001b[0;34m\u001b[0m\u001b[0m\n\u001b[0m\u001b[1;32m    297\u001b[0m \u001b[0;34m\u001b[0m\u001b[0m\n\u001b[1;32m    298\u001b[0m     \u001b[0;31m# wrapper() must keep the same documented signature as func(): if we\u001b[0m\u001b[0;34m\u001b[0m\u001b[0;34m\u001b[0m\u001b[0;34m\u001b[0m\u001b[0m\n",
      "\u001b[0;32m~/anaconda3/lib/python3.8/site-packages/matplotlib/__init__.py\u001b[0m in \u001b[0;36minner\u001b[0;34m(ax, data, *args, **kwargs)\u001b[0m\n\u001b[1;32m   1563\u001b[0m     \u001b[0;32mdef\u001b[0m \u001b[0minner\u001b[0m\u001b[0;34m(\u001b[0m\u001b[0max\u001b[0m\u001b[0;34m,\u001b[0m \u001b[0;34m*\u001b[0m\u001b[0margs\u001b[0m\u001b[0;34m,\u001b[0m \u001b[0mdata\u001b[0m\u001b[0;34m=\u001b[0m\u001b[0;32mNone\u001b[0m\u001b[0;34m,\u001b[0m \u001b[0;34m**\u001b[0m\u001b[0mkwargs\u001b[0m\u001b[0;34m)\u001b[0m\u001b[0;34m:\u001b[0m\u001b[0;34m\u001b[0m\u001b[0;34m\u001b[0m\u001b[0m\n\u001b[1;32m   1564\u001b[0m         \u001b[0;32mif\u001b[0m \u001b[0mdata\u001b[0m \u001b[0;32mis\u001b[0m \u001b[0;32mNone\u001b[0m\u001b[0;34m:\u001b[0m\u001b[0;34m\u001b[0m\u001b[0;34m\u001b[0m\u001b[0m\n\u001b[0;32m-> 1565\u001b[0;31m             \u001b[0;32mreturn\u001b[0m \u001b[0mfunc\u001b[0m\u001b[0;34m(\u001b[0m\u001b[0max\u001b[0m\u001b[0;34m,\u001b[0m \u001b[0;34m*\u001b[0m\u001b[0mmap\u001b[0m\u001b[0;34m(\u001b[0m\u001b[0msanitize_sequence\u001b[0m\u001b[0;34m,\u001b[0m \u001b[0margs\u001b[0m\u001b[0;34m)\u001b[0m\u001b[0;34m,\u001b[0m \u001b[0;34m**\u001b[0m\u001b[0mkwargs\u001b[0m\u001b[0;34m)\u001b[0m\u001b[0;34m\u001b[0m\u001b[0;34m\u001b[0m\u001b[0m\n\u001b[0m\u001b[1;32m   1566\u001b[0m \u001b[0;34m\u001b[0m\u001b[0m\n\u001b[1;32m   1567\u001b[0m         \u001b[0mbound\u001b[0m \u001b[0;34m=\u001b[0m \u001b[0mnew_sig\u001b[0m\u001b[0;34m.\u001b[0m\u001b[0mbind\u001b[0m\u001b[0;34m(\u001b[0m\u001b[0max\u001b[0m\u001b[0;34m,\u001b[0m \u001b[0;34m*\u001b[0m\u001b[0margs\u001b[0m\u001b[0;34m,\u001b[0m \u001b[0;34m**\u001b[0m\u001b[0mkwargs\u001b[0m\u001b[0;34m)\u001b[0m\u001b[0;34m\u001b[0m\u001b[0;34m\u001b[0m\u001b[0m\n",
      "\u001b[0;32m~/anaconda3/lib/python3.8/site-packages/matplotlib/axes/_axes.py\u001b[0m in \u001b[0;36mboxplot\u001b[0;34m(self, x, notch, sym, vert, whis, positions, widths, patch_artist, bootstrap, usermedians, conf_intervals, meanline, showmeans, showcaps, showbox, showfliers, boxprops, labels, flierprops, medianprops, meanprops, capprops, whiskerprops, manage_ticks, autorange, zorder)\u001b[0m\n\u001b[1;32m   3625\u001b[0m             \u001b[0mbootstrap\u001b[0m \u001b[0;34m=\u001b[0m \u001b[0mrcParams\u001b[0m\u001b[0;34m[\u001b[0m\u001b[0;34m'boxplot.bootstrap'\u001b[0m\u001b[0;34m]\u001b[0m\u001b[0;34m\u001b[0m\u001b[0;34m\u001b[0m\u001b[0m\n\u001b[1;32m   3626\u001b[0m \u001b[0;34m\u001b[0m\u001b[0m\n\u001b[0;32m-> 3627\u001b[0;31m         bxpstats = cbook.boxplot_stats(x, whis=whis, bootstrap=bootstrap,\n\u001b[0m\u001b[1;32m   3628\u001b[0m                                        labels=labels, autorange=autorange)\n\u001b[1;32m   3629\u001b[0m         \u001b[0;32mif\u001b[0m \u001b[0mnotch\u001b[0m \u001b[0;32mis\u001b[0m \u001b[0;32mNone\u001b[0m\u001b[0;34m:\u001b[0m\u001b[0;34m\u001b[0m\u001b[0;34m\u001b[0m\u001b[0m\n",
      "\u001b[0;32m~/anaconda3/lib/python3.8/site-packages/matplotlib/cbook/__init__.py\u001b[0m in \u001b[0;36mboxplot_stats\u001b[0;34m(X, whis, bootstrap, labels, autorange)\u001b[0m\n\u001b[1;32m   1169\u001b[0m         \u001b[0mlabels\u001b[0m \u001b[0;34m=\u001b[0m \u001b[0mitertools\u001b[0m\u001b[0;34m.\u001b[0m\u001b[0mrepeat\u001b[0m\u001b[0;34m(\u001b[0m\u001b[0;32mNone\u001b[0m\u001b[0;34m)\u001b[0m\u001b[0;34m\u001b[0m\u001b[0;34m\u001b[0m\u001b[0m\n\u001b[1;32m   1170\u001b[0m     \u001b[0;32melif\u001b[0m \u001b[0mlen\u001b[0m\u001b[0;34m(\u001b[0m\u001b[0mlabels\u001b[0m\u001b[0;34m)\u001b[0m \u001b[0;34m!=\u001b[0m \u001b[0mncols\u001b[0m\u001b[0;34m:\u001b[0m\u001b[0;34m\u001b[0m\u001b[0;34m\u001b[0m\u001b[0m\n\u001b[0;32m-> 1171\u001b[0;31m         \u001b[0;32mraise\u001b[0m \u001b[0mValueError\u001b[0m\u001b[0;34m(\u001b[0m\u001b[0;34m\"Dimensions of labels and X must be compatible\"\u001b[0m\u001b[0;34m)\u001b[0m\u001b[0;34m\u001b[0m\u001b[0;34m\u001b[0m\u001b[0m\n\u001b[0m\u001b[1;32m   1172\u001b[0m \u001b[0;34m\u001b[0m\u001b[0m\n\u001b[1;32m   1173\u001b[0m     \u001b[0minput_whis\u001b[0m \u001b[0;34m=\u001b[0m \u001b[0mwhis\u001b[0m\u001b[0;34m\u001b[0m\u001b[0;34m\u001b[0m\u001b[0m\n",
      "\u001b[0;31mValueError\u001b[0m: Dimensions of labels and X must be compatible"
     ]
    },
    {
     "data": {
      "image/png": "[encoded data removed]",
      "text/plain": [
       "<Figure size 432x432 with 1 Axes>"
      ]
     },
     "metadata": {
      "needs_background": "light"
     },
     "output_type": "display_data"
    }
   ],
   "source": [
    "# Using Seaborn\n",
    "# plt.figure(figsize=(6,6))\n",
    "# sns.boxplot(data=[two_thousand, two_thousand_one, two_thousand_two], \\\n",
    "#            labels=['2000 Songs', '2001 Songs', '2002 Songs'])\n",
    "# plt.title('Songs released in 2000-2002')\n",
    "# plt.show()"
   ]
  },
  {
   "cell_type": "code",
   "execution_count": null,
   "metadata": {},
   "outputs": [],
   "source": []
  },
  {
   "cell_type": "code",
   "execution_count": null,
   "metadata": {},
   "outputs": [],
   "source": []
  },
  {
   "cell_type": "code",
   "execution_count": 112,
   "metadata": {},
   "outputs": [
    {
     "data": {
      "image/png": "[encoded data removed]",
      "text/plain": [
       "<Figure size 432x432 with 1 Axes>"
      ]
     },
     "metadata": {
      "needs_background": "light"
     },
     "output_type": "display_data"
    }
   ],
   "source": [
    "# Using matlibplot\n",
    "plt.figure(figsize=(6,6))\n",
    "plt.boxplot([two_thousand, two_thousand_one, two_thousand_two], \\\n",
    "           labels=['2000 Songs', '2001 Songs', '2002 Songs'])\n",
    "plt.title('Songs released in 2000-2002')\n",
    "plt.show()"
   ]
  },
  {
   "cell_type": "code",
   "execution_count": 114,
   "metadata": {},
   "outputs": [
    {
     "data": {
      "image/png": "[encoded data removed]",
      "text/plain": [
       "<Figure size 432x288 with 1 Axes>"
      ]
     },
     "metadata": {
      "needs_background": "light"
     },
     "output_type": "display_data"
    },
    {
     "data": {
      "image/png": "[encoded data removed]",
      "text/plain": [
       "<Figure size 432x288 with 5 Axes>"
      ]
     },
     "metadata": {
      "needs_background": "light"
     },
     "output_type": "display_data"
    }
   ],
   "source": [
    "np.random.seed(1)\n",
    "\n",
    "\n",
    "a = np.random.normal(1, 1, 1000)\n",
    "b = np.random.normal(0, 3, 1000)\n",
    "c = np.random.normal(2, 1.5, 1000)\n",
    "d = np.random.normal(-4, 5, 1000)\n",
    "e = np.random.normal(5, 2, 1000)\n",
    "plt.boxplot([a,b,c,d,e])\n",
    "plt.show()\n",
    "plt.subplot(511)\n",
    "plt.hist(a)\n",
    "plt.xlim([-20,20])\n",
    "plt.subplot(512)\n",
    "plt.hist(b)\n",
    "plt.xlim([-20,20])\n",
    "plt.subplot(513)\n",
    "plt.hist(c)\n",
    "plt.xlim([-20,20])\n",
    "plt.subplot(514)\n",
    "plt.hist(d)\n",
    "plt.xlim([-20,20])\n",
    "plt.subplot(515)\n",
    "plt.hist(e)\n",
    "plt.xlim([-20,20])\n",
    "plt.tight_layout()\n",
    "plt.show()"
   ]
  },
  {
   "cell_type": "markdown",
   "metadata": {},
   "source": [
    "### Healthcare in Different States\n",
    "In this project, we will use boxplots to investigate the way hospitals in different states across the United States charge their patients for medical procedures.\n",
    "\n",
    "This dataset might look a bit familiar to you — we used it in our lesson about describing histograms. The data originally came from the United State Health and Human Services Department."
   ]
  },
  {
   "cell_type": "code",
   "execution_count": 116,
   "metadata": {},
   "outputs": [
    {
     "data": {
      "text/html": [
       "<div>\n",
       "<style scoped>\n",
       "    .dataframe tbody tr th:only-of-type {\n",
       "        vertical-align: middle;\n",
       "    }\n",
       "\n",
       "    .dataframe tbody tr th {\n",
       "        vertical-align: top;\n",
       "    }\n",
       "\n",
       "    .dataframe thead th {\n",
       "        text-align: right;\n",
       "    }\n",
       "</style>\n",
       "<table border=\"1\" class=\"dataframe\">\n",
       "  <thead>\n",
       "    <tr style=\"text-align: right;\">\n",
       "      <th></th>\n",
       "      <th>DRG Definition</th>\n",
       "      <th>Provider Id</th>\n",
       "      <th>Provider Name</th>\n",
       "      <th>Provider Street Address</th>\n",
       "      <th>Provider City</th>\n",
       "      <th>Provider State</th>\n",
       "      <th>Provider Zip Code</th>\n",
       "      <th>Hospital Referral Region Description</th>\n",
       "      <th>Total Discharges</th>\n",
       "      <th>Average Covered Charges</th>\n",
       "      <th>Average Total Payments</th>\n",
       "      <th>Average Medicare Payments</th>\n",
       "    </tr>\n",
       "  </thead>\n",
       "  <tbody>\n",
       "    <tr>\n",
       "      <th>0</th>\n",
       "      <td>039 - EXTRACRANIAL PROCEDURES W/O CC/MCC</td>\n",
       "      <td>10001</td>\n",
       "      <td>SOUTHEAST ALABAMA MEDICAL CENTER</td>\n",
       "      <td>1108 ROSS CLARK CIRCLE</td>\n",
       "      <td>DOTHAN</td>\n",
       "      <td>AL</td>\n",
       "      <td>36301</td>\n",
       "      <td>AL - Dothan</td>\n",
       "      <td>91</td>\n",
       "      <td>32963.07</td>\n",
       "      <td>5777.24</td>\n",
       "      <td>4763.73</td>\n",
       "    </tr>\n",
       "    <tr>\n",
       "      <th>1</th>\n",
       "      <td>039 - EXTRACRANIAL PROCEDURES W/O CC/MCC</td>\n",
       "      <td>10005</td>\n",
       "      <td>MARSHALL MEDICAL CENTER SOUTH</td>\n",
       "      <td>2505 U S HIGHWAY 431 NORTH</td>\n",
       "      <td>BOAZ</td>\n",
       "      <td>AL</td>\n",
       "      <td>35957</td>\n",
       "      <td>AL - Birmingham</td>\n",
       "      <td>14</td>\n",
       "      <td>15131.85</td>\n",
       "      <td>5787.57</td>\n",
       "      <td>4976.71</td>\n",
       "    </tr>\n",
       "    <tr>\n",
       "      <th>2</th>\n",
       "      <td>039 - EXTRACRANIAL PROCEDURES W/O CC/MCC</td>\n",
       "      <td>10006</td>\n",
       "      <td>ELIZA COFFEE MEMORIAL HOSPITAL</td>\n",
       "      <td>205 MARENGO STREET</td>\n",
       "      <td>FLORENCE</td>\n",
       "      <td>AL</td>\n",
       "      <td>35631</td>\n",
       "      <td>AL - Birmingham</td>\n",
       "      <td>24</td>\n",
       "      <td>37560.37</td>\n",
       "      <td>5434.95</td>\n",
       "      <td>4453.79</td>\n",
       "    </tr>\n",
       "    <tr>\n",
       "      <th>3</th>\n",
       "      <td>039 - EXTRACRANIAL PROCEDURES W/O CC/MCC</td>\n",
       "      <td>10011</td>\n",
       "      <td>ST VINCENT'S EAST</td>\n",
       "      <td>50 MEDICAL PARK EAST DRIVE</td>\n",
       "      <td>BIRMINGHAM</td>\n",
       "      <td>AL</td>\n",
       "      <td>35235</td>\n",
       "      <td>AL - Birmingham</td>\n",
       "      <td>25</td>\n",
       "      <td>13998.28</td>\n",
       "      <td>5417.56</td>\n",
       "      <td>4129.16</td>\n",
       "    </tr>\n",
       "    <tr>\n",
       "      <th>4</th>\n",
       "      <td>039 - EXTRACRANIAL PROCEDURES W/O CC/MCC</td>\n",
       "      <td>10016</td>\n",
       "      <td>SHELBY BAPTIST MEDICAL CENTER</td>\n",
       "      <td>1000 FIRST STREET NORTH</td>\n",
       "      <td>ALABASTER</td>\n",
       "      <td>AL</td>\n",
       "      <td>35007</td>\n",
       "      <td>AL - Birmingham</td>\n",
       "      <td>18</td>\n",
       "      <td>31633.27</td>\n",
       "      <td>5658.33</td>\n",
       "      <td>4851.44</td>\n",
       "    </tr>\n",
       "    <tr>\n",
       "      <th>...</th>\n",
       "      <td>...</td>\n",
       "      <td>...</td>\n",
       "      <td>...</td>\n",
       "      <td>...</td>\n",
       "      <td>...</td>\n",
       "      <td>...</td>\n",
       "      <td>...</td>\n",
       "      <td>...</td>\n",
       "      <td>...</td>\n",
       "      <td>...</td>\n",
       "      <td>...</td>\n",
       "      <td>...</td>\n",
       "    </tr>\n",
       "    <tr>\n",
       "      <th>163060</th>\n",
       "      <td>948 - SIGNS &amp; SYMPTOMS W/O MCC</td>\n",
       "      <td>670041</td>\n",
       "      <td>SETON MEDICAL CENTER WILLIAMSON</td>\n",
       "      <td>201 SETON PARKWAY</td>\n",
       "      <td>ROUND ROCK</td>\n",
       "      <td>TX</td>\n",
       "      <td>78664</td>\n",
       "      <td>TX - Austin</td>\n",
       "      <td>23</td>\n",
       "      <td>26314.39</td>\n",
       "      <td>3806.86</td>\n",
       "      <td>3071.39</td>\n",
       "    </tr>\n",
       "    <tr>\n",
       "      <th>163061</th>\n",
       "      <td>948 - SIGNS &amp; SYMPTOMS W/O MCC</td>\n",
       "      <td>670055</td>\n",
       "      <td>METHODIST STONE OAK HOSPITAL</td>\n",
       "      <td>1139 E SONTERRA BLVD</td>\n",
       "      <td>SAN ANTONIO</td>\n",
       "      <td>TX</td>\n",
       "      <td>78258</td>\n",
       "      <td>TX - San Antonio</td>\n",
       "      <td>11</td>\n",
       "      <td>21704.72</td>\n",
       "      <td>4027.36</td>\n",
       "      <td>2649.72</td>\n",
       "    </tr>\n",
       "    <tr>\n",
       "      <th>163062</th>\n",
       "      <td>948 - SIGNS &amp; SYMPTOMS W/O MCC</td>\n",
       "      <td>670056</td>\n",
       "      <td>SETON MEDICAL CENTER HAYS</td>\n",
       "      <td>6001 KYLE PKWY</td>\n",
       "      <td>KYLE</td>\n",
       "      <td>TX</td>\n",
       "      <td>78640</td>\n",
       "      <td>TX - Austin</td>\n",
       "      <td>19</td>\n",
       "      <td>39121.73</td>\n",
       "      <td>5704.36</td>\n",
       "      <td>4058.36</td>\n",
       "    </tr>\n",
       "    <tr>\n",
       "      <th>163063</th>\n",
       "      <td>948 - SIGNS &amp; SYMPTOMS W/O MCC</td>\n",
       "      <td>670060</td>\n",
       "      <td>TEXAS REGIONAL MEDICAL CENTER AT SUNNYVALE</td>\n",
       "      <td>231 SOUTH COLLINS ROAD</td>\n",
       "      <td>SUNNYVALE</td>\n",
       "      <td>TX</td>\n",
       "      <td>75182</td>\n",
       "      <td>TX - Dallas</td>\n",
       "      <td>11</td>\n",
       "      <td>28873.09</td>\n",
       "      <td>7663.09</td>\n",
       "      <td>6848.54</td>\n",
       "    </tr>\n",
       "    <tr>\n",
       "      <th>163064</th>\n",
       "      <td>948 - SIGNS &amp; SYMPTOMS W/O MCC</td>\n",
       "      <td>670068</td>\n",
       "      <td>TEXAS HEALTH PRESBYTERIAN HOSPITAL FLOWER MOUND</td>\n",
       "      <td>4400 LONG PRAIRIE ROAD</td>\n",
       "      <td>FLOWER MOUND</td>\n",
       "      <td>TX</td>\n",
       "      <td>75028</td>\n",
       "      <td>TX - Dallas</td>\n",
       "      <td>12</td>\n",
       "      <td>15042.00</td>\n",
       "      <td>3539.75</td>\n",
       "      <td>2887.41</td>\n",
       "    </tr>\n",
       "  </tbody>\n",
       "</table>\n",
       "<p>163065 rows × 12 columns</p>\n",
       "</div>"
      ],
      "text/plain": [
       "                                  DRG Definition  Provider Id  \\\n",
       "0       039 - EXTRACRANIAL PROCEDURES W/O CC/MCC        10001   \n",
       "1       039 - EXTRACRANIAL PROCEDURES W/O CC/MCC        10005   \n",
       "2       039 - EXTRACRANIAL PROCEDURES W/O CC/MCC        10006   \n",
       "3       039 - EXTRACRANIAL PROCEDURES W/O CC/MCC        10011   \n",
       "4       039 - EXTRACRANIAL PROCEDURES W/O CC/MCC        10016   \n",
       "...                                          ...          ...   \n",
       "163060            948 - SIGNS & SYMPTOMS W/O MCC       670041   \n",
       "163061            948 - SIGNS & SYMPTOMS W/O MCC       670055   \n",
       "163062            948 - SIGNS & SYMPTOMS W/O MCC       670056   \n",
       "163063            948 - SIGNS & SYMPTOMS W/O MCC       670060   \n",
       "163064            948 - SIGNS & SYMPTOMS W/O MCC       670068   \n",
       "\n",
       "                                          Provider Name  \\\n",
       "0                      SOUTHEAST ALABAMA MEDICAL CENTER   \n",
       "1                         MARSHALL MEDICAL CENTER SOUTH   \n",
       "2                        ELIZA COFFEE MEMORIAL HOSPITAL   \n",
       "3                                     ST VINCENT'S EAST   \n",
       "4                         SHELBY BAPTIST MEDICAL CENTER   \n",
       "...                                                 ...   \n",
       "163060                  SETON MEDICAL CENTER WILLIAMSON   \n",
       "163061                     METHODIST STONE OAK HOSPITAL   \n",
       "163062                        SETON MEDICAL CENTER HAYS   \n",
       "163063       TEXAS REGIONAL MEDICAL CENTER AT SUNNYVALE   \n",
       "163064  TEXAS HEALTH PRESBYTERIAN HOSPITAL FLOWER MOUND   \n",
       "\n",
       "           Provider Street Address Provider City Provider State  \\\n",
       "0           1108 ROSS CLARK CIRCLE        DOTHAN             AL   \n",
       "1       2505 U S HIGHWAY 431 NORTH          BOAZ             AL   \n",
       "2               205 MARENGO STREET      FLORENCE             AL   \n",
       "3       50 MEDICAL PARK EAST DRIVE    BIRMINGHAM             AL   \n",
       "4          1000 FIRST STREET NORTH     ALABASTER             AL   \n",
       "...                            ...           ...            ...   \n",
       "163060           201 SETON PARKWAY    ROUND ROCK             TX   \n",
       "163061        1139 E SONTERRA BLVD   SAN ANTONIO             TX   \n",
       "163062              6001 KYLE PKWY          KYLE             TX   \n",
       "163063      231 SOUTH COLLINS ROAD     SUNNYVALE             TX   \n",
       "163064      4400 LONG PRAIRIE ROAD  FLOWER MOUND             TX   \n",
       "\n",
       "        Provider Zip Code Hospital Referral Region Description  \\\n",
       "0                   36301                          AL - Dothan   \n",
       "1                   35957                      AL - Birmingham   \n",
       "2                   35631                      AL - Birmingham   \n",
       "3                   35235                      AL - Birmingham   \n",
       "4                   35007                      AL - Birmingham   \n",
       "...                   ...                                  ...   \n",
       "163060              78664                          TX - Austin   \n",
       "163061              78258                     TX - San Antonio   \n",
       "163062              78640                          TX - Austin   \n",
       "163063              75182                          TX - Dallas   \n",
       "163064              75028                          TX - Dallas   \n",
       "\n",
       "         Total Discharges    Average Covered Charges   \\\n",
       "0                       91                   32963.07   \n",
       "1                       14                   15131.85   \n",
       "2                       24                   37560.37   \n",
       "3                       25                   13998.28   \n",
       "4                       18                   31633.27   \n",
       "...                    ...                        ...   \n",
       "163060                  23                   26314.39   \n",
       "163061                  11                   21704.72   \n",
       "163062                  19                   39121.73   \n",
       "163063                  11                   28873.09   \n",
       "163064                  12                   15042.00   \n",
       "\n",
       "         Average Total Payments   Average Medicare Payments  \n",
       "0                        5777.24                    4763.73  \n",
       "1                        5787.57                    4976.71  \n",
       "2                        5434.95                    4453.79  \n",
       "3                        5417.56                    4129.16  \n",
       "4                        5658.33                    4851.44  \n",
       "...                          ...                        ...  \n",
       "163060                   3806.86                    3071.39  \n",
       "163061                   4027.36                    2649.72  \n",
       "163062                   5704.36                    4058.36  \n",
       "163063                   7663.09                    6848.54  \n",
       "163064                   3539.75                    2887.41  \n",
       "\n",
       "[163065 rows x 12 columns]"
      ]
     },
     "execution_count": 116,
     "metadata": {},
     "output_type": "execute_result"
    }
   ],
   "source": [
    "healthcare = pd.read_csv('healthcare.csv')\n",
    "healthcare"
   ]
  },
  {
   "cell_type": "code",
   "execution_count": 117,
   "metadata": {},
   "outputs": [
    {
     "data": {
      "text/plain": [
       "array(['039 - EXTRACRANIAL PROCEDURES W/O CC/MCC',\n",
       "       '057 - DEGENERATIVE NERVOUS SYSTEM DISORDERS W/O MCC',\n",
       "       '069 - TRANSIENT ISCHEMIA',\n",
       "       '064 - INTRACRANIAL HEMORRHAGE OR CEREBRAL INFARCTION W MCC',\n",
       "       '065 - INTRACRANIAL HEMORRHAGE OR CEREBRAL INFARCTION W CC',\n",
       "       '066 - INTRACRANIAL HEMORRHAGE OR CEREBRAL INFARCTION W/O CC/MCC',\n",
       "       '074 - CRANIAL & PERIPHERAL NERVE DISORDERS W/O MCC',\n",
       "       '101 - SEIZURES W/O MCC', '149 - DYSEQUILIBRIUM',\n",
       "       '176 - PULMONARY EMBOLISM W/O MCC',\n",
       "       '177 - RESPIRATORY INFECTIONS & INFLAMMATIONS W MCC',\n",
       "       '189 - PULMONARY EDEMA & RESPIRATORY FAILURE',\n",
       "       '178 - RESPIRATORY INFECTIONS & INFLAMMATIONS W CC',\n",
       "       '190 - CHRONIC OBSTRUCTIVE PULMONARY DISEASE W MCC',\n",
       "       '191 - CHRONIC OBSTRUCTIVE PULMONARY DISEASE W CC',\n",
       "       '193 - SIMPLE PNEUMONIA & PLEURISY W MCC',\n",
       "       '194 - SIMPLE PNEUMONIA & PLEURISY W CC',\n",
       "       '192 - CHRONIC OBSTRUCTIVE PULMONARY DISEASE W/O CC/MCC',\n",
       "       '195 - SIMPLE PNEUMONIA & PLEURISY W/O CC/MCC',\n",
       "       '202 - BRONCHITIS & ASTHMA W CC/MCC',\n",
       "       '203 - BRONCHITIS & ASTHMA W/O CC/MCC',\n",
       "       '207 - RESPIRATORY SYSTEM DIAGNOSIS W VENTILATOR SUPPORT 96+ HOURS',\n",
       "       '238 - MAJOR CARDIOVASC PROCEDURES W/O MCC',\n",
       "       '252 - OTHER VASCULAR PROCEDURES W MCC',\n",
       "       '253 - OTHER VASCULAR PROCEDURES W CC',\n",
       "       '208 - RESPIRATORY SYSTEM DIAGNOSIS W VENTILATOR SUPPORT <96 HOURS',\n",
       "       '254 - OTHER VASCULAR PROCEDURES W/O CC/MCC',\n",
       "       '291 - HEART FAILURE & SHOCK W MCC',\n",
       "       '243 - PERMANENT CARDIAC PACEMAKER IMPLANT W CC',\n",
       "       '244 - PERMANENT CARDIAC PACEMAKER IMPLANT W/O CC/MCC',\n",
       "       '246 - PERC CARDIOVASC PROC W DRUG-ELUTING STENT W MCC OR 4+ VESSELS/STENTS',\n",
       "       '247 - PERC CARDIOVASC PROC W DRUG-ELUTING STENT W/O MCC',\n",
       "       '249 - PERC CARDIOVASC PROC W NON-DRUG-ELUTING STENT W/O MCC',\n",
       "       '251 - PERC CARDIOVASC PROC W/O CORONARY ARTERY STENT W/O MCC',\n",
       "       '280 - ACUTE MYOCARDIAL INFARCTION, DISCHARGED ALIVE W MCC',\n",
       "       '292 - HEART FAILURE & SHOCK W CC',\n",
       "       '281 - ACUTE MYOCARDIAL INFARCTION, DISCHARGED ALIVE W CC',\n",
       "       '282 - ACUTE MYOCARDIAL INFARCTION, DISCHARGED ALIVE W/O CC/MCC',\n",
       "       '286 - CIRCULATORY DISORDERS EXCEPT AMI, W CARD CATH W MCC',\n",
       "       '287 - CIRCULATORY DISORDERS EXCEPT AMI, W CARD CATH W/O MCC',\n",
       "       '293 - HEART FAILURE & SHOCK W/O CC/MCC',\n",
       "       '300 - PERIPHERAL VASCULAR DISORDERS W CC',\n",
       "       '301 - PERIPHERAL VASCULAR DISORDERS W/O CC/MCC',\n",
       "       '303 - ATHEROSCLEROSIS W/O MCC', '305 - HYPERTENSION W/O MCC',\n",
       "       '308 - CARDIAC ARRHYTHMIA & CONDUCTION DISORDERS W MCC',\n",
       "       '312 - SYNCOPE & COLLAPSE',\n",
       "       '309 - CARDIAC ARRHYTHMIA & CONDUCTION DISORDERS W CC',\n",
       "       '310 - CARDIAC ARRHYTHMIA & CONDUCTION DISORDERS W/O CC/MCC',\n",
       "       '313 - CHEST PAIN',\n",
       "       '314 - OTHER CIRCULATORY SYSTEM DIAGNOSES W MCC',\n",
       "       '315 - OTHER CIRCULATORY SYSTEM DIAGNOSES W CC',\n",
       "       '330 - MAJOR SMALL & LARGE BOWEL PROCEDURES W CC',\n",
       "       '377 - G.I. HEMORRHAGE W MCC',\n",
       "       '329 - MAJOR SMALL & LARGE BOWEL PROCEDURES W MCC',\n",
       "       '372 - MAJOR GASTROINTESTINAL DISORDERS & PERITONEAL INFECTIONS W CC',\n",
       "       '378 - G.I. HEMORRHAGE W CC', '379 - G.I. HEMORRHAGE W/O CC/MCC',\n",
       "       '389 - G.I. OBSTRUCTION W CC', '390 - G.I. OBSTRUCTION W/O CC/MCC',\n",
       "       '391 - ESOPHAGITIS, GASTROENT & MISC DIGEST DISORDERS W MCC',\n",
       "       '394 - OTHER DIGESTIVE SYSTEM DIAGNOSES W CC',\n",
       "       '439 - DISORDERS OF PANCREAS EXCEPT MALIGNANCY W CC',\n",
       "       '392 - ESOPHAGITIS, GASTROENT & MISC DIGEST DISORDERS W/O MCC',\n",
       "       '460 - SPINAL FUSION EXCEPT CERVICAL W/O MCC',\n",
       "       '473 - CERVICAL SPINAL FUSION W/O CC/MCC',\n",
       "       '418 - LAPAROSCOPIC CHOLECYSTECTOMY W/O C.D.E. W CC',\n",
       "       '419 - LAPAROSCOPIC CHOLECYSTECTOMY W/O C.D.E. W/O CC/MCC',\n",
       "       '469 - MAJOR JOINT REPLACEMENT OR REATTACHMENT OF LOWER EXTREMITY W MCC',\n",
       "       '470 - MAJOR JOINT REPLACEMENT OR REATTACHMENT OF LOWER EXTREMITY W/O MCC',\n",
       "       '480 - HIP & FEMUR PROCEDURES EXCEPT MAJOR JOINT W MCC',\n",
       "       '481 - HIP & FEMUR PROCEDURES EXCEPT MAJOR JOINT W CC',\n",
       "       '536 - FRACTURES OF HIP & PELVIS W/O MCC',\n",
       "       '482 - HIP & FEMUR PROCEDURES EXCEPT MAJOR JOINT W/O CC/MCC',\n",
       "       '552 - MEDICAL BACK PROBLEMS W/O MCC',\n",
       "       '491 - BACK & NECK PROC EXC SPINAL FUSION W/O CC/MCC',\n",
       "       '563 - FX, SPRN, STRN & DISL EXCEPT FEMUR, HIP, PELVIS & THIGH W/O MCC',\n",
       "       '602 - CELLULITIS W MCC', '603 - CELLULITIS W/O MCC',\n",
       "       '638 - DIABETES W CC',\n",
       "       '640 - MISC DISORDERS OF NUTRITION,METABOLISM,FLUIDS/ELECTROLYTES W MCC',\n",
       "       '682 - RENAL FAILURE W MCC',\n",
       "       '641 - MISC DISORDERS OF NUTRITION,METABOLISM,FLUIDS/ELECTROLYTES W/O MCC',\n",
       "       '683 - RENAL FAILURE W CC', '684 - RENAL FAILURE W/O CC/MCC',\n",
       "       '689 - KIDNEY & URINARY TRACT INFECTIONS W MCC',\n",
       "       '690 - KIDNEY & URINARY TRACT INFECTIONS W/O MCC',\n",
       "       '811 - RED BLOOD CELL DISORDERS W MCC',\n",
       "       '698 - OTHER KIDNEY & URINARY TRACT DIAGNOSES W MCC',\n",
       "       '699 - OTHER KIDNEY & URINARY TRACT DIAGNOSES W CC',\n",
       "       '812 - RED BLOOD CELL DISORDERS W/O MCC',\n",
       "       '853 - INFECTIOUS & PARASITIC DISEASES W O.R. PROCEDURE W MCC',\n",
       "       '885 - PSYCHOSES',\n",
       "       '870 - SEPTICEMIA OR SEVERE SEPSIS W MV 96+ HOURS',\n",
       "       '871 - SEPTICEMIA OR SEVERE SEPSIS W/O MV 96+ HOURS W MCC',\n",
       "       '872 - SEPTICEMIA OR SEVERE SEPSIS W/O MV 96+ HOURS W/O MCC',\n",
       "       '897 - ALCOHOL/DRUG ABUSE OR DEPENDENCE W/O REHABILITATION THERAPY W/O MCC',\n",
       "       '948 - SIGNS & SYMPTOMS W/O MCC',\n",
       "       '917 - POISONING & TOXIC EFFECTS OF DRUGS W MCC',\n",
       "       '918 - POISONING & TOXIC EFFECTS OF DRUGS W/O MCC'], dtype=object)"
      ]
     },
     "execution_count": 117,
     "metadata": {},
     "output_type": "execute_result"
    }
   ],
   "source": [
    "healthcare['DRG Definition'].unique()\n",
    "# DRG Definition: 313 - Chest Pain"
   ]
  },
  {
   "cell_type": "code",
   "execution_count": 119,
   "metadata": {
    "collapsed": true
   },
   "outputs": [
    {
     "data": {
      "text/html": [
       "<div>\n",
       "<style scoped>\n",
       "    .dataframe tbody tr th:only-of-type {\n",
       "        vertical-align: middle;\n",
       "    }\n",
       "\n",
       "    .dataframe tbody tr th {\n",
       "        vertical-align: top;\n",
       "    }\n",
       "\n",
       "    .dataframe thead th {\n",
       "        text-align: right;\n",
       "    }\n",
       "</style>\n",
       "<table border=\"1\" class=\"dataframe\">\n",
       "  <thead>\n",
       "    <tr style=\"text-align: right;\">\n",
       "      <th></th>\n",
       "      <th>DRG Definition</th>\n",
       "      <th>Provider Id</th>\n",
       "      <th>Provider Name</th>\n",
       "      <th>Provider Street Address</th>\n",
       "      <th>Provider City</th>\n",
       "      <th>Provider State</th>\n",
       "      <th>Provider Zip Code</th>\n",
       "      <th>Hospital Referral Region Description</th>\n",
       "      <th>Total Discharges</th>\n",
       "      <th>Average Covered Charges</th>\n",
       "      <th>Average Total Payments</th>\n",
       "      <th>Average Medicare Payments</th>\n",
       "    </tr>\n",
       "  </thead>\n",
       "  <tbody>\n",
       "    <tr>\n",
       "      <th>80531</th>\n",
       "      <td>313 - CHEST PAIN</td>\n",
       "      <td>220108</td>\n",
       "      <td>MILTON HOSPITAL INC</td>\n",
       "      <td>199 REEDSDALE ROAD</td>\n",
       "      <td>MILTON</td>\n",
       "      <td>MA</td>\n",
       "      <td>2186</td>\n",
       "      <td>MA - Boston</td>\n",
       "      <td>43</td>\n",
       "      <td>6760.53</td>\n",
       "      <td>3547.00</td>\n",
       "      <td>2633.04</td>\n",
       "    </tr>\n",
       "    <tr>\n",
       "      <th>82205</th>\n",
       "      <td>313 - CHEST PAIN</td>\n",
       "      <td>10001</td>\n",
       "      <td>SOUTHEAST ALABAMA MEDICAL CENTER</td>\n",
       "      <td>1108 ROSS CLARK CIRCLE</td>\n",
       "      <td>DOTHAN</td>\n",
       "      <td>AL</td>\n",
       "      <td>36301</td>\n",
       "      <td>AL - Dothan</td>\n",
       "      <td>36</td>\n",
       "      <td>19540.55</td>\n",
       "      <td>3428.58</td>\n",
       "      <td>2093.38</td>\n",
       "    </tr>\n",
       "    <tr>\n",
       "      <th>82206</th>\n",
       "      <td>313 - CHEST PAIN</td>\n",
       "      <td>10006</td>\n",
       "      <td>ELIZA COFFEE MEMORIAL HOSPITAL</td>\n",
       "      <td>205 MARENGO STREET</td>\n",
       "      <td>FLORENCE</td>\n",
       "      <td>AL</td>\n",
       "      <td>35631</td>\n",
       "      <td>AL - Birmingham</td>\n",
       "      <td>13</td>\n",
       "      <td>20241.84</td>\n",
       "      <td>3849.76</td>\n",
       "      <td>1704.53</td>\n",
       "    </tr>\n",
       "    <tr>\n",
       "      <th>82207</th>\n",
       "      <td>313 - CHEST PAIN</td>\n",
       "      <td>10007</td>\n",
       "      <td>MIZELL MEMORIAL HOSPITAL</td>\n",
       "      <td>702 N MAIN ST</td>\n",
       "      <td>OPP</td>\n",
       "      <td>AL</td>\n",
       "      <td>36467</td>\n",
       "      <td>AL - Dothan</td>\n",
       "      <td>34</td>\n",
       "      <td>6417.20</td>\n",
       "      <td>2808.08</td>\n",
       "      <td>1872.38</td>\n",
       "    </tr>\n",
       "    <tr>\n",
       "      <th>82208</th>\n",
       "      <td>313 - CHEST PAIN</td>\n",
       "      <td>10011</td>\n",
       "      <td>ST VINCENT'S EAST</td>\n",
       "      <td>50 MEDICAL PARK EAST DRIVE</td>\n",
       "      <td>BIRMINGHAM</td>\n",
       "      <td>AL</td>\n",
       "      <td>35235</td>\n",
       "      <td>AL - Birmingham</td>\n",
       "      <td>33</td>\n",
       "      <td>13311.78</td>\n",
       "      <td>2997.00</td>\n",
       "      <td>2113.84</td>\n",
       "    </tr>\n",
       "    <tr>\n",
       "      <th>...</th>\n",
       "      <td>...</td>\n",
       "      <td>...</td>\n",
       "      <td>...</td>\n",
       "      <td>...</td>\n",
       "      <td>...</td>\n",
       "      <td>...</td>\n",
       "      <td>...</td>\n",
       "      <td>...</td>\n",
       "      <td>...</td>\n",
       "      <td>...</td>\n",
       "      <td>...</td>\n",
       "      <td>...</td>\n",
       "    </tr>\n",
       "    <tr>\n",
       "      <th>84429</th>\n",
       "      <td>313 - CHEST PAIN</td>\n",
       "      <td>670047</td>\n",
       "      <td>SIERRA PROVIDENCE EAST MEDICAL CENTER</td>\n",
       "      <td>3280 JOE BATTLE BLVD</td>\n",
       "      <td>EL PASO</td>\n",
       "      <td>TX</td>\n",
       "      <td>79938</td>\n",
       "      <td>TX - El Paso</td>\n",
       "      <td>17</td>\n",
       "      <td>33585.05</td>\n",
       "      <td>3373.11</td>\n",
       "      <td>2364.82</td>\n",
       "    </tr>\n",
       "    <tr>\n",
       "      <th>84430</th>\n",
       "      <td>313 - CHEST PAIN</td>\n",
       "      <td>670055</td>\n",
       "      <td>METHODIST STONE OAK HOSPITAL</td>\n",
       "      <td>1139 E SONTERRA BLVD</td>\n",
       "      <td>SAN ANTONIO</td>\n",
       "      <td>TX</td>\n",
       "      <td>78258</td>\n",
       "      <td>TX - San Antonio</td>\n",
       "      <td>32</td>\n",
       "      <td>20531.43</td>\n",
       "      <td>3281.03</td>\n",
       "      <td>2207.06</td>\n",
       "    </tr>\n",
       "    <tr>\n",
       "      <th>84431</th>\n",
       "      <td>313 - CHEST PAIN</td>\n",
       "      <td>670056</td>\n",
       "      <td>SETON MEDICAL CENTER HAYS</td>\n",
       "      <td>6001 KYLE PKWY</td>\n",
       "      <td>KYLE</td>\n",
       "      <td>TX</td>\n",
       "      <td>78640</td>\n",
       "      <td>TX - Austin</td>\n",
       "      <td>85</td>\n",
       "      <td>21945.35</td>\n",
       "      <td>3869.09</td>\n",
       "      <td>2584.02</td>\n",
       "    </tr>\n",
       "    <tr>\n",
       "      <th>84432</th>\n",
       "      <td>313 - CHEST PAIN</td>\n",
       "      <td>670060</td>\n",
       "      <td>TEXAS REGIONAL MEDICAL CENTER AT SUNNYVALE</td>\n",
       "      <td>231 SOUTH COLLINS ROAD</td>\n",
       "      <td>SUNNYVALE</td>\n",
       "      <td>TX</td>\n",
       "      <td>75182</td>\n",
       "      <td>TX - Dallas</td>\n",
       "      <td>65</td>\n",
       "      <td>20926.73</td>\n",
       "      <td>5764.53</td>\n",
       "      <td>4880.78</td>\n",
       "    </tr>\n",
       "    <tr>\n",
       "      <th>84433</th>\n",
       "      <td>313 - CHEST PAIN</td>\n",
       "      <td>670071</td>\n",
       "      <td>TEXAS HEALTH HEART &amp; VASCULAR HOSPITAL ARLINGTON</td>\n",
       "      <td>811 WRIGHT STREET</td>\n",
       "      <td>ARLINGTON</td>\n",
       "      <td>TX</td>\n",
       "      <td>76012</td>\n",
       "      <td>TX - Fort Worth</td>\n",
       "      <td>14</td>\n",
       "      <td>12660.35</td>\n",
       "      <td>2731.00</td>\n",
       "      <td>1679.85</td>\n",
       "    </tr>\n",
       "  </tbody>\n",
       "</table>\n",
       "<p>2230 rows × 12 columns</p>\n",
       "</div>"
      ],
      "text/plain": [
       "         DRG Definition  Provider Id  \\\n",
       "80531  313 - CHEST PAIN       220108   \n",
       "82205  313 - CHEST PAIN        10001   \n",
       "82206  313 - CHEST PAIN        10006   \n",
       "82207  313 - CHEST PAIN        10007   \n",
       "82208  313 - CHEST PAIN        10011   \n",
       "...                 ...          ...   \n",
       "84429  313 - CHEST PAIN       670047   \n",
       "84430  313 - CHEST PAIN       670055   \n",
       "84431  313 - CHEST PAIN       670056   \n",
       "84432  313 - CHEST PAIN       670060   \n",
       "84433  313 - CHEST PAIN       670071   \n",
       "\n",
       "                                          Provider Name  \\\n",
       "80531                               MILTON HOSPITAL INC   \n",
       "82205                  SOUTHEAST ALABAMA MEDICAL CENTER   \n",
       "82206                    ELIZA COFFEE MEMORIAL HOSPITAL   \n",
       "82207                          MIZELL MEMORIAL HOSPITAL   \n",
       "82208                                 ST VINCENT'S EAST   \n",
       "...                                                 ...   \n",
       "84429             SIERRA PROVIDENCE EAST MEDICAL CENTER   \n",
       "84430                      METHODIST STONE OAK HOSPITAL   \n",
       "84431                         SETON MEDICAL CENTER HAYS   \n",
       "84432        TEXAS REGIONAL MEDICAL CENTER AT SUNNYVALE   \n",
       "84433  TEXAS HEALTH HEART & VASCULAR HOSPITAL ARLINGTON   \n",
       "\n",
       "          Provider Street Address Provider City Provider State  \\\n",
       "80531          199 REEDSDALE ROAD        MILTON             MA   \n",
       "82205      1108 ROSS CLARK CIRCLE        DOTHAN             AL   \n",
       "82206          205 MARENGO STREET      FLORENCE             AL   \n",
       "82207               702 N MAIN ST           OPP             AL   \n",
       "82208  50 MEDICAL PARK EAST DRIVE    BIRMINGHAM             AL   \n",
       "...                           ...           ...            ...   \n",
       "84429        3280 JOE BATTLE BLVD       EL PASO             TX   \n",
       "84430        1139 E SONTERRA BLVD   SAN ANTONIO             TX   \n",
       "84431              6001 KYLE PKWY          KYLE             TX   \n",
       "84432      231 SOUTH COLLINS ROAD     SUNNYVALE             TX   \n",
       "84433           811 WRIGHT STREET     ARLINGTON             TX   \n",
       "\n",
       "       Provider Zip Code Hospital Referral Region Description  \\\n",
       "80531               2186                          MA - Boston   \n",
       "82205              36301                          AL - Dothan   \n",
       "82206              35631                      AL - Birmingham   \n",
       "82207              36467                          AL - Dothan   \n",
       "82208              35235                      AL - Birmingham   \n",
       "...                  ...                                  ...   \n",
       "84429              79938                         TX - El Paso   \n",
       "84430              78258                     TX - San Antonio   \n",
       "84431              78640                          TX - Austin   \n",
       "84432              75182                          TX - Dallas   \n",
       "84433              76012                      TX - Fort Worth   \n",
       "\n",
       "        Total Discharges    Average Covered Charges   \\\n",
       "80531                  43                    6760.53   \n",
       "82205                  36                   19540.55   \n",
       "82206                  13                   20241.84   \n",
       "82207                  34                    6417.20   \n",
       "82208                  33                   13311.78   \n",
       "...                   ...                        ...   \n",
       "84429                  17                   33585.05   \n",
       "84430                  32                   20531.43   \n",
       "84431                  85                   21945.35   \n",
       "84432                  65                   20926.73   \n",
       "84433                  14                   12660.35   \n",
       "\n",
       "        Average Total Payments   Average Medicare Payments  \n",
       "80531                   3547.00                    2633.04  \n",
       "82205                   3428.58                    2093.38  \n",
       "82206                   3849.76                    1704.53  \n",
       "82207                   2808.08                    1872.38  \n",
       "82208                   2997.00                    2113.84  \n",
       "...                         ...                        ...  \n",
       "84429                   3373.11                    2364.82  \n",
       "84430                   3281.03                    2207.06  \n",
       "84431                   3869.09                    2584.02  \n",
       "84432                   5764.53                    4880.78  \n",
       "84433                   2731.00                    1679.85  \n",
       "\n",
       "[2230 rows x 12 columns]"
      ]
     },
     "execution_count": 119,
     "metadata": {},
     "output_type": "execute_result"
    }
   ],
   "source": [
    "chest_pain = healthcare[healthcare['DRG Definition'] == '313 - CHEST PAIN']\n",
    "chest_pain"
   ]
  },
  {
   "cell_type": "code",
   "execution_count": 121,
   "metadata": {},
   "outputs": [
    {
     "data": {
      "text/plain": [
       "52"
      ]
     },
     "execution_count": 121,
     "metadata": {},
     "output_type": "execute_result"
    }
   ],
   "source": [
    "alabama_chest_pain = chest_pain[chest_pain['Provider State'] == 'AL']\n",
    "alabama_chest_pain\n",
    "len(alabama_chest_pain)"
   ]
  },
  {
   "cell_type": "code",
   "execution_count": 127,
   "metadata": {},
   "outputs": [
    {
     "data": {
      "text/plain": [
       "14284.19346153846"
      ]
     },
     "execution_count": 127,
     "metadata": {},
     "output_type": "execute_result"
    }
   ],
   "source": [
    "costs = alabama_chest_pain[' Average Covered Charges '].values\n",
    "costs.mean()"
   ]
  },
  {
   "cell_type": "code",
   "execution_count": 132,
   "metadata": {},
   "outputs": [
    {
     "data": {
      "image/png": "[encoded data removed]",
      "text/plain": [
       "<Figure size 432x288 with 1 Axes>"
      ]
     },
     "metadata": {
      "needs_background": "light"
     },
     "output_type": "display_data"
    }
   ],
   "source": [
    "plt.boxplot([costs], labels=['AL'])\n",
    "plt.show()"
   ]
  },
  {
   "cell_type": "markdown",
   "metadata": {},
   "source": [
    "Make a boxplot for every state!"
   ]
  },
  {
   "cell_type": "code",
   "execution_count": 140,
   "metadata": {},
   "outputs": [],
   "source": [
    "# Make a list of al the states\n",
    "states = healthcare['Provider State'].unique()\n",
    "datasets = []\n",
    "for state in states:\n",
    "    datasets.append(chest_pain[chest_pain['Provider State'] == state][' Average Covered Charges '].values)"
   ]
  },
  {
   "cell_type": "code",
   "execution_count": 144,
   "metadata": {},
   "outputs": [
    {
     "data": {
      "image/png": "[encoded data removed]",
      "text/plain": [
       "<Figure size 1440x432 with 1 Axes>"
      ]
     },
     "metadata": {
      "needs_background": "light"
     },
     "output_type": "display_data"
    }
   ],
   "source": [
    "plt.figure(figsize=(20,6))\n",
    "plt.boxplot(datasets, labels=states)\n",
    "plt.title('Covered Costs for Chest Pain')\n",
    "plt.ylabel('Covered Cost')\n",
    "plt.show()"
   ]
  },
  {
   "cell_type": "code",
   "execution_count": null,
   "metadata": {},
   "outputs": [],
   "source": []
  }
 ],
 "metadata": {
  "kernelspec": {
   "display_name": "Python 3",
   "language": "python",
   "name": "python3"
  },
  "language_info": {
   "codemirror_mode": {
    "name": "ipython",
    "version": 3
   },
   "file_extension": ".py",
   "mimetype": "text/x-python",
   "name": "python",
   "nbconvert_exporter": "python",
   "pygments_lexer": "ipython3",
   "version": "3.8.5"
  }
 },
 "nbformat": 4,
 "nbformat_minor": 4
}
